{
 "cells": [
  {
   "cell_type": "code",
   "execution_count": 25,
   "id": "87687b34-27fd-41c6-bb76-c10f0031dcd0",
   "metadata": {},
   "outputs": [],
   "source": [
    "import numpy as np\n",
    "from math import log2\n",
    "import itertools"
   ]
  },
  {
   "cell_type": "code",
   "execution_count": 112,
   "id": "6af02cac-8fbd-4fc7-8497-37651a27528a",
   "metadata": {},
   "outputs": [],
   "source": [
    "# Very simple CN2 learner that takes a single attribute per rule\n",
    "# TBD - generalise to a learner that takes a conjunction of attributes per rule upto some depth\n",
    "\n",
    "class CN2:\n",
    "    \n",
    "    class Rule:\n",
    "        def __init__(self, attribute, operator, threshold, classes, default_class):\n",
    "            self.attribute = attribute\n",
    "            self.operator = operator\n",
    "            self.threshold = threshold\n",
    "            self.classes = classes\n",
    "            self.default_class = default_class\n",
    "            self.class_counts = np.zeros(len(classes))\n",
    "            self.strength = 0\n",
    "            self.class_label = default_class\n",
    "\n",
    "        def applies(self, example):\n",
    "            value = example[self.attribute]\n",
    "            if self.operator == \"==\":\n",
    "                return value == self.threshold\n",
    "            elif self.operator == \">\":\n",
    "                return value > self.threshold\n",
    "            elif self.operator == \"<\":\n",
    "                return value < self.threshold\n",
    "            elif self.operator == \">=\":\n",
    "                return value >= self.threshold\n",
    "            elif self.operator == \"<=\":\n",
    "                return value <= self.threshold\n",
    "            else:\n",
    "                raise ValueError(\"Invalid operator: {}\".format(self.operator))\n",
    "\n",
    "        def update_counts(self, example):\n",
    "            class_label = example[-1]\n",
    "            index = np.where(self.classes == class_label)\n",
    "            self.class_counts[index] += 1\n",
    "\n",
    "    def __init__(self,significance=0.5,min_coverage=2,max_depth=2):\n",
    "        self.significance = significance\n",
    "        self.min_coverage = min_coverage\n",
    "        self.rules = []\n",
    "        self.max_depth=max_depth\n",
    "\n",
    "    def learn(self, data, target):\n",
    "        self.rules = []\n",
    "        self.classes = np.unique(target)\n",
    "        self.attributes = list(range(data.shape[1]))\n",
    "        self.examples = np.hstack((data, target.reshape(-1, 1)))\n",
    "        self.default_class = np.argmax(np.bincount(target))\n",
    "\n",
    "        while len(self.examples) > 0:\n",
    "            rule = self.get_best_rule(self.examples)\n",
    "            if rule is None:\n",
    "                break\n",
    "            self.rules.append(rule)\n",
    "            covered_examples = self.apply_rule(rule, self.examples)\n",
    "            self.examples = np.delete(self.examples, covered_examples, axis=0)\n",
    "\n",
    "    def gen_candidates(self,data,target):\n",
    "        self.attributes = list(range(data.shape[1]))\n",
    "        self.examples = np.hstack((data, target.reshape(-1, 1)))\n",
    "        examples=self.examples\n",
    "        conditions=[]\n",
    "        for attribute in self.attributes:\n",
    "            attribute_values = np.unique(examples[:, attribute])\n",
    "            for value in attribute_values:\n",
    "                for operator in [\"==\", \">\", \"<\", \">=\", \"<=\"]:\n",
    "                    conditions+=[(attribute,operator,value)]\n",
    "        candidates=[[c] for c in conditions]\n",
    "        for d in range(self.max_depth):\n",
    "            new_candidates=[]\n",
    "            for c in conditions: \n",
    "                new_candidates+=[cd+[c] for cd in candidates if c not in cd]\n",
    "            candidates+=new_candidates\n",
    "            print(d,len(candidates),len(new_candidates))\n",
    "        self.candidates=candidates\n",
    "        return \n",
    "\n",
    "    # def get_best_rule(self, examples):\n",
    "    #     best_rule = None\n",
    "    #     best_score = -1\n",
    "    #     rule = DeepRule([], self.classes, self.default_class)\n",
    "    #     conditions=[]\n",
    "    #     candidates=[]\n",
    "    #     for attribute in self.attributes:\n",
    "    #         attribute_values = np.unique(examples[:, attribute])\n",
    "    #         for value in attribute_values:\n",
    "    #             for operator in [\"==\", \">\", \"<\", \">=\", \"<=\"]:\n",
    "    #                 conditions+=[(attribute,operator,value)]\n",
    "    #     for d in range(self.max_depth):\n",
    "    #         for c in conditions: \n",
    "    #             new_candidates=[cd+c for c in conditions if c not in cd]\n",
    "    #             candidates+=new_candidates\n",
    "    #                 pre_conditions=rule.conditions\n",
    "    #                 if len(pre_conditions)<self.max_depth\n",
    "    #                 rule.conditions += [(attribute,operator,value)]\n",
    "    #                 covered_examples = self.apply_rule(rule, examples)\n",
    "    #                 print(rule.conditions,len(covered_examples))\n",
    "    #                 if len(covered_examples) < self.min_coverage:\n",
    "    #                     rule.conditions=pre_conditions\n",
    "    #                     continue\n",
    "    #                 score = self.calculate_score(examples,covered_examples,rule)\n",
    "    #                 print(score)\n",
    "    #                 if score > best_score:\n",
    "    #                     best_score = score\n",
    "    #     if best_score < self.significance:\n",
    "    #         return None\n",
    "    #     return best_rule\n",
    "\n",
    "    def apply_rule(self, rule, examples):\n",
    "        mask = np.array([rule.applies(example) for example in examples])\n",
    "        return np.where(mask)[0]\n",
    "\n",
    "    def calculate_score(self, examples, covered_examples, rule):\n",
    "        covered_targets=examples[covered_examples,-1]\n",
    "        class_counts=np.bincount([int(c) for c in list(covered_targets)])\n",
    "        rule.class_label=np.argmax(class_counts)\n",
    "        index = np.where(self.classes == rule.class_label)\n",
    "        for ce in examples[covered_examples]:\n",
    "            rule.update_counts(ce)\n",
    "        rule.strength = np.sum(rule.class_counts[index])/np.sum(rule.class_counts)\n",
    "        return rule.strength\n",
    "    \n",
    "    def predict(self,example):\n",
    "        for rule in self.rules:\n",
    "            if rule.applies(example):\n",
    "                return rule.class_label\n",
    "                break\n",
    "            else:\n",
    "                return self.default_class\n"
   ]
  },
  {
   "cell_type": "code",
   "execution_count": 113,
   "id": "47a0c0d1-9f0e-411e-9a1f-3e698ecf3e43",
   "metadata": {},
   "outputs": [],
   "source": [
    "### To be completed and tested in a proper CN2 implementetion modifying above\n",
    "class DeepRule:\n",
    "    def __init__(self, conditions, classes, default_class):\n",
    "        self.conditions = conditions\n",
    "        self.classes = classes\n",
    "        self.default_class = default_class\n",
    "        self.class_counts = np.zeros(len(classes))\n",
    "        self.strength = 0\n",
    "        self.class_label = default_class\n",
    "\n",
    "    def applies(self, example):\n",
    "        for attr, op, threshold in self.conditions:\n",
    "            if op == '<=':\n",
    "                if example[attr] > threshold:\n",
    "                    return False\n",
    "            elif op == '>=':\n",
    "                if example[attr] < threshold:\n",
    "                    return False\n",
    "            elif op == '<':\n",
    "                if example[attr] >= threshold:\n",
    "                    return False\n",
    "            elif op == '>':\n",
    "                if example[attr] <= threshold:\n",
    "                    return False\n",
    "        return True\n",
    "\n",
    "    def update_counts(self, example):\n",
    "        class_label = example[-1]\n",
    "        index = np.where(self.classes == class_label)\n",
    "        self.class_counts[index] += 1\n",
    "\n",
    "    def get_score(self, class_freqs, target_class_freqs):\n",
    "        score = 0\n",
    "        for class_label, freq in class_freqs.items():\n",
    "            if freq > 0:\n",
    "                p = freq / len(self.examples)\n",
    "                e = target_class_freqs[class_label] / len(self.examples)\n",
    "                score += freq * np.log2(p / e)\n",
    "        return score\n",
    "\n",
    "    def is_valid(self, attr, op, threshold, class_freqs, target_class_freqs, min_coverage):\n",
    "        new_conditions = self.conditions + [(attr, op, threshold)]\n",
    "        new_examples = [e for e in self.examples if self.applies(e[0])]\n",
    "        if len(new_examples) < min_coverage:\n",
    "            return False\n",
    "        new_class_freqs = defaultdict(int)\n",
    "        for _, y in new_examples:\n",
    "            new_class_freqs[y] += 1\n",
    "        if len(new_class_freqs) < len(class_freqs):\n",
    "            return False\n",
    "        new_score = self.get_score(new_class_freqs, target_class_freqs)\n",
    "        return new_score > self.score\n",
    "\n",
    "    def __repr__(self):\n",
    "        return ' AND '.join([f'{attr} {op} {threshold}' for attr, op, threshold in self.conditions]) + f' => {self.class_label}'\n"
   ]
  },
  {
   "cell_type": "code",
   "execution_count": 3,
   "id": "39e020fd-f494-467c-8923-c482f670001d",
   "metadata": {
    "tags": []
   },
   "outputs": [
    {
     "ename": "NameError",
     "evalue": "name 'CN2' is not defined",
     "output_type": "error",
     "traceback": [
      "\u001b[0;31m---------------------------------------------------------------------------\u001b[0m",
      "\u001b[0;31mNameError\u001b[0m                                 Traceback (most recent call last)",
      "\u001b[0;32m/var/folders/jz/466kbks91q3glsb0kx0kfwk80000gq/T/ipykernel_6243/707953619.py\u001b[0m in \u001b[0;36m<module>\u001b[0;34m\u001b[0m\n\u001b[1;32m     12\u001b[0m \u001b[0;34m\u001b[0m\u001b[0m\n\u001b[1;32m     13\u001b[0m \u001b[0;31m# Initialize the CN2 algorithm\u001b[0m\u001b[0;34m\u001b[0m\u001b[0;34m\u001b[0m\u001b[0;34m\u001b[0m\u001b[0m\n\u001b[0;32m---> 14\u001b[0;31m \u001b[0mcn2\u001b[0m \u001b[0;34m=\u001b[0m \u001b[0mCN2\u001b[0m\u001b[0;34m(\u001b[0m\u001b[0msignificance\u001b[0m\u001b[0;34m=\u001b[0m\u001b[0;36m0.9\u001b[0m\u001b[0;34m,\u001b[0m \u001b[0mmin_coverage\u001b[0m\u001b[0;34m=\u001b[0m\u001b[0;36m30\u001b[0m\u001b[0;34m)\u001b[0m\u001b[0;34m\u001b[0m\u001b[0;34m\u001b[0m\u001b[0m\n\u001b[0m\u001b[1;32m     15\u001b[0m \u001b[0;34m\u001b[0m\u001b[0m\n\u001b[1;32m     16\u001b[0m \u001b[0;31m# Learn the rules from the training data\u001b[0m\u001b[0;34m\u001b[0m\u001b[0;34m\u001b[0m\u001b[0;34m\u001b[0m\u001b[0m\n",
      "\u001b[0;31mNameError\u001b[0m: name 'CN2' is not defined"
     ]
    }
   ],
   "source": [
    "from sklearn.datasets import load_iris\n",
    "from sklearn.model_selection import train_test_split\n",
    "from sklearn.metrics import accuracy_score\n",
    "\n",
    "# Load the Iris dataset\n",
    "iris = load_iris()\n",
    "data = iris.data\n",
    "target = iris.target\n",
    "\n",
    "# Split the data into training and testing sets\n",
    "X_train, X_test, y_train, y_test = train_test_split(data, target, test_size=0.2, random_state=42)\n",
    "\n",
    "# Initialize the CN2 algorithm\n",
    "cn2 = CN2(significance=0.9, min_coverage=30)\n",
    "\n",
    "# Learn the rules from the training data\n",
    "# cn2.learn(X_train, y_train)"
   ]
  },
  {
   "cell_type": "code",
   "execution_count": 4,
   "id": "372b176d-5d3a-44e6-809a-69986b422e31",
   "metadata": {
    "tags": []
   },
   "outputs": [
    {
     "data": {
      "text/plain": [
       "array([[6.1, 2.8, 4.7, 1.2],\n",
       "       [5.7, 3.8, 1.7, 0.3],\n",
       "       [7.7, 2.6, 6.9, 2.3],\n",
       "       [6. , 2.9, 4.5, 1.5],\n",
       "       [6.8, 2.8, 4.8, 1.4],\n",
       "       [5.4, 3.4, 1.5, 0.4],\n",
       "       [5.6, 2.9, 3.6, 1.3],\n",
       "       [6.9, 3.1, 5.1, 2.3],\n",
       "       [6.2, 2.2, 4.5, 1.5],\n",
       "       [5.8, 2.7, 3.9, 1.2],\n",
       "       [6.5, 3.2, 5.1, 2. ],\n",
       "       [4.8, 3. , 1.4, 0.1],\n",
       "       [5.5, 3.5, 1.3, 0.2],\n",
       "       [4.9, 3.1, 1.5, 0.1],\n",
       "       [5.1, 3.8, 1.5, 0.3],\n",
       "       [6.3, 3.3, 4.7, 1.6],\n",
       "       [6.5, 3. , 5.8, 2.2],\n",
       "       [5.6, 2.5, 3.9, 1.1],\n",
       "       [5.7, 2.8, 4.5, 1.3],\n",
       "       [6.4, 2.8, 5.6, 2.2],\n",
       "       [4.7, 3.2, 1.6, 0.2],\n",
       "       [6.1, 3. , 4.9, 1.8],\n",
       "       [5. , 3.4, 1.6, 0.4],\n",
       "       [6.4, 2.8, 5.6, 2.1],\n",
       "       [7.9, 3.8, 6.4, 2. ],\n",
       "       [6.7, 3. , 5.2, 2.3],\n",
       "       [6.7, 2.5, 5.8, 1.8],\n",
       "       [6.8, 3.2, 5.9, 2.3],\n",
       "       [4.8, 3. , 1.4, 0.3],\n",
       "       [4.8, 3.1, 1.6, 0.2]])"
      ]
     },
     "execution_count": 4,
     "metadata": {},
     "output_type": "execute_result"
    }
   ],
   "source": [
    "X_test"
   ]
  },
  {
   "cell_type": "code",
   "execution_count": null,
   "id": "cb58f8d5-3774-4c6d-967b-03e1f471135e",
   "metadata": {
    "tags": []
   },
   "outputs": [
    {
     "name": "stdout",
     "output_type": "stream",
     "text": [
      "0 354025 353430\n"
     ]
    }
   ],
   "source": [
    "cn2.gen_candidates(X_train,y_train)"
   ]
  },
  {
   "cell_type": "code",
   "execution_count": null,
   "id": "bfe6678d-9a5e-449b-adb8-0a754c0aa9a6",
   "metadata": {
    "tags": []
   },
   "outputs": [],
   "source": [
    "print(cn2.candidates[0])"
   ]
  },
  {
   "cell_type": "code",
   "execution_count": 1,
   "id": "208336c1-03a7-4c48-927a-cdc69cd682dd",
   "metadata": {},
   "outputs": [
    {
     "ename": "NameError",
     "evalue": "name 'X_test' is not defined",
     "output_type": "error",
     "traceback": [
      "\u001b[0;31m---------------------------------------------------------------------------\u001b[0m",
      "\u001b[0;31mNameError\u001b[0m                                 Traceback (most recent call last)",
      "\u001b[0;32m/var/folders/jz/466kbks91q3glsb0kx0kfwk80000gq/T/ipykernel_6243/374728291.py\u001b[0m in \u001b[0;36m<module>\u001b[0;34m\u001b[0m\n\u001b[1;32m      1\u001b[0m \u001b[0;31m# Evaluate the learned rules on the test data\u001b[0m\u001b[0;34m\u001b[0m\u001b[0;34m\u001b[0m\u001b[0;34m\u001b[0m\u001b[0m\n\u001b[1;32m      2\u001b[0m \u001b[0mpredictions\u001b[0m \u001b[0;34m=\u001b[0m \u001b[0;34m[\u001b[0m\u001b[0;34m]\u001b[0m\u001b[0;34m\u001b[0m\u001b[0;34m\u001b[0m\u001b[0m\n\u001b[0;32m----> 3\u001b[0;31m \u001b[0;32mfor\u001b[0m \u001b[0mexample\u001b[0m \u001b[0;32min\u001b[0m \u001b[0mX_test\u001b[0m\u001b[0;34m:\u001b[0m\u001b[0;34m\u001b[0m\u001b[0;34m\u001b[0m\u001b[0m\n\u001b[0m\u001b[1;32m      4\u001b[0m     \u001b[0;32mfor\u001b[0m \u001b[0mrule\u001b[0m \u001b[0;32min\u001b[0m \u001b[0mcn2\u001b[0m\u001b[0;34m.\u001b[0m\u001b[0mrules\u001b[0m\u001b[0;34m:\u001b[0m\u001b[0;34m\u001b[0m\u001b[0;34m\u001b[0m\u001b[0m\n\u001b[1;32m      5\u001b[0m         \u001b[0;32mif\u001b[0m \u001b[0mrule\u001b[0m\u001b[0;34m.\u001b[0m\u001b[0mapplies\u001b[0m\u001b[0;34m(\u001b[0m\u001b[0mexample\u001b[0m\u001b[0;34m)\u001b[0m\u001b[0;34m:\u001b[0m\u001b[0;34m\u001b[0m\u001b[0;34m\u001b[0m\u001b[0m\n",
      "\u001b[0;31mNameError\u001b[0m: name 'X_test' is not defined"
     ]
    }
   ],
   "source": []
  },
  {
   "cell_type": "code",
   "execution_count": null,
   "id": "2a9312eb-8334-4e6a-b3ed-6eb4773a3c92",
   "metadata": {},
   "outputs": [],
   "source": []
  }
 ],
 "metadata": {
  "kernelspec": {
   "display_name": "Python 3 (ipykernel)",
   "language": "python",
   "name": "python3"
  },
  "language_info": {
   "codemirror_mode": {
    "name": "ipython",
    "version": 3
   },
   "file_extension": ".py",
   "mimetype": "text/x-python",
   "name": "python",
   "nbconvert_exporter": "python",
   "pygments_lexer": "ipython3",
   "version": "3.8.12"
  }
 },
 "nbformat": 4,
 "nbformat_minor": 5
}
