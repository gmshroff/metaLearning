{
 "cells": [
  {
   "cell_type": "markdown",
   "metadata": {
    "colab_type": "text",
    "id": "view-in-github"
   },
   "source": [
    "<a href=\"https://colab.research.google.com/github/gmshroff/metaLearning2022/blob/main/code/l2lutils.ipynb\" target=\"_parent\"><img src=\"https://colab.research.google.com/assets/colab-badge.svg\" alt=\"Open In Colab\"/></a>"
   ]
  },
  {
   "cell_type": "code",
   "execution_count": null,
   "metadata": {
    "id": "q9Ve8fi73tsd",
    "outputId": "666334f9-21ca-436d-fa93-e00de4ffafc8"
   },
   "outputs": [
    {
     "name": "stdout",
     "output_type": "stream",
     "text": [
      "importing Jupyter notebook from utils.ipynb\n"
     ]
    }
   ],
   "source": [
    "import torch\n",
    "import numpy as np\n",
    "import learn2learn as l2l\n",
    "from learn2learn.data import *\n",
    "import import_ipynb\n",
    "import utils"
   ]
  },
  {
   "cell_type": "code",
   "execution_count": null,
   "metadata": {
    "id": "aui_atNR3tse"
   },
   "outputs": [],
   "source": [
    "class KShotLoader():\n",
    "    def __init__(self,myds,num_tasks=1000,shots=2,ways=2,classes=None):\n",
    "        self.shots = shots\n",
    "        self.ways = ways\n",
    "        self.myMds = l2l.data.MetaDataset(myds)\n",
    "        if classes == None:\n",
    "            n_classes = len(set(myds.labels))\n",
    "            classes = [i for i in range(n_classes)]\n",
    "        self.my_tasks = l2l.data.TaskDataset(self.myMds, task_transforms=[\n",
    "                                l2l.data.transforms.FilterLabels(self.myMds,classes),\n",
    "                                l2l.data.transforms.NWays(self.myMds,ways),\n",
    "                                l2l.data.transforms.KShots(self.myMds,2*shots),\n",
    "                                l2l.data.transforms.LoadData(self.myMds),\n",
    "                                l2l.data.transforms.RemapLabels(self.myMds),\n",
    "                                l2l.data.transforms.ConsecutiveLabels(self.myMds)\n",
    "                                ],num_tasks=num_tasks)\n",
    "    def get_task(self):\n",
    "        data,labels = self.my_tasks.sample()\n",
    "        adaptation_indices = np.zeros(data.size(0), dtype=bool)\n",
    "        adaptation_indices[np.arange(self.shots*self.ways) * 2] = True\n",
    "        evaluation_indices = torch.from_numpy(~adaptation_indices)\n",
    "        adaptation_indices = torch.from_numpy(adaptation_indices)\n",
    "        adaptation_data, adaptation_labels = data[adaptation_indices], labels[adaptation_indices]\n",
    "        evaluation_data, evaluation_labels = data[evaluation_indices], labels[evaluation_indices]\n",
    "        d_train = (adaptation_data,adaptation_labels)\n",
    "        d_test = (evaluation_data,evaluation_labels)\n",
    "        return d_train, d_test"
   ]
  }
 ],
 "metadata": {
  "colab": {
   "include_colab_link": true,
   "name": "l2lutils.ipynb",
   "provenance": []
  },
  "kernelspec": {
   "display_name": "Python 3 (ipykernel)",
   "language": "python",
   "name": "python3"
  },
  "language_info": {
   "codemirror_mode": {
    "name": "ipython",
    "version": 3
   },
   "file_extension": ".py",
   "mimetype": "text/x-python",
   "name": "python",
   "nbconvert_exporter": "python",
   "pygments_lexer": "ipython3",
   "version": "3.8.12"
  }
 },
 "nbformat": 4,
 "nbformat_minor": 4
}
