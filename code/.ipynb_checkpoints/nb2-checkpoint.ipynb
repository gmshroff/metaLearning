{
 "cells": [
  {
   "cell_type": "markdown",
   "metadata": {
    "colab_type": "text",
    "id": "view-in-github"
   },
   "source": [
    "<a href=\"https://colab.research.google.com/github/gmshroff/metaLearning2022/blob/main/code/nb2.ipynb\" target=\"_parent\"><img src=\"https://colab.research.google.com/assets/colab-badge.svg\" alt=\"Open In Colab\"/></a>"
   ]
  },
  {
   "cell_type": "markdown",
   "metadata": {
    "id": "Pa5GVdJI1dhL"
   },
   "source": [
    "# MAML - MODEL-AGNOSTIC META-LEARNING"
   ]
  },
  {
   "cell_type": "code",
   "execution_count": null,
   "metadata": {
    "id": "RLc7IIMF1dhO"
   },
   "outputs": [],
   "source": [
    "!pip install import_ipynb --quiet"
   ]
  },
  {
   "cell_type": "code",
   "execution_count": null,
   "metadata": {
    "id": "UhuOxjay1dhO"
   },
   "outputs": [],
   "source": [
    "!pip install learn2learn --quiet"
   ]
  },
  {
   "cell_type": "code",
   "execution_count": null,
   "metadata": {
    "id": "-d_vlK7d13vJ"
   },
   "outputs": [],
   "source": [
    "import requests\n",
    "import pickle"
   ]
  },
  {
   "cell_type": "code",
   "execution_count": null,
   "metadata": {
    "id": "6bChoZ7912o7"
   },
   "outputs": [],
   "source": [
    "#If on colab:\n",
    "r=requests.get(\"https://github.com/gmshroff/metaLearning2022/blob/main/code/utils.ipynb?raw=true\")\n",
    "with open('./utils.ipynb','wb') as f: f.write(r.content)\n",
    "r=requests.get(\"https://github.com/gmshroff/metaLearning2022/blob/main/code/course_data.ipynb?raw=true\")\n",
    "with open('./course_data.ipynb','wb') as f: f.write(r.content)\n"
   ]
  },
  {
   "cell_type": "code",
   "execution_count": null,
   "metadata": {
    "id": "8N1mRP1z3iaQ"
   },
   "outputs": [],
   "source": [
    "r=requests.get(\"https://github.com/gmshroff/metaLearning2022/blob/main/code/l2lutils.ipynb?raw=true\")\n",
    "with open('./l2lutils.ipynb','wb') as f: f.write(r.content)"
   ]
  },
  {
   "cell_type": "code",
   "execution_count": null,
   "metadata": {
    "id": "4WHIs45n19bt"
   },
   "outputs": [],
   "source": [
    "from google.colab import drive\n",
    "drive.mount('/content/drive')\n",
    "%ls drive/MyDrive/'Colab Notebooks'"
   ]
  },
  {
   "cell_type": "code",
   "execution_count": null,
   "metadata": {
    "id": "7xURmz_G1-L4"
   },
   "outputs": [],
   "source": [
    "!cp drive/MyDrive/'Colab Notebooks'/models.ipynb ."
   ]
  },
  {
   "cell_type": "code",
   "execution_count": null,
   "metadata": {
    "id": "lWJRPCsO1dhO"
   },
   "outputs": [],
   "source": [
    "import import_ipynb\n",
    "import utils\n",
    "import models\n",
    "utils.hide_toggle('Imports 1')"
   ]
  },
  {
   "cell_type": "code",
   "execution_count": null,
   "metadata": {
    "id": "75kCLSpo1dhP"
   },
   "outputs": [],
   "source": [
    "from IPython import display\n",
    "import torch\n",
    "import torch.nn as nn\n",
    "from sklearn.manifold import TSNE\n",
    "from matplotlib import pyplot as plt\n",
    "from l2lutils import KShotLoader\n",
    "from IPython import display\n",
    "utils.hide_toggle('Imports 2')"
   ]
  },
  {
   "cell_type": "code",
   "execution_count": null,
   "metadata": {
    "id": "seBbH_9y4SQH"
   },
   "outputs": [],
   "source": [
    "#If on colab\n",
    "from course_data import MyDS, ImageData, TsDS, FeedData"
   ]
  },
  {
   "cell_type": "markdown",
   "metadata": {
    "id": "WcFM4Si22dld"
   },
   "source": [
    "# Get Data"
   ]
  },
  {
   "cell_type": "code",
   "execution_count": null,
   "metadata": {
    "id": "87LO-CKa2ld1"
   },
   "outputs": [],
   "source": [
    "#If on Colab/student machine use the next few lines to load image data:\n",
    "r=requests.get(\"https://github.com/gmshroff/metaLearning2022/blob/main/data/image_data.pickle.zip?raw=true\")"
   ]
  },
  {
   "cell_type": "code",
   "execution_count": null,
   "metadata": {
    "id": "FE5m3hWb2m2d"
   },
   "outputs": [],
   "source": [
    "with open('./image_data.pickle.zip','wb') as f: f.write(r.content)\n",
    "!unzip ./image_data.pickle.zip"
   ]
  },
  {
   "cell_type": "code",
   "execution_count": null,
   "metadata": {
    "id": "6i84NR2B2py-"
   },
   "outputs": [],
   "source": [
    "with open('./image_data.pickle','rb') as f: imageData=pickle.load(f)"
   ]
  },
  {
   "cell_type": "markdown",
   "metadata": {
    "id": "qz_c-8Sq1dhP"
   },
   "source": [
    "# Pre-trained Models"
   ]
  },
  {
   "cell_type": "code",
   "execution_count": null,
   "metadata": {
    "id": "XtFHhHPF1dhQ"
   },
   "outputs": [],
   "source": [
    "#Generate data - euclidean\n",
    "meta_train_ds, meta_test_ds, full_loader = utils.euclideanDataset(n_samples=10000,n_features=20,n_classes=10,batch_size=32)"
   ]
  },
  {
   "cell_type": "code",
   "execution_count": null,
   "metadata": {
    "id": "GJZLg8pQ1dhQ"
   },
   "outputs": [],
   "source": [
    "# meta_train_ds,meta_test_ds,mapping,full_loader=imageData.train_ds,imageData.test_ds,imageData.mapping,imageData.dloader"
   ]
  },
  {
   "cell_type": "code",
   "execution_count": null,
   "metadata": {
    "id": "XrrwgPQd1dhQ"
   },
   "outputs": [],
   "source": [
    "# Define an MLP network. Note that input dimension has to be data dimension. For classification\n",
    "# final dimension has to be number of classes; for regression one.\n",
    "#torch.manual_seed(10)\n",
    "net0 = models.MLP(dims=[20,32,32,10])\n",
    "# net0 = models.MLP(dims=[400,64,32,len(mapping.keys())])"
   ]
  },
  {
   "cell_type": "code",
   "execution_count": null,
   "metadata": {
    "id": "xKo0Fyev1dhR"
   },
   "outputs": [],
   "source": [
    "# Train the network; note that network is trained in place so repeated calls further train it.\n",
    "net0,loss,accs=models.Train(net0,full_loader,lr=1e-3,epochs=10,verbose=True)"
   ]
  },
  {
   "cell_type": "code",
   "execution_count": null,
   "metadata": {
    "id": "sNieUD4s1dhR"
   },
   "outputs": [],
   "source": [
    "#Training accuracy.\n",
    "models.accuracy(net0,meta_train_ds.samples,meta_train_ds.labels,verbose=True)"
   ]
  },
  {
   "cell_type": "code",
   "execution_count": null,
   "metadata": {
    "id": "V507W4Qn1dhR"
   },
   "outputs": [],
   "source": [
    "# Test accuracy.\n",
    "models.accuracy(net0,meta_test_ds.samples,meta_test_ds.labels)"
   ]
  },
  {
   "cell_type": "code",
   "execution_count": null,
   "metadata": {
    "id": "Vu0kHrI61dhR"
   },
   "outputs": [],
   "source": [
    "# len(mapping.keys())"
   ]
  },
  {
   "cell_type": "markdown",
   "metadata": {
    "id": "hkPojWSl1dhR"
   },
   "source": [
    "# Second-order Differentiation using Autograd"
   ]
  },
  {
   "cell_type": "markdown",
   "metadata": {
    "id": "jN4qmFhZ1dhS"
   },
   "source": [
    "Second-order derivatives as needed for MAML"
   ]
  },
  {
   "cell_type": "code",
   "execution_count": null,
   "metadata": {
    "id": "rwaukhc61dhS"
   },
   "outputs": [],
   "source": [
    "network = (lambda x,w: x@w)\n",
    "loss = torch.nn.MSELoss()"
   ]
  },
  {
   "cell_type": "code",
   "execution_count": null,
   "metadata": {
    "id": "HG2V_Kdn1dhS"
   },
   "outputs": [],
   "source": [
    "Z=(torch.ones(3,1)).float()\n",
    "z=(torch.ones(3,1)*2).float()"
   ]
  },
  {
   "cell_type": "code",
   "execution_count": null,
   "metadata": {
    "id": "hCW_-ble1dhS"
   },
   "outputs": [],
   "source": [
    "Zt=(torch.ones(3,1)*1.5).float()\n",
    "zt=(torch.ones(3,1)*2*1.5).float()"
   ]
  },
  {
   "cell_type": "code",
   "execution_count": null,
   "metadata": {
    "id": "D0y8ixP91dhS"
   },
   "outputs": [],
   "source": [
    "w0=(torch.ones(1,1,requires_grad=True)).float()"
   ]
  },
  {
   "cell_type": "code",
   "execution_count": null,
   "metadata": {
    "id": "qNEYoDBX1dhS"
   },
   "outputs": [],
   "source": [
    "w1=w0.clone()"
   ]
  },
  {
   "cell_type": "code",
   "execution_count": null,
   "metadata": {
    "id": "L08I5G181dhS"
   },
   "outputs": [],
   "source": [
    "L=loss(network(Z,w1),z)"
   ]
  },
  {
   "cell_type": "code",
   "execution_count": null,
   "metadata": {
    "id": "6iOjA3gB1dhT"
   },
   "outputs": [],
   "source": [
    "#g=torch.autograd.grad(L,w0)[0]\n",
    "g=torch.autograd.grad(L,w1,create_graph=True)[0]\n",
    "#L.backward(create_graph=True)# Not good"
   ]
  },
  {
   "cell_type": "code",
   "execution_count": null,
   "metadata": {
    "id": "ForDE6Nd1dhU"
   },
   "outputs": [],
   "source": [
    "w1.grad, w0.grad, L, w0, w1,w1.requires_grad,g"
   ]
  },
  {
   "cell_type": "code",
   "execution_count": null,
   "metadata": {
    "id": "6osHThu71dhU"
   },
   "outputs": [],
   "source": [
    "w1 = w1 - 0.1*g"
   ]
  },
  {
   "cell_type": "code",
   "execution_count": null,
   "metadata": {
    "id": "iWRJUeR71dhU"
   },
   "outputs": [],
   "source": [
    "L1=loss(network(Zt,w1),zt)\n",
    "#L1=loss(net(Zt,w0-0.1*(2.0*(w0-2.0))),zt)"
   ]
  },
  {
   "cell_type": "code",
   "execution_count": null,
   "metadata": {
    "id": "P2mx-mdt1dhU"
   },
   "outputs": [],
   "source": [
    "# Both OK - latter used with optimizer.step()\n",
    "g1=torch.autograd.grad(L1,w0)[0]\n",
    "#L1.backward()"
   ]
  },
  {
   "cell_type": "code",
   "execution_count": null,
   "metadata": {
    "id": "WnuSZcD61dhU"
   },
   "outputs": [],
   "source": [
    "g1"
   ]
  },
  {
   "cell_type": "markdown",
   "metadata": {
    "id": "VglIzSwP1dhU"
   },
   "source": [
    "Working this out manually:"
   ]
  },
  {
   "cell_type": "markdown",
   "metadata": {
    "id": "FXkTpRGP1dhU"
   },
   "source": [
    "$w_0=1, L=(w_0-2)^2, dL=2\\times(w_0-2)=-2,w_1=w_0-0.1\\times(-2)=1.2$"
   ]
  },
  {
   "cell_type": "markdown",
   "metadata": {
    "id": "olkhaz0P1dhU"
   },
   "source": [
    "$L_1=(w_1\\times1.5-3)^2 = (w_0-0.1\\times(2\\times(w_0-2))\\times1.5-3)^2 = (-1.2)^2$"
   ]
  },
  {
   "cell_type": "markdown",
   "metadata": {
    "id": "JIGfBmaE1dhU"
   },
   "source": [
    "$dL_1 = 2 \\times (-1.2) \\times (1.5 \\times (1-.2))$"
   ]
  },
  {
   "cell_type": "code",
   "execution_count": null,
   "metadata": {
    "id": "UU4fhxj51dhU"
   },
   "outputs": [],
   "source": [
    "2*(-1.2)*(1.5*(1-.2))"
   ]
  },
  {
   "cell_type": "code",
   "execution_count": null,
   "metadata": {
    "id": "Jb0NZIjF1dhU"
   },
   "outputs": [],
   "source": [
    "w0.grad,w1.grad"
   ]
  },
  {
   "cell_type": "markdown",
   "metadata": {
    "id": "Y4O4etDg1dhU"
   },
   "source": [
    "# Meta-Learning: Tasks"
   ]
  },
  {
   "cell_type": "markdown",
   "metadata": {
    "id": "AJ3cPWsX1dhV"
   },
   "source": [
    "Generate a k-shot n-way loader using the meta-training dataset"
   ]
  },
  {
   "cell_type": "code",
   "execution_count": null,
   "metadata": {
    "id": "l0xoyHhO1dhV"
   },
   "outputs": [],
   "source": [
    "classes_train = [i for i in range(5)]\n",
    "classes_test = [i+5 for i in range(5)]\n",
    "classes_train, classes_test"
   ]
  },
  {
   "cell_type": "code",
   "execution_count": null,
   "metadata": {
    "id": "N23RO_0K1dhV"
   },
   "outputs": [],
   "source": [
    "meta_train_kloader=KShotLoader(meta_train_ds,shots=5,ways=5)"
   ]
  },
  {
   "cell_type": "markdown",
   "metadata": {
    "id": "FHaNmJNJ1dhV"
   },
   "source": [
    "Sample a task - each task has a k-shot n-way training set and a similar test set"
   ]
  },
  {
   "cell_type": "code",
   "execution_count": null,
   "metadata": {
    "id": "Y3-vYPEs1dhV"
   },
   "outputs": [],
   "source": [
    "d_train,d_test=meta_train_kloader.get_task()"
   ]
  },
  {
   "cell_type": "markdown",
   "metadata": {
    "id": "TxmfnsiY1dhV"
   },
   "source": [
    "Let's try directly learning using the task training set albeit its small size: create a dataset and loader and train it with the earlier network and Train function."
   ]
  },
  {
   "cell_type": "code",
   "execution_count": null,
   "metadata": {
    "id": "xxGgmtqy1dhV"
   },
   "outputs": [],
   "source": [
    "taskds = utils.MyDS(d_train[0],d_train[1])"
   ]
  },
  {
   "cell_type": "code",
   "execution_count": null,
   "metadata": {
    "id": "XbYtBB-L1dhV"
   },
   "outputs": [],
   "source": [
    "d_train_loader = torch.utils.data.DataLoader(dataset=taskds,batch_size=1,shuffle=True)"
   ]
  },
  {
   "cell_type": "code",
   "execution_count": null,
   "metadata": {
    "id": "QzKDWt5B1dhV"
   },
   "outputs": [],
   "source": [
    "net = models.MLP(dims=[20,32,32,10])\n",
    "# net1 = models.MLP(dims=[400,32,32,len(mapping.keys())])"
   ]
  },
  {
   "cell_type": "code",
   "execution_count": null,
   "metadata": {
    "id": "Vtlkqey71dhV"
   },
   "outputs": [],
   "source": [
    "net,losses,accs=models.Train(net,d_train_loader,lr=1e-3,epochs=20,verbose=True)"
   ]
  },
  {
   "cell_type": "code",
   "execution_count": null,
   "metadata": {
    "id": "d0al3FLJ1dhV"
   },
   "outputs": [],
   "source": [
    "models.accuracy(net,d_train[0],d_train[1])"
   ]
  },
  {
   "cell_type": "markdown",
   "metadata": {
    "id": "G3vt8hyp1dhV"
   },
   "source": [
    "How does it do on the test set of the sampled task?"
   ]
  },
  {
   "cell_type": "code",
   "execution_count": null,
   "metadata": {
    "id": "R5irGQny1dhV"
   },
   "outputs": [],
   "source": [
    "models.accuracy(net,d_test[0],d_test[1])"
   ]
  },
  {
   "cell_type": "code",
   "execution_count": null,
   "metadata": {
    "id": "5Zwm4g551dhV"
   },
   "outputs": [],
   "source": [
    "meta_test_kloader=KShotLoader(meta_test_ds,shots=5,ways=5)"
   ]
  },
  {
   "cell_type": "code",
   "execution_count": null,
   "metadata": {
    "id": "kcza3qHx1dhV"
   },
   "outputs": [],
   "source": [
    "d_train,d_test=meta_test_kloader.get_task()"
   ]
  },
  {
   "cell_type": "code",
   "execution_count": null,
   "metadata": {
    "id": "DYWNXNH71dhV"
   },
   "outputs": [],
   "source": [
    "models.accuracy(net,d_test[0],d_test[1])"
   ]
  },
  {
   "cell_type": "markdown",
   "metadata": {
    "id": "eLZaHZof1dhV"
   },
   "source": [
    "# MAML - Model-Agnostic Meta-Learning"
   ]
  },
  {
   "cell_type": "code",
   "execution_count": null,
   "metadata": {
    "id": "dfrGrb4N1dhW"
   },
   "outputs": [],
   "source": [
    "import learn2learn as l2l\n",
    "import torch.optim as optim"
   ]
  },
  {
   "cell_type": "code",
   "execution_count": null,
   "metadata": {
    "id": "9dvjsq621dhW"
   },
   "outputs": [],
   "source": [
    "shots,ways=2,5\n",
    "net = models.MLP(dims=[20,32,32,ways])\n",
    "# net = models.MLP(dims=[400,64,32,ways])\n",
    "maml = l2l.algorithms.MAML(net, lr=1e-1)\n",
    "optimizer = optim.Adam(net.parameters(),lr=1e-3)\n",
    "lossfn = torch.nn.NLLLoss()\n",
    "meta_train_kloader=KShotLoader(meta_train_ds,shots=shots,ways=ways)"
   ]
  },
  {
   "cell_type": "markdown",
   "metadata": {
    "id": "1vLP9R711dhW"
   },
   "source": [
    "The MAML class above wraps our nn.Module class for parameter cloning and other purposes as below. One iteration of the MAML algorithm proceeds by first sampling a training task: Note that each of d_train and d_test is a tuple comprising of a training set, and labels."
   ]
  },
  {
   "cell_type": "code",
   "execution_count": null,
   "metadata": {
    "id": "-jUYDjQP1dhW"
   },
   "outputs": [],
   "source": [
    "d_train,d_test=meta_train_kloader.get_task()"
   ]
  },
  {
   "cell_type": "code",
   "execution_count": null,
   "metadata": {
    "id": "9nkCEqji1dhW"
   },
   "outputs": [],
   "source": [
    "learner = maml.clone()"
   ]
  },
  {
   "cell_type": "markdown",
   "metadata": {
    "id": "0aB0AAZB1dhW"
   },
   "source": [
    "The learner class above is a 'clone' of our network with copies of parameters so that we can change these without changing the parameters of the network. We apply the learner on training data of d_train and compute TRAINING loss w.r.t the training data of the task, i.e., d_train."
   ]
  },
  {
   "cell_type": "code",
   "execution_count": null,
   "metadata": {
    "id": "kpuWqRR31dhW"
   },
   "outputs": [],
   "source": [
    "train_preds = learner(d_train[0])\n",
    "train_loss = lossfn(train_preds,d_train[1])"
   ]
  },
  {
   "cell_type": "code",
   "execution_count": null,
   "metadata": {
    "id": "fWr-HQqc6Oa7"
   },
   "outputs": [],
   "source": [
    "train_loss"
   ]
  },
  {
   "cell_type": "code",
   "execution_count": null,
   "metadata": {
    "id": "pwgwmXlq1dhW"
   },
   "outputs": [],
   "source": [
    "net.layers[0].weight"
   ]
  },
  {
   "cell_type": "code",
   "execution_count": null,
   "metadata": {
    "id": "I__tZJcB1dhW"
   },
   "outputs": [],
   "source": [
    "learner.layers[0].weight"
   ]
  },
  {
   "cell_type": "markdown",
   "metadata": {
    "id": "eAm8pUTP1dhW"
   },
   "source": [
    "Note that at this point both the learner and original net have the same parameters. Lets see what the gradients w.r.t the TRAINING loss are: (We use pytorch's autograd functions directly.)"
   ]
  },
  {
   "cell_type": "code",
   "execution_count": null,
   "metadata": {
    "id": "hiHi7TDV1dhW"
   },
   "outputs": [],
   "source": [
    "from torch.autograd import grad"
   ]
  },
  {
   "cell_type": "code",
   "execution_count": null,
   "metadata": {
    "id": "E6MMK_z31dhW"
   },
   "outputs": [],
   "source": [
    "train_grad=grad(train_loss,learner.layers[0].weight,retain_graph=True,\n",
    "                                 create_graph=True,\n",
    "                                 allow_unused=True)\n",
    "train_grad[0]"
   ]
  },
  {
   "cell_type": "markdown",
   "metadata": {
    "id": "jYzYDg3h1dhW"
   },
   "source": [
    "Next we ADAPT the learner by taking one step on the CLONED parameters in direction of the gradient of the TRAINING loss above. This is the part that the l2l libarary does for us as per the MAML algorithm."
   ]
  },
  {
   "cell_type": "code",
   "execution_count": null,
   "metadata": {
    "id": "AJvtE00Q1dhW"
   },
   "outputs": [],
   "source": [
    "learner.adapt(train_loss)"
   ]
  },
  {
   "cell_type": "markdown",
   "metadata": {
    "id": "JtRamppW1dhW"
   },
   "source": [
    "We can check what has happended:"
   ]
  },
  {
   "cell_type": "code",
   "execution_count": null,
   "metadata": {
    "id": "01d8vOOg1dhW"
   },
   "outputs": [],
   "source": [
    "learner.layers[0].weight"
   ]
  },
  {
   "cell_type": "code",
   "execution_count": null,
   "metadata": {
    "id": "jSl4YwJd1dhW"
   },
   "outputs": [],
   "source": [
    "(net.layers[0].weight - learner.layers[0].weight)/train_grad[0]"
   ]
  },
  {
   "cell_type": "markdown",
   "metadata": {
    "id": "-HgVlYZU1dhX"
   },
   "source": [
    "So one step in the diretion of the gradient (w.r.t train_loss) has been taken. Next we compute the loss of this ADAPTED learner w.r.t. the TEST data of the task, i.e., d_test:"
   ]
  },
  {
   "cell_type": "code",
   "execution_count": null,
   "metadata": {
    "id": "-Pp5a0c11dhX"
   },
   "outputs": [],
   "source": [
    "test_preds = learner(d_test[0])\n",
    "adapt_loss = lossfn(test_preds,d_test[1])"
   ]
  },
  {
   "cell_type": "markdown",
   "metadata": {
    "id": "lQoWmk3z1dhX"
   },
   "source": [
    "The main MAML update to the original network net takes place now, by back-propagating through the (cumulative) adaptation loss (across possibly many tasks, here there was just one):"
   ]
  },
  {
   "cell_type": "code",
   "execution_count": null,
   "metadata": {
    "id": "p-5D0P_U1dhX"
   },
   "outputs": [],
   "source": [
    "task_count = 1\n",
    "optimizer.zero_grad()\n",
    "total_loss = adapt_loss/task_count\n",
    "total_loss.backward()"
   ]
  },
  {
   "cell_type": "code",
   "execution_count": null,
   "metadata": {
    "id": "j3yPD1TS1dhX"
   },
   "outputs": [],
   "source": [
    "net.layers[0].weight"
   ]
  },
  {
   "cell_type": "code",
   "execution_count": null,
   "metadata": {
    "id": "zdq8ERqb1dhX"
   },
   "outputs": [],
   "source": [
    "optimizer.step()"
   ]
  },
  {
   "cell_type": "code",
   "execution_count": null,
   "metadata": {
    "id": "e74Q_2eH1dhX"
   },
   "outputs": [],
   "source": [
    "net.layers[0].weight"
   ]
  },
  {
   "cell_type": "markdown",
   "metadata": {
    "id": "ZhGOYJ5F1dhX"
   },
   "source": [
    "So, the original parameters have been updated by a gradient step using on all the task adaptation losses. "
   ]
  },
  {
   "cell_type": "markdown",
   "metadata": {
    "id": "dhQkNDoN1dhX"
   },
   "source": [
    "# Putting it all together: MAML Algorithm\n",
    "Now let's put all of the above in a loop - the MAML algorithm:"
   ]
  },
  {
   "cell_type": "code",
   "execution_count": 89,
   "metadata": {
    "id": "Ga8RuJqz1dhX"
   },
   "outputs": [],
   "source": [
    "import learn2learn as l2l\n",
    "import torch.optim as optim\n",
    "shots,ways = 5,5\n",
    "net = models.MLP(dims=[20,32,32,ways])\n",
    "# net = models.MLP(dims=[400,64,32,ways])\n",
    "#net = models.RNN(n_classes=3,dim=10,n_layers=2)\n",
    "maml = l2l.algorithms.MAML(net, lr=5e-3)\n",
    "#maml = l2l.algorithms.MAML(net0, lr=5e-2)\n",
    "optimizer = optim.Adam(maml.parameters(),lr=5e-4)\n",
    "lossfn = torch.nn.NLLLoss()\n",
    "meta_train_kloader=KShotLoader(meta_train_ds,shots=shots,ways=ways,num_tasks=1000,\n",
    "                               classes=None)"
   ]
  },
  {
   "cell_type": "code",
   "execution_count": 90,
   "metadata": {
    "id": "J_3VNvEd1dhX"
   },
   "outputs": [],
   "source": [
    "# Number of epochs, tasks per step and number of fast_adaptation steps \n",
    "n_epochs=300\n",
    "task_count=32\n",
    "fas = 5"
   ]
  },
  {
   "cell_type": "markdown",
   "metadata": {
    "id": "pt_FkjsR1dhX"
   },
   "source": [
    "Note: In practice we use more than one gradient step for adpation, this is called 'fast adaptation'."
   ]
  },
  {
   "cell_type": "code",
   "execution_count": 93,
   "metadata": {
    "id": "tf3v38Np1dhX"
   },
   "outputs": [
    {
     "name": "stdout",
     "output_type": "stream",
     "text": [
      "Epoch   299 Loss: 4.55384e-01 Avg Acc: 0.89000\n"
     ]
    }
   ],
   "source": [
    "epoch=0\n",
    "while epoch<n_epochs:\n",
    "    adapt_loss = 0.0\n",
    "    test_acc = 0.0\n",
    "    # Sample and train on a task\n",
    "    for task in range(task_count):\n",
    "        d_train,d_test=meta_train_kloader.get_task()\n",
    "        learner = maml.clone()\n",
    "        for fas_step in range(fas):\n",
    "            train_preds = learner(d_train[0])\n",
    "            train_loss = lossfn(train_preds,d_train[1])\n",
    "            learner.adapt(train_loss)\n",
    "        test_preds = learner(d_test[0])\n",
    "        adapt_loss += lossfn(test_preds,d_test[1])\n",
    "        learner.eval()\n",
    "        test_acc += models.accuracy(learner,d_test[0],d_test[1],verbose=False)\n",
    "        learner.train()\n",
    "        # Done with a task\n",
    "    # Update main network\n",
    "    print('Epoch  % 2d Loss: %2.5e Avg Acc: %2.5f'%(epoch,adapt_loss/task_count,test_acc/task_count))\n",
    "    display.clear_output(wait=True)\n",
    "    optimizer.zero_grad()\n",
    "    total_loss = adapt_loss\n",
    "    total_loss.backward()\n",
    "    optimizer.step()\n",
    "    epoch+=1\n",
    "    "
   ]
  },
  {
   "cell_type": "markdown",
   "metadata": {
    "id": "MnidveAw1dhX"
   },
   "source": [
    "Now test the trained maml network and applying the adaption step to tasks sampled from the meta_test_ds dataset:"
   ]
  },
  {
   "cell_type": "code",
   "execution_count": 94,
   "metadata": {
    "id": "Rokj6qo21dhX"
   },
   "outputs": [
    {
     "name": "stdout",
     "output_type": "stream",
     "text": [
      "Avg Acc: 0.85800\n"
     ]
    }
   ],
   "source": [
    "meta_test_kloader=KShotLoader(meta_test_ds,shots=shots,ways=ways,\n",
    "                              classes=None)\n",
    "test_acc = 0.0\n",
    "task_count = 20\n",
    "adapt_steps = 5\n",
    "maml.eval()\n",
    "# Sample and train on a task\n",
    "for task in range(task_count):\n",
    "    d_train,d_test=meta_test_kloader.get_task()\n",
    "    learner = maml.clone()\n",
    "    learner.eval()\n",
    "    for adapt_step in range(adapt_steps):\n",
    "        train_preds = learner(d_train[0])\n",
    "        train_loss = lossfn(train_preds,d_train[1])\n",
    "        learner.adapt(train_loss)\n",
    "    test_preds = learner(d_test[0])\n",
    "    test_acc += models.accuracy(learner,d_test[0],d_test[1],verbose=False)\n",
    "    # Done with a task\n",
    "#learner.train()\n",
    "print('Avg Acc: %2.5f'%(test_acc/task_count))"
   ]
  },
  {
   "cell_type": "code",
   "execution_count": null,
   "metadata": {
    "id": "w75e19Fs1dhX"
   },
   "outputs": [],
   "source": []
  },
  {
   "cell_type": "code",
   "execution_count": null,
   "metadata": {
    "id": "Sda9vUUv1dhX"
   },
   "outputs": [],
   "source": []
  }
 ],
 "metadata": {
  "accelerator": "GPU",
  "colab": {
   "include_colab_link": true,
   "name": "nb2.ipynb",
   "provenance": []
  },
  "kernelspec": {
   "display_name": "Python 3 (ipykernel)",
   "language": "python",
   "name": "python3"
  },
  "language_info": {
   "codemirror_mode": {
    "name": "ipython",
    "version": 3
   },
   "file_extension": ".py",
   "mimetype": "text/x-python",
   "name": "python",
   "nbconvert_exporter": "python",
   "pygments_lexer": "ipython3",
   "version": "3.8.12"
  }
 },
 "nbformat": 4,
 "nbformat_minor": 4
}
