{
 "cells": [
  {
   "cell_type": "markdown",
   "id": "836aa257",
   "metadata": {
    "colab_type": "text",
    "id": "view-in-github"
   },
   "source": [
    "<a href=\"https://colab.research.google.com/github/gmshroff/metaLearning2022/blob/main/code/course_data.ipynb\" target=\"_parent\"><img src=\"https://colab.research.google.com/assets/colab-badge.svg\" alt=\"Open In Colab\"/></a>"
   ]
  },
  {
   "cell_type": "code",
   "execution_count": null,
   "id": "43f159b4-9256-4ffd-91c7-69387492d535",
   "metadata": {
    "id": "43f159b4-9256-4ffd-91c7-69387492d535"
   },
   "outputs": [],
   "source": [
    "import numpy as np\n",
    "import pandas as pd\n",
    "import torch\n",
    "from torch.utils.data import Dataset\n",
    "from torch.utils.data import DataLoader\n",
    "from PIL import Image\n",
    "from PIL.ImageOps import invert\n",
    "import pickle\n",
    "from matplotlib import pyplot as plt\n",
    "import requests"
   ]
  },
  {
   "cell_type": "code",
   "execution_count": null,
   "id": "bb14129d-d0d6-4665-be8d-d9c8de585221",
   "metadata": {
    "id": "bb14129d-d0d6-4665-be8d-d9c8de585221"
   },
   "outputs": [],
   "source": [
    "class MyDS(Dataset):\n",
    "    def __init__(self, X,y):\n",
    "        self.samples = torch.Tensor(X)\n",
    "        self.labels = torch.LongTensor(y)\n",
    "        \n",
    "    def __len__(self):\n",
    "        return len(self.samples)\n",
    "\n",
    "    def __getitem__(self, idx):\n",
    "        return (self.samples[idx],self.labels[idx])"
   ]
  },
  {
   "cell_type": "code",
   "execution_count": null,
   "id": "3f038477-1a22-4f35-a67f-d5d70918475a",
   "metadata": {
    "id": "3f038477-1a22-4f35-a67f-d5d70918475a"
   },
   "outputs": [],
   "source": [
    "class ImageData():\n",
    "    def __init__():\n",
    "        # train_ds\n",
    "        # test_ds\n",
    "        # images_train\n",
    "        # images_test\n",
    "        # names_train\n",
    "        # names_test\n",
    "        # dloader\n",
    "        # mapping\n",
    "        pass"
   ]
  },
  {
   "cell_type": "code",
   "execution_count": null,
   "id": "2a0071e0",
   "metadata": {
    "id": "2a0071e0"
   },
   "outputs": [],
   "source": [
    "class ImageGridData():\n",
    "    def __init__(self):\n",
    "        pass"
   ]
  },
  {
   "cell_type": "code",
   "execution_count": null,
   "id": "1eac4547-2bf4-4392-bf66-765d602cb2e0",
   "metadata": {
    "id": "1eac4547-2bf4-4392-bf66-765d602cb2e0"
   },
   "outputs": [],
   "source": [
    "class TsDS(Dataset):\n",
    "    def __init__(self, XL,yL):\n",
    "        self.samples=[]\n",
    "        self.labels=[]\n",
    "        for X,Y in zip(XL,yL):\n",
    "            self.samples += [torch.Tensor(X).unsqueeze(0)]\n",
    "            self.labels += [torch.LongTensor(Y)]\n",
    "    def __len__(self):\n",
    "        return len(self.samples)\n",
    "\n",
    "    def __getitem__(self, idx):\n",
    "        return (self.samples[idx],self.labels[idx])"
   ]
  },
  {
   "cell_type": "code",
   "execution_count": null,
   "id": "c952618c-41e7-41a7-8787-97a1fe458ba1",
   "metadata": {
    "id": "c952618c-41e7-41a7-8787-97a1fe458ba1"
   },
   "outputs": [],
   "source": [
    "class FeedData():\n",
    "    def __init__():\n",
    "        #train_ds\n",
    "        #test_ds\n",
    "        pass"
   ]
  },
  {
   "cell_type": "code",
   "execution_count": null,
   "id": "e840e6b7-235f-411b-8f21-e0ad0b36ac5c",
   "metadata": {
    "id": "e840e6b7-235f-411b-8f21-e0ad0b36ac5c"
   },
   "outputs": [],
   "source": []
  }
 ],
 "metadata": {
  "colab": {
   "include_colab_link": true,
   "name": "course_data.ipynb",
   "provenance": []
  },
  "kernelspec": {
   "display_name": "Python 3 (ipykernel)",
   "language": "python",
   "name": "python3"
  },
  "language_info": {
   "codemirror_mode": {
    "name": "ipython",
    "version": 3
   },
   "file_extension": ".py",
   "mimetype": "text/x-python",
   "name": "python",
   "nbconvert_exporter": "python",
   "pygments_lexer": "ipython3",
   "version": "3.8.12"
  }
 },
 "nbformat": 4,
 "nbformat_minor": 5
}
