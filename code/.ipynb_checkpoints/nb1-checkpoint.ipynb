{
 "cells": [
  {
   "cell_type": "markdown",
   "metadata": {
    "colab_type": "text",
    "id": "view-in-github"
   },
   "source": [
    "<a href=\"https://colab.research.google.com/github/gmshroff/metaLearning2022/blob/main/code/nb0.ipynb\" target=\"_parent\"><img src=\"https://colab.research.google.com/assets/colab-badge.svg\" alt=\"Open In Colab\"/></a>"
   ]
  },
  {
   "cell_type": "markdown",
   "metadata": {
    "id": "wJefhTEX6Pvf"
   },
   "source": [
    "Recurrent neural network."
   ]
  },
  {
   "cell_type": "markdown",
   "metadata": {
    "id": "0LGklTDZ6PvT"
   },
   "source": [
    "# TRAINING RECURRENT NEURAL NETWORKS"
   ]
  },
  {
   "cell_type": "code",
   "execution_count": null,
   "metadata": {
    "id": "uYh0sK_F6PvW"
   },
   "outputs": [],
   "source": [
    "# !pip install import_ipynb --quiet\n",
    "# !git clone https://github.com/gmshroff/metaLearning.git\n",
    "# %cd metaLearning/code"
   ]
  },
  {
   "cell_type": "code",
   "execution_count": null,
   "metadata": {
    "id": "EnbJ9Mia6PvY"
   },
   "outputs": [],
   "source": [
    "import import_ipynb\n",
    "import utils\n",
    "import models\n",
    "from IPython import display\n",
    "import torch\n",
    "from sklearn.manifold import TSNE\n",
    "from matplotlib import pyplot as plt\n",
    "import pickle"
   ]
  },
  {
   "cell_type": "code",
   "execution_count": null,
   "metadata": {
    "id": "i8eBciR16PvZ"
   },
   "outputs": [],
   "source": [
    "from course_data import MyDS, TsDS, FeedData"
   ]
  },
  {
   "cell_type": "markdown",
   "metadata": {
    "id": "nPFblsnqaSPh"
   },
   "source": [
    "Financial Time Series"
   ]
  },
  {
   "cell_type": "code",
   "execution_count": null,
   "metadata": {},
   "outputs": [],
   "source": [
    "%cd ../data"
   ]
  },
  {
   "cell_type": "code",
   "execution_count": null,
   "metadata": {},
   "outputs": [],
   "source": [
    "!unzip ../data/feedDataTrain.pickle.zip"
   ]
  },
  {
   "cell_type": "code",
   "execution_count": null,
   "metadata": {},
   "outputs": [],
   "source": [
    "%ls"
   ]
  },
  {
   "cell_type": "code",
   "execution_count": null,
   "metadata": {},
   "outputs": [],
   "source": [
    "with open('./feedDataTrain.pickle','rb') as f: feedDataTrain=pickle.load(f)"
   ]
  },
  {
   "cell_type": "code",
   "execution_count": null,
   "metadata": {
    "id": "mp0JxPoHe0CF"
   },
   "outputs": [],
   "source": [
    "!unzip feedDataTest.pickle.zip"
   ]
  },
  {
   "cell_type": "code",
   "execution_count": null,
   "metadata": {
    "id": "fmhPtazre5bZ"
   },
   "outputs": [],
   "source": [
    "with open('./feedDataTest.pickle','rb') as f: feedDataTest=pickle.load(f)"
   ]
  },
  {
   "cell_type": "markdown",
   "metadata": {},
   "source": [
    "Recurrent network: LSTM"
   ]
  },
  {
   "cell_type": "code",
   "execution_count": null,
   "metadata": {
    "id": "a214c4XwdIng"
   },
   "outputs": [],
   "source": [
    "net = models.SimpleLSTM(input_size=149,hidden_size=64,output_size=3,lr=1e-3)"
   ]
  },
  {
   "cell_type": "code",
   "execution_count": null,
   "metadata": {
    "id": "Wm8-IiS8dPIA",
    "tags": []
   },
   "outputs": [],
   "source": [
    "net,losses,accs=models.Train(net,feedDataTrain.train_ds,epochs=5,verbose=True)"
   ]
  },
  {
   "cell_type": "code",
   "execution_count": null,
   "metadata": {
    "id": "LuXRFxFzdXyN",
    "tags": []
   },
   "outputs": [],
   "source": [
    "models.accuracy_variable(net,feedDataTrain.train_ds)"
   ]
  },
  {
   "cell_type": "code",
   "execution_count": null,
   "metadata": {
    "id": "dsAoZQWg6Pvg"
   },
   "outputs": [],
   "source": [
    "models.accuracy_variable(net,feedDataTest.train_ds)"
   ]
  },
  {
   "cell_type": "markdown",
   "metadata": {},
   "source": [
    "Time series data"
   ]
  },
  {
   "cell_type": "code",
   "execution_count": null,
   "metadata": {
    "id": "FYB68wHC6Pvc"
   },
   "outputs": [],
   "source": [
    "#Generate data - sinusoidal mix\n",
    "train_ds, test_ds, dloader = utils.sinDataset(n_samples=100,length=20,n_classes=5,batch_size=1)"
   ]
  },
  {
   "cell_type": "markdown",
   "metadata": {},
   "source": [
    "Recurrent network: RNN"
   ]
  },
  {
   "cell_type": "code",
   "execution_count": null,
   "metadata": {
    "id": "rM9_Lk-Z6Pvg"
   },
   "outputs": [],
   "source": [
    "# Define an RNN to process a sequence; default is 1-D where input can be (batch,seq_vals) else input will need to be given\n",
    "# with an extra dimension and input will be (batch,seq,features)\n",
    "net = models.SimpleRNN(input_size=1,hidden_size=32,output_size=5,lr=1e-3)"
   ]
  },
  {
   "cell_type": "code",
   "execution_count": null,
   "metadata": {
    "id": "coHXk_Z26Pvg"
   },
   "outputs": [],
   "source": [
    "# Train the network; note that network is trained in place so repeated calls further train it.\n",
    "net,losses,accs=models.Train(net,dloader,epochs=50,verbose=True)"
   ]
  },
  {
   "cell_type": "markdown",
   "metadata": {},
   "source": [
    "Training/Test Accuracies"
   ]
  },
  {
   "cell_type": "code",
   "execution_count": null,
   "metadata": {},
   "outputs": [],
   "source": [
    "s_tr=torch.concat([s.unsqueeze(0).unsqueeze(0) for s in train_ds.samples])\n",
    "l_tr=torch.concat([l.unsqueeze(0) for l in train_ds.labels])"
   ]
  },
  {
   "cell_type": "code",
   "execution_count": null,
   "metadata": {},
   "outputs": [],
   "source": [
    "newtr=MyDS(s_tr,l_tr)"
   ]
  },
  {
   "cell_type": "code",
   "execution_count": null,
   "metadata": {
    "id": "LuXRFxFzdXyN",
    "tags": []
   },
   "outputs": [],
   "source": [
    "models.accuracy_variable(net,newtr)"
   ]
  },
  {
   "cell_type": "code",
   "execution_count": null,
   "metadata": {},
   "outputs": [],
   "source": [
    "s_te=torch.concat([s.unsqueeze(0).unsqueeze(0) for s in test_ds.samples])\n",
    "l_te=torch.concat([l.unsqueeze(0) for l in test_ds.labels])"
   ]
  },
  {
   "cell_type": "code",
   "execution_count": null,
   "metadata": {},
   "outputs": [],
   "source": [
    "newte=MyDS(s_te,l_te)"
   ]
  },
  {
   "cell_type": "code",
   "execution_count": null,
   "metadata": {},
   "outputs": [],
   "source": [
    "models.accuracy_variable(net,newte)"
   ]
  },
  {
   "cell_type": "code",
   "execution_count": null,
   "metadata": {
    "id": "DEDi5NHw6Pvg"
   },
   "outputs": [],
   "source": [
    "net = models.SimpleLSTM(input_size=1,hidden_size=32,output_size=5,lr=1e-3)"
   ]
  },
  {
   "cell_type": "code",
   "execution_count": null,
   "metadata": {
    "id": "coHXk_Z26Pvg"
   },
   "outputs": [],
   "source": [
    "# Train the network; note that network is trained in place so repeated calls further train it.\n",
    "net,losses,accs=models.Train(net,dloader,epochs=50,verbose=True)"
   ]
  },
  {
   "cell_type": "code",
   "execution_count": null,
   "metadata": {
    "id": "LuXRFxFzdXyN",
    "tags": []
   },
   "outputs": [],
   "source": [
    "models.accuracy_variable(net,newtr)"
   ]
  },
  {
   "cell_type": "code",
   "execution_count": null,
   "metadata": {},
   "outputs": [],
   "source": [
    "models.accuracy_variable(net,newte)"
   ]
  }
 ],
 "metadata": {
  "accelerator": "GPU",
  "colab": {
   "include_colab_link": true,
   "name": "nb0.ipynb",
   "provenance": []
  },
  "kernelspec": {
   "display_name": "Python 3 (ipykernel)",
   "language": "python",
   "name": "python3"
  },
  "language_info": {
   "codemirror_mode": {
    "name": "ipython",
    "version": 3
   },
   "file_extension": ".py",
   "mimetype": "text/x-python",
   "name": "python",
   "nbconvert_exporter": "python",
   "pygments_lexer": "ipython3",
   "version": "3.8.12"
  }
 },
 "nbformat": 4,
 "nbformat_minor": 4
}
