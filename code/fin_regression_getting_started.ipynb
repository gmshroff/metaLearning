{
 "cells": [
  {
   "cell_type": "markdown",
   "id": "e6607390-c3cf-4624-b7b2-98623ced623e",
   "metadata": {},
   "source": [
    "### Dataset Utilities for Algo-Fin Data"
   ]
  },
  {
   "cell_type": "code",
   "execution_count": null,
   "id": "0536eb1a-3b33-4c84-be2a-2cd259698dff",
   "metadata": {
    "tags": []
   },
   "outputs": [],
   "source": [
    "import torch\n",
    "import numpy as np\n",
    "from torch.utils.data import Dataset\n",
    "import sklearn.datasets as skds\n",
    "from sklearn.model_selection import train_test_split\n",
    "from torch.utils.data import DataLoader\n",
    "import math\n",
    "from IPython import display\n",
    "from time import sleep\n",
    "import pickle\n",
    "import pandas as pd"
   ]
  },
  {
   "cell_type": "code",
   "execution_count": null,
   "id": "c85f885c-e271-462c-bc64-99f5e70dff1d",
   "metadata": {
    "tags": []
   },
   "outputs": [],
   "source": [
    "import import_ipynb\n",
    "from feeds import DataFeed, BackFeed, USE_COLS_DICT\n",
    "from utils import MyDS\n",
    "from l2lutils import KShotLoader"
   ]
  },
  {
   "cell_type": "code",
   "execution_count": null,
   "id": "5d1324bf-969b-47db-ad01-8834897d8614",
   "metadata": {
    "tags": []
   },
   "outputs": [],
   "source": [
    "COLS=['row_num',\n",
    " 'Open_n_val',\n",
    " 'High_n_val',\n",
    " 'Low_n_val',\n",
    " 'Close_n_val',\n",
    " 'Volume_n_val',\n",
    " 'SMA_10_val',\n",
    " 'SMA_20_val',\n",
    " 'CMO_14_val',\n",
    " 'High_n-Low_n_val',\n",
    " 'Open_n-Close_n_val',\n",
    " 'SMA_20-SMA_10_val',\n",
    " 'Close_n_slope_3_val',\n",
    " 'Close_n_slope_5_val',\n",
    " 'Close_n_slope_10_val',\n",
    " 'Open_n_changelen_val',\n",
    " 'High_n_changelen_val',\n",
    " 'Low_n_changelen_val',\n",
    " 'Close_n_changelen_val',\n",
    " 'High_n-Low_n_changelen_val',\n",
    " 'Open_n-Close_n_changelen_val',\n",
    " 'SMA_20-SMA_10_changelen_val',\n",
    " 'Close_n_slope_3_changelen_val',\n",
    " 'Close_n_slope_5_changelen_val',\n",
    " 'Close_n_slope_10_changelen_val']\n",
    "COLS=COLS+['target_5_val','target_10_val','era','day']"
   ]
  },
  {
   "cell_type": "markdown",
   "id": "9f9ae45c-0c3d-46cd-aaa0-fda7b14f56ce",
   "metadata": {},
   "source": [
    "#### Load data and set parameters"
   ]
  },
  {
   "cell_type": "code",
   "execution_count": null,
   "id": "290a8216-57a2-4e50-ae76-d1caeb25368b",
   "metadata": {
    "tags": []
   },
   "outputs": [],
   "source": [
    "DATAPATH='/Users/a112956/DataLocal/fin_regression_summer_proj/'"
   ]
  },
  {
   "cell_type": "code",
   "execution_count": null,
   "id": "e9e5381a-5a57-48c9-9766-3c34b94559d0",
   "metadata": {
    "tags": []
   },
   "outputs": [],
   "source": [
    "sigmaL=[[0,0],[0,.05],[.01,0],[.01,.05],[.03,0],[.05,.05],[.075,0],[.075,.05]]"
   ]
  },
  {
   "cell_type": "code",
   "execution_count": null,
   "id": "d7c9a514-5407-4ca2-9b72-bda281933404",
   "metadata": {
    "tags": []
   },
   "outputs": [],
   "source": [
    "# To get started choose zero NOISE\n",
    "sid=sigmaL[0]"
   ]
  },
  {
   "cell_type": "code",
   "execution_count": null,
   "id": "01103948-5587-4c42-af12-2f33319e6b1a",
   "metadata": {
    "tags": []
   },
   "outputs": [],
   "source": [
    "df_train=pd.read_csv(DATAPATH+f'df_syn_train{sid}.csv')[COLS]\n",
    "df_test=pd.read_csv(DATAPATH+f'df_syn_test{sid}.csv')[COLS]"
   ]
  },
  {
   "cell_type": "code",
   "execution_count": null,
   "id": "2d67c089-bd55-4763-bb1c-57ec17748c1a",
   "metadata": {
    "tags": []
   },
   "outputs": [],
   "source": [
    "df_train_test=pd.read_csv(DATAPATH+f'df_syn_train_test{sid}.csv')[COLS]\n",
    "df_test_test=pd.read_csv(DATAPATH+f'df_syn_test_test{sid}.csv')[COLS]"
   ]
  },
  {
   "cell_type": "code",
   "execution_count": null,
   "id": "412fe0db-386c-4c5c-b770-975207354464",
   "metadata": {
    "tags": []
   },
   "outputs": [],
   "source": [
    "df_train.shape,df_test.shape,df_train_test.shape,df_test_test.shape"
   ]
  },
  {
   "cell_type": "code",
   "execution_count": null,
   "id": "7d48f7c7-4ac6-4a24-9b36-5da9b427d05c",
   "metadata": {
    "tags": []
   },
   "outputs": [],
   "source": [
    "df_train['era'].unique()"
   ]
  },
  {
   "cell_type": "code",
   "execution_count": null,
   "id": "d0905991-7e85-4c9d-b109-5422ea7e7cb6",
   "metadata": {
    "tags": []
   },
   "outputs": [],
   "source": [
    "# for getting started choose just one era and train/test from same era\n",
    "df=df_train.loc[df_train['era']==6]\n",
    "df=df_test.loc[df_test['era']==6]\n",
    "trainf=df.iloc[0:int(.8*df.shape[0])]\n",
    "testf=df.iloc[int(.8*df.shape[0]):]"
   ]
  },
  {
   "cell_type": "code",
   "execution_count": null,
   "id": "2d25f9e1-d902-46d6-a2f0-aa5abd22e52d",
   "metadata": {
    "tags": []
   },
   "outputs": [],
   "source": [
    "ds_train=MyDS(trainf.iloc[:,0:-4].values,trainf.iloc[:,-3].values,task='regression')"
   ]
  },
  {
   "cell_type": "code",
   "execution_count": null,
   "id": "333c9e5c-5015-4dcb-9dc7-d796cdece754",
   "metadata": {
    "tags": []
   },
   "outputs": [],
   "source": [
    "ds_test=MyDS(testf.iloc[:,0:-4].values,testf.iloc[:,-3].values,task='regression')"
   ]
  },
  {
   "cell_type": "markdown",
   "id": "962f2fcc-3671-40b7-a32c-cb3ca70d3fee",
   "metadata": {},
   "source": [
    "#### Regression"
   ]
  },
  {
   "cell_type": "code",
   "execution_count": null,
   "id": "b562f504-2a4f-44b1-bc52-a52c47c81aae",
   "metadata": {
    "tags": []
   },
   "outputs": [],
   "source": [
    "from xgboost import XGBRegressor, XGBClassifier\n",
    "rxf = XGBRegressor(max_depth=3, learning_rate=1.0, \\\n",
    "                     n_estimators=500, colsample_bytree=0.1)"
   ]
  },
  {
   "cell_type": "code",
   "execution_count": null,
   "id": "f593d648-15af-4d65-a96f-d27fb2a53cb6",
   "metadata": {
    "tags": []
   },
   "outputs": [],
   "source": [
    "_=rxf.fit(ds_train.samples,ds_train.labels)"
   ]
  },
  {
   "cell_type": "code",
   "execution_count": null,
   "id": "f4026671-ed51-4a27-83d0-5e1603c1789a",
   "metadata": {
    "tags": []
   },
   "outputs": [],
   "source": [
    "# make predictions\n",
    "predictions_train=rxf.predict(ds_train.samples.numpy())"
   ]
  },
  {
   "cell_type": "code",
   "execution_count": null,
   "id": "b75470b9-224f-4639-82dc-2d8d3f823b4d",
   "metadata": {
    "tags": []
   },
   "outputs": [],
   "source": [
    "# compute RMSE\n",
    "np.sqrt(np.mean((predictions_train-ds_train.labels.numpy())**2))"
   ]
  },
  {
   "cell_type": "code",
   "execution_count": null,
   "id": "77bacb71-795f-43bb-a617-aa3f73a46fdd",
   "metadata": {
    "tags": []
   },
   "outputs": [],
   "source": [
    "# make predictions\n",
    "predictions_test=rxf.predict(ds_test.samples.numpy())"
   ]
  },
  {
   "cell_type": "code",
   "execution_count": null,
   "id": "01f6f721-3701-424c-83a2-25239d6d3d3f",
   "metadata": {
    "tags": []
   },
   "outputs": [],
   "source": [
    "# compute RMSE\n",
    "np.sqrt(np.mean((predictions_test-ds_test.labels.numpy())**2))"
   ]
  },
  {
   "cell_type": "code",
   "execution_count": null,
   "id": "7a88cec1-50d3-4ae6-b0f5-0ba890009fdd",
   "metadata": {
    "tags": []
   },
   "outputs": [],
   "source": [
    "from sklearn.ensemble import GradientBoostingClassifier,GradientBoostingRegressor\n",
    "rlf = GradientBoostingRegressor(n_estimators=100, learning_rate=1.0, max_depth=3, random_state=0)"
   ]
  },
  {
   "cell_type": "code",
   "execution_count": null,
   "id": "12d77736-0136-4e37-ac3b-af88ee1a1459",
   "metadata": {
    "tags": []
   },
   "outputs": [],
   "source": [
    "_=rlf.fit(ds_train.samples,ds_train.labels)"
   ]
  },
  {
   "cell_type": "code",
   "execution_count": null,
   "id": "7e461b7c-ed5b-48f6-a824-c17c2d9b806a",
   "metadata": {
    "tags": []
   },
   "outputs": [],
   "source": [
    "# make predictions\n",
    "predictions_train=rlf.predict(ds_train.samples.numpy())"
   ]
  },
  {
   "cell_type": "code",
   "execution_count": null,
   "id": "eb11d6de-e1e6-44bd-9761-0f71990a7e76",
   "metadata": {
    "tags": []
   },
   "outputs": [],
   "source": [
    "# compute RMSE\n",
    "np.sqrt(np.mean((predictions_train-ds_train.labels.numpy())**2))"
   ]
  },
  {
   "cell_type": "code",
   "execution_count": null,
   "id": "8afc93b6-8485-46b8-93df-27839899f223",
   "metadata": {
    "tags": []
   },
   "outputs": [],
   "source": [
    "# make predictions\n",
    "predictions_test=rlf.predict(ds_test.samples.numpy())"
   ]
  },
  {
   "cell_type": "code",
   "execution_count": null,
   "id": "bca1ae68-81e9-4c19-adf6-d84631688b3c",
   "metadata": {
    "tags": []
   },
   "outputs": [],
   "source": [
    "# compute RMSE\n",
    "np.sqrt(np.mean((predictions_test-ds_test.labels.numpy())**2))"
   ]
  },
  {
   "cell_type": "markdown",
   "id": "337a7440-0c39-446b-b9e8-c323220d540c",
   "metadata": {},
   "source": [
    "#### Classification"
   ]
  },
  {
   "cell_type": "code",
   "execution_count": null,
   "id": "c25b8ab2-8bd3-4bfd-9bab-0c37c70d9257",
   "metadata": {
    "tags": []
   },
   "outputs": [],
   "source": [
    "cxf=XGBClassifier(max_depth=3, learning_rate=0.01, \\\n",
    "                     n_estimators=500, colsample_bytree=0.1)"
   ]
  },
  {
   "cell_type": "code",
   "execution_count": null,
   "id": "add4103a-fa27-4ced-9b94-1e7cf34b08d7",
   "metadata": {
    "tags": []
   },
   "outputs": [],
   "source": [
    "_=cxf.fit(ds_train.samples,[int(l*4) for l in ds_train.labels])"
   ]
  },
  {
   "cell_type": "code",
   "execution_count": null,
   "id": "9b39cab0-dcea-4879-ac62-62154b5ca5b1",
   "metadata": {
    "tags": []
   },
   "outputs": [],
   "source": [
    "# make predictions\n",
    "predictions_train=cxf.predict(ds_train.samples.numpy())"
   ]
  },
  {
   "cell_type": "code",
   "execution_count": null,
   "id": "3a4cff3f-f97e-4f98-85d1-55b66e96cfcd",
   "metadata": {
    "tags": []
   },
   "outputs": [],
   "source": [
    "# compute accuracy\n",
    "sum([int(p==l) for p,l in zip(predictions_train,[int(l*4) for l in ds_train.labels])])/len(predictions_train)"
   ]
  },
  {
   "cell_type": "code",
   "execution_count": null,
   "id": "0e4b7b80-5eee-4b75-82f9-f826200999d2",
   "metadata": {
    "tags": []
   },
   "outputs": [],
   "source": [
    "# make predictions\n",
    "predictions_test=cxf.predict(ds_test.samples.numpy())"
   ]
  },
  {
   "cell_type": "code",
   "execution_count": null,
   "id": "84c4cd48-2b72-4e7d-ac27-42cb8252ac85",
   "metadata": {
    "tags": []
   },
   "outputs": [],
   "source": [
    "# compute accuracy\n",
    "sum([int(p==l) for p,l in zip(predictions_test,[int(l*4) for l in ds_test.labels])])/len(predictions_test)"
   ]
  },
  {
   "cell_type": "code",
   "execution_count": null,
   "id": "b55d1aef-1eed-412a-ae84-7e9ffec500fa",
   "metadata": {
    "tags": []
   },
   "outputs": [],
   "source": [
    "clf = GradientBoostingClassifier(n_estimators=100, learning_rate=1.0,max_depth=3,random_state=0)"
   ]
  },
  {
   "cell_type": "code",
   "execution_count": null,
   "id": "b7e97fd1-ad64-4a23-8bcc-b7e120c82576",
   "metadata": {
    "tags": []
   },
   "outputs": [],
   "source": [
    "_=clf.fit(ds_train.samples,[int(l*4) for l in ds_train.labels])"
   ]
  },
  {
   "cell_type": "code",
   "execution_count": null,
   "id": "b2318992-345c-4363-aaa3-5ad402ac0ac6",
   "metadata": {
    "tags": []
   },
   "outputs": [],
   "source": [
    "# make predictions\n",
    "predictions_train=clf.predict(ds_train.samples.numpy())"
   ]
  },
  {
   "cell_type": "code",
   "execution_count": null,
   "id": "1af428c1-9162-4585-94b8-264fdb5a4358",
   "metadata": {
    "tags": []
   },
   "outputs": [],
   "source": [
    "# compute accuracy\n",
    "sum([int(p==l) for p,l in zip(predictions_train,[int(l*4) for l in ds_train.labels])])/len(predictions_train)"
   ]
  },
  {
   "cell_type": "code",
   "execution_count": null,
   "id": "601a6590-8625-4d10-97e8-b30c18f7a6b6",
   "metadata": {
    "tags": []
   },
   "outputs": [],
   "source": [
    "# make predictions\n",
    "predictions_test=clf.predict(ds_test.samples.numpy())"
   ]
  },
  {
   "cell_type": "code",
   "execution_count": null,
   "id": "19ea804f-9ad6-4313-8093-3b3e4eb6242a",
   "metadata": {
    "tags": []
   },
   "outputs": [],
   "source": [
    "# compute accuracy\n",
    "sum([int(p==l) for p,l in zip(predictions_test,[int(l*4) for l in ds_test.labels])])/len(predictions_test)"
   ]
  },
  {
   "cell_type": "markdown",
   "id": "ee5febc0-e799-4b3f-aca1-9ad1d5f1bcc5",
   "metadata": {
    "tags": []
   },
   "source": [
    "##### Neural network classifier"
   ]
  },
  {
   "cell_type": "code",
   "execution_count": null,
   "id": "d028b385-cccf-40a0-9f49-772ad3bf9c08",
   "metadata": {
    "tags": []
   },
   "outputs": [],
   "source": [
    "import torch\n",
    "ds_train.labels=np.array([int(l*4) for l in ds_train.labels])\n",
    "ds_test.labels=np.array([int(l*4) for l in ds_test.labels])"
   ]
  },
  {
   "cell_type": "code",
   "execution_count": null,
   "id": "d4d2e64f-8681-4e68-9523-973ade6a92c4",
   "metadata": {
    "tags": []
   },
   "outputs": [],
   "source": [
    "dsloader = torch.utils.data.DataLoader(dataset=ds_train,batch_size=32,shuffle=True)"
   ]
  },
  {
   "cell_type": "code",
   "execution_count": null,
   "id": "60a280a2-f813-4ed1-bde3-13d80bd8118d",
   "metadata": {
    "tags": []
   },
   "outputs": [],
   "source": [
    "import import_ipynb\n",
    "import models\n",
    "net = models.MLP(dims=[25,128,64,5])"
   ]
  },
  {
   "cell_type": "code",
   "execution_count": null,
   "id": "f631dab4-cdf2-4b25-ac40-9d55b9ecf163",
   "metadata": {
    "tags": []
   },
   "outputs": [],
   "source": [
    "net,losses,accs=models.Train(net,dsloader,epochs=100,verbose=True)"
   ]
  },
  {
   "cell_type": "code",
   "execution_count": null,
   "id": "67dd3b0e-5dac-4055-8044-9591069d3a62",
   "metadata": {
    "tags": []
   },
   "outputs": [],
   "source": [
    "# train accuracy\n",
    "models.accuracy(net,torch.tensor(ds_train.samples),torch.tensor(ds_train.labels))"
   ]
  },
  {
   "cell_type": "code",
   "execution_count": null,
   "id": "d2bb4e1b-b431-4d64-a870-8b36a00172ff",
   "metadata": {
    "tags": []
   },
   "outputs": [],
   "source": [
    "# test accuracy\n",
    "models.accuracy(net,torch.tensor(ds_test.samples),torch.tensor(ds_test.labels))"
   ]
  },
  {
   "cell_type": "code",
   "execution_count": null,
   "id": "afaa8a97-e199-4c8a-94a2-ff703fb2f501",
   "metadata": {
    "tags": []
   },
   "outputs": [],
   "source": [
    "predictions_train=[(torch.argmax(p,dim=-1)).item() for p in net(ds_train.samples)]"
   ]
  },
  {
   "cell_type": "code",
   "execution_count": null,
   "id": "2f4c0721-3790-42e3-bd18-5b89f29171d2",
   "metadata": {
    "tags": []
   },
   "outputs": [],
   "source": [
    "# compute accuracy\n",
    "sum([int(p==l) for p,l in zip(predictions_train,ds_train.labels)])/len(predictions_train)"
   ]
  },
  {
   "cell_type": "code",
   "execution_count": null,
   "id": "3e27c902-89e5-409b-8e5e-7feb1b83a3fa",
   "metadata": {
    "tags": []
   },
   "outputs": [],
   "source": [
    "predictions_test=[(torch.argmax(p,dim=-1)).item() for p in net(ds_test.samples)]"
   ]
  },
  {
   "cell_type": "code",
   "execution_count": null,
   "id": "e562b19f-1f25-4800-8c65-938aa94d9c0c",
   "metadata": {
    "tags": []
   },
   "outputs": [],
   "source": [
    "# compute accuracy\n",
    "sum([int(p==l) for p,l in zip(predictions_test,ds_test.labels)])/len(predictions_test)"
   ]
  },
  {
   "cell_type": "markdown",
   "id": "22b3fb5c-d746-4fc8-b7cb-95e4c716cc34",
   "metadata": {},
   "source": [
    "##### RIPPER Rule Learner (there is also IREP in the same package) this needs to be debugged first"
   ]
  },
  {
   "cell_type": "code",
   "execution_count": null,
   "id": "1a134949-4c9d-4987-b345-e12b9be3e4fe",
   "metadata": {
    "tags": []
   },
   "outputs": [],
   "source": [
    "ds_train=MyDS(trainf.iloc[:,0:-4].values,trainf.iloc[:,-3].values,task='regression')\n",
    "ds_test=MyDS(testf.iloc[:,0:-4].values,testf.iloc[:,-3].values,task='regression')"
   ]
  },
  {
   "cell_type": "code",
   "execution_count": null,
   "id": "a7e719a4-b2aa-4f8d-b694-5ee3b90e5140",
   "metadata": {
    "tags": []
   },
   "outputs": [],
   "source": [
    "# You will need to install this via pip install wittgenstien\n",
    "import wittgenstein as lw"
   ]
  },
  {
   "cell_type": "code",
   "execution_count": null,
   "id": "08a32f60-e256-4a7b-8812-209aa0d022a6",
   "metadata": {
    "tags": []
   },
   "outputs": [],
   "source": [
    "ripper_clf = lw.RIPPER(max_rules=4,\n",
    "        max_rule_conds=2,\n",
    "        max_total_conds=6)"
   ]
  },
  {
   "cell_type": "code",
   "execution_count": null,
   "id": "b802331d-1170-43ef-b41b-be6e4bdfa4c6",
   "metadata": {
    "tags": []
   },
   "outputs": [],
   "source": [
    "# np.array([int(l*4) for l in ds_train.labels])"
   ]
  },
  {
   "cell_type": "code",
   "execution_count": null,
   "id": "c23357a0-572e-4376-8ac5-a05bfb358b8e",
   "metadata": {
    "tags": []
   },
   "outputs": [],
   "source": [
    "ripper_clf.fit(ds_train.samples.numpy(),np.array([int(l*4) for l in ds_train.labels]),pos_class=1)"
   ]
  },
  {
   "cell_type": "code",
   "execution_count": null,
   "id": "d5cfdbf6-a1f3-4203-857f-3da71fb2fde0",
   "metadata": {
    "tags": []
   },
   "outputs": [],
   "source": [
    "ripper_clf.out_model()"
   ]
  },
  {
   "cell_type": "code",
   "execution_count": null,
   "id": "a8dce8b9-113a-4216-9249-aec575d4bd92",
   "metadata": {
    "tags": []
   },
   "outputs": [],
   "source": [
    "# make predictions\n",
    "predictions_train=ripper_clf.predict(ds_train.samples.numpy())"
   ]
  },
  {
   "cell_type": "code",
   "execution_count": null,
   "id": "f8800553-65c0-496b-9877-52a457528b59",
   "metadata": {
    "tags": []
   },
   "outputs": [],
   "source": [
    "# predictions_train"
   ]
  },
  {
   "cell_type": "code",
   "execution_count": null,
   "id": "537d25b1-b89d-4884-af7c-18a9a1c31783",
   "metadata": {
    "tags": []
   },
   "outputs": [],
   "source": [
    "def class_accuracy(predictions,y,class_id):\n",
    "    eq=[(lambda x: 1 if x[0]==x[1] else 0)(x) for x in zip(predictions,y==class_id)]\n",
    "    return sum(eq)/len(eq)"
   ]
  },
  {
   "cell_type": "code",
   "execution_count": null,
   "id": "3c63b21b-ad48-447a-b995-ead52277c797",
   "metadata": {
    "tags": []
   },
   "outputs": [],
   "source": [
    "def class_pos_precision(predictions,y,class_id):\n",
    "    eq=[(lambda x: 1 if (x[0]==x[1] and x[0]==True) else 0)(x) for x in zip(predictions,y==class_id)]\n",
    "    return sum(eq)/len(eq)"
   ]
  },
  {
   "cell_type": "code",
   "execution_count": null,
   "id": "2df866ec-b3bc-4a65-9b8f-710236da7d63",
   "metadata": {
    "tags": []
   },
   "outputs": [],
   "source": [
    "class_accuracy(predictions_train,np.array([int(l*4) for l in ds_train.labels]),1)"
   ]
  },
  {
   "cell_type": "code",
   "execution_count": null,
   "id": "32ef1c8e-3e2c-48ed-a382-bfcb4efe7cfc",
   "metadata": {
    "tags": []
   },
   "outputs": [],
   "source": [
    "class_pos_precision(predictions_train,np.array([int(l*4) for l in ds_train.labels]),1)"
   ]
  },
  {
   "cell_type": "code",
   "execution_count": null,
   "id": "3270f5c4-ec7e-4a1d-95c0-cc9585b69954",
   "metadata": {
    "tags": []
   },
   "outputs": [],
   "source": [
    "# RIPPER needs debugging - using simpler dataset appears working but not here"
   ]
  },
  {
   "cell_type": "markdown",
   "id": "3b7fd639-840f-40c8-b1fc-e518876cbdd3",
   "metadata": {},
   "source": [
    "##### Differentiable rule network - this will need to be extended as part two of the project"
   ]
  },
  {
   "cell_type": "code",
   "execution_count": null,
   "id": "66d72074-42c4-4153-a8ed-42cff6fe4835",
   "metadata": {
    "tags": []
   },
   "outputs": [],
   "source": [
    "from differentiable_rules import DiffRule"
   ]
  },
  {
   "cell_type": "code",
   "execution_count": null,
   "id": "29c6b05b-ccaf-45f1-8d12-9eb549a39c01",
   "metadata": {
    "tags": []
   },
   "outputs": [],
   "source": [
    "dr= DiffRule(25,5,3,3)"
   ]
  },
  {
   "cell_type": "code",
   "execution_count": null,
   "id": "9ca2dd9c-1a03-4164-84f1-865611017dda",
   "metadata": {
    "tags": []
   },
   "outputs": [],
   "source": [
    "net,losses,accs=models.Train(dr,dsloader,epochs=100,verbose=True)"
   ]
  },
  {
   "cell_type": "markdown",
   "id": "fa671069-4a64-4a7b-be4e-826a3d785b64",
   "metadata": {},
   "source": [
    "## Format for Table of Results (to be Created) \n",
    "Extend this as needed, i.e. different algorithms, different train-test file combinations"
   ]
  },
  {
   "cell_type": "markdown",
   "id": "afce7750-f4ed-4c69-ada8-67fad77c576f",
   "metadata": {
    "tags": []
   },
   "source": [
    "<table>\n",
    "<thead>\n",
    "<tr><th>Dataset</th><th>XgbR</th><th>XgbC</th><th>GBR</th></tr>\n",
    "</thead>\n",
    "<tbody>\n",
    "<tr><td></td><td>params..<td>params..</td><td>params..</td></tr>\n",
    "    <tr><td>file_train</td><td>RMSE</td><td>Acc</td><td>RMSE</td></tr>\n",
    "    <tr><td>file_test</td><td>RMSE</td><td>Acc</td><td>RMSE</td></tr>\n",
    "</tbody>\n",
    "</table>"
   ]
  },
  {
   "cell_type": "code",
   "execution_count": null,
   "id": "957533ef-43da-47e9-8025-449249b1f552",
   "metadata": {},
   "outputs": [],
   "source": []
  },
  {
   "cell_type": "code",
   "execution_count": null,
   "id": "98f5a3fb-71db-4cc4-80cc-0f93ecb007d9",
   "metadata": {},
   "outputs": [],
   "source": []
  }
 ],
 "metadata": {
  "kernelspec": {
   "display_name": "Python 3 (ipykernel)",
   "language": "python",
   "name": "python3"
  },
  "language_info": {
   "codemirror_mode": {
    "name": "ipython",
    "version": 3
   },
   "file_extension": ".py",
   "mimetype": "text/x-python",
   "name": "python",
   "nbconvert_exporter": "python",
   "pygments_lexer": "ipython3",
   "version": "3.8.12"
  }
 },
 "nbformat": 4,
 "nbformat_minor": 5
}
