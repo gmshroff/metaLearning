{
 "cells": [
  {
   "cell_type": "code",
   "execution_count": null,
   "id": "072ee2e0-0ef2-4b88-bdae-1e97c1eb2010",
   "metadata": {},
   "outputs": [],
   "source": [
    "import import_ipynb\n",
    "import utils\n",
    "import models\n",
    "utils.hide_toggle('Imports 1')"
   ]
  },
  {
   "cell_type": "code",
   "execution_count": null,
   "id": "06d89c1d-303f-4c9e-aa3d-cd6e9a0aac3d",
   "metadata": {},
   "outputs": [],
   "source": [
    "from IPython import display\n",
    "import torch\n",
    "from sklearn.manifold import TSNE\n",
    "from matplotlib import pyplot as plt\n",
    "from l2lutils import KShotLoader\n",
    "from IPython import display\n",
    "import torch.nn as nn\n",
    "utils.hide_toggle('Imports 2')"
   ]
  },
  {
   "cell_type": "code",
   "execution_count": null,
   "id": "9ffd6660-bcd9-499d-b09a-d8c2274e64e8",
   "metadata": {},
   "outputs": [],
   "source": [
    "class CNP(nn.Module):\n",
    "    def __init__(self,n_features=1,dims=[32,32],n_ways=5,n_classes=2,lr=1e-4):\n",
    "        super(CNP,self).__init__()\n",
    "        self.n_features = n_features\n",
    "        self.n_classes = n_classes\n",
    "        self.n_ways = n_ways\n",
    "        dimL1 = [n_features]+dims\n",
    "        dimL2=[n_features+n_classes*dims[-1]]+dims+[n_classes]\n",
    "        self.mlp1 = models.MLP(dims=dimL1,task='embedding')\n",
    "        self.mlp2 = models.MLP(dims=dimL2)\n",
    "        self.optimizer=torch.optim.Adam(self.parameters(),lr=lr)\n",
    "    def adapt(self,X,y):\n",
    "        R = self.mlp1(X)\n",
    "        m = torch.eye(self.n_classes)[y].transpose(0,1)/self.n_ways\n",
    "        r = (m@R).flatten().unsqueeze(0)\n",
    "        #r = (R.sum(dim=0)/X.shape[0]).unsqueeze(0)\n",
    "        #return r\n",
    "        return r,m,R\n",
    "    def forward(self,Y,r):\n",
    "        rr = r.repeat(Y.shape[0],1)\n",
    "        p = self.mlp2(torch.cat((Y,rr),dim=1))\n",
    "        return p\n",
    "utils.hide_toggle('Class CNP')"
   ]
  },
  {
   "cell_type": "code",
   "execution_count": null,
   "id": "8859fd80-84ed-47ad-9dbf-c7f93aab7076",
   "metadata": {},
   "outputs": [],
   "source": []
  }
 ],
 "metadata": {
  "kernelspec": {
   "display_name": "Python 3 (ipykernel)",
   "language": "python",
   "name": "python3"
  },
  "language_info": {
   "codemirror_mode": {
    "name": "ipython",
    "version": 3
   },
   "file_extension": ".py",
   "mimetype": "text/x-python",
   "name": "python",
   "nbconvert_exporter": "python",
   "pygments_lexer": "ipython3",
   "version": "3.10.14"
  }
 },
 "nbformat": 4,
 "nbformat_minor": 5
}
