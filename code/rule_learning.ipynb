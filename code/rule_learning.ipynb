{
 "cells": [
  {
   "cell_type": "markdown",
   "id": "e6686dd6-0131-4f08-b93b-352a99991ab0",
   "metadata": {},
   "source": [
    "### Rule Learning\n",
    "1. Decision Tree\n",
    "2. CN2Basic and CN2\n",
    "3. Differentiable DT\n",
    "4. Differentiable Rule Learner\n",
    "5. Differentiable CN2\n",
    "6. IREP and RIPPER"
   ]
  },
  {
   "cell_type": "code",
   "execution_count": null,
   "id": "189a990d-88bf-44ab-a957-f7dabbd7c64a",
   "metadata": {
    "tags": []
   },
   "outputs": [],
   "source": [
    "import numpy as np\n",
    "import pandas as pd"
   ]
  },
  {
   "cell_type": "code",
   "execution_count": null,
   "id": "d62d9792-3883-4eb9-8be0-b2b584c24448",
   "metadata": {
    "tags": []
   },
   "outputs": [],
   "source": [
    "url='https://archive.ics.uci.edu/ml/machine-learning-databases/voting-records/'\n",
    "df=pd.read_csv(url+'house-votes-84.data')"
   ]
  },
  {
   "cell_type": "code",
   "execution_count": null,
   "id": "bd56af3c-4b08-4962-a429-00759cd3bd19",
   "metadata": {
    "tags": []
   },
   "outputs": [],
   "source": [
    "url='https://archive.ics.uci.edu/ml/machine-learning-databases/iris/'\n",
    "df=pd.read_csv(url+'iris.data')"
   ]
  },
  {
   "cell_type": "code",
   "execution_count": null,
   "id": "2ceff433-3ad3-4c45-b88a-c782b2dfb9fd",
   "metadata": {
    "tags": []
   },
   "outputs": [],
   "source": [
    "import import_ipynb\n",
    "from dt import DecisionTree"
   ]
  },
  {
   "cell_type": "code",
   "execution_count": null,
   "id": "74ad366e-21d7-4d3c-a5e7-6a61911c6f78",
   "metadata": {
    "tags": []
   },
   "outputs": [],
   "source": [
    "df.columns"
   ]
  },
  {
   "cell_type": "code",
   "execution_count": null,
   "id": "d436fafe-ea2d-414e-891a-8785506c3376",
   "metadata": {
    "tags": []
   },
   "outputs": [],
   "source": [
    "df.columns.values[4]"
   ]
  },
  {
   "cell_type": "code",
   "execution_count": null,
   "id": "733f8b20-96e1-41ea-acb8-a1bbc7cf0ac2",
   "metadata": {
    "tags": []
   },
   "outputs": [],
   "source": [
    "X_train = df.loc[:,df.columns.values[:-1]]\n",
    "y_train = df[df.columns.values[4]]"
   ]
  },
  {
   "cell_type": "code",
   "execution_count": null,
   "id": "76abc9cd-56ce-4d54-a739-69c5d779314b",
   "metadata": {
    "tags": []
   },
   "outputs": [],
   "source": [
    "y_train"
   ]
  },
  {
   "cell_type": "code",
   "execution_count": null,
   "id": "1e5fad2d-5958-42dc-8647-efdcc318257a",
   "metadata": {
    "tags": []
   },
   "outputs": [],
   "source": [
    "dt = DecisionTree()\n",
    "dt.train(X_train, y_train)"
   ]
  },
  {
   "cell_type": "code",
   "execution_count": null,
   "id": "96097315-8242-4884-ab49-976483b25360",
   "metadata": {
    "tags": []
   },
   "outputs": [],
   "source": [
    "dt.visualize(char_len=35, space_len=2)"
   ]
  },
  {
   "cell_type": "code",
   "execution_count": null,
   "id": "6eed92ca-659f-4c05-b1b0-dc22e7904750",
   "metadata": {
    "tags": []
   },
   "outputs": [],
   "source": [
    "def is_athlete(h, w):\n",
    "    if h >= 190: return 'yes'\n",
    "    if h > 170 and w < 90: return 'yes'\n",
    "    return 'no'\n",
    "# Height > 170 and Weight < 90 or Height >= 190\n",
    "size = 20\n",
    "\n",
    "heights = np.random.randint(160, 200, size=size)\n",
    "weights = np.random.randint(70, 95, size=size)\n",
    " \n",
    "df = pd.DataFrame({'height': heights, 'weight': weights})\n",
    "df['athlete'] = df.apply(lambda x: is_athlete(x['height'], x['weight']), axis=1)\n",
    "df['athlete'].value_counts()"
   ]
  },
  {
   "cell_type": "code",
   "execution_count": null,
   "id": "fb16a8dd-6421-486d-9706-e94cbf593fee",
   "metadata": {
    "tags": []
   },
   "outputs": [],
   "source": [
    "X_train = df.loc[:, ['height','weight']]\n",
    "y_train = df.loc[:, 'athlete']\n",
    "\n",
    "dt = DecisionTree()\n",
    "dt.train(X_train, y_train)"
   ]
  },
  {
   "cell_type": "code",
   "execution_count": null,
   "id": "bced79ed-dda9-4816-b2f4-e8ebbb182365",
   "metadata": {
    "tags": []
   },
   "outputs": [],
   "source": [
    "dt.visualize(char_len=35, space_len=2)"
   ]
  },
  {
   "cell_type": "code",
   "execution_count": null,
   "id": "b64ad56d-719a-49c7-9378-6803fc1991fc",
   "metadata": {
    "tags": []
   },
   "outputs": [],
   "source": [
    "dt.prune(impurity_thresh=1)"
   ]
  },
  {
   "cell_type": "code",
   "execution_count": null,
   "id": "6bfb655f-6857-45cc-a454-e8788f43b72e",
   "metadata": {
    "tags": []
   },
   "outputs": [],
   "source": [
    "from sklearn.metrics import accuracy_score"
   ]
  },
  {
   "cell_type": "code",
   "execution_count": null,
   "id": "134e70fb-f8cd-4e07-b483-b471d593d532",
   "metadata": {
    "tags": []
   },
   "outputs": [],
   "source": [
    "predictions=dt.predict(X_train)"
   ]
  },
  {
   "cell_type": "code",
   "execution_count": null,
   "id": "970808dc-1f59-4690-8a1e-31b97c007858",
   "metadata": {
    "tags": []
   },
   "outputs": [],
   "source": [
    "accuracy_score(y_train,predictions)"
   ]
  },
  {
   "cell_type": "code",
   "execution_count": null,
   "id": "d9070d80-d9aa-4847-a485-92802023ab0e",
   "metadata": {},
   "outputs": [],
   "source": [
    "# X_train = df.loc[:, ['height', 'weight']].values\n",
    "# y_train = df.loc[:, 'athlete'].apply(lambda x: 1 if x=='yes' else 0).values\n",
    "\n",
    "# clf = DecisionTreeClassifier(max_depth=2)\n",
    "# model = clf.fit(X_train, y_train)\n",
    "\n",
    "# # DOT data\n",
    "# dot_data = tree.export_graphviz(clf, out_file=None,\n",
    "#                                 feature_names=['height', 'weight'],\n",
    "#                                 class_names=['no', 'yes'],\n",
    "#                                 filled=True)\n",
    "# # Draw graph\n",
    "# graph = graphviz.Source(dot_data, format=\"png\")\n",
    "# graph"
   ]
  },
  {
   "cell_type": "markdown",
   "id": "d1f8690b-465c-40c9-afde-bc796d029fb4",
   "metadata": {},
   "source": [
    "### CN2"
   ]
  },
  {
   "cell_type": "code",
   "execution_count": null,
   "id": "30c229c6-b384-4ab9-b92a-00b8eb9c84d0",
   "metadata": {
    "tags": []
   },
   "outputs": [],
   "source": [
    "import numpy as np"
   ]
  },
  {
   "cell_type": "code",
   "execution_count": null,
   "id": "86764190-7152-48f0-b4e3-93749beebe70",
   "metadata": {
    "tags": []
   },
   "outputs": [],
   "source": [
    "import import_ipynb\n",
    "from cn2_rule_induction import CN2\n",
    "from cn2_rule_induction_basic import CN2Basic"
   ]
  },
  {
   "cell_type": "code",
   "execution_count": null,
   "id": "060e9f3e-75c2-4acb-9ec8-219f0b03c2cb",
   "metadata": {
    "tags": []
   },
   "outputs": [],
   "source": [
    "from sklearn.datasets import load_iris\n",
    "from sklearn.model_selection import train_test_split\n",
    "from sklearn.metrics import accuracy_score\n",
    "\n",
    "# Load the Iris dataset\n",
    "iris = load_iris()\n",
    "data = iris.data\n",
    "target = iris.target\n",
    "\n",
    "# Split the data into training and testing sets\n",
    "X_train, X_test, y_train, y_test = train_test_split(data, target, test_size=0.2, random_state=42)\n",
    "\n",
    "# Initialize the CN2 algorithm\n",
    "cn2 = CN2Basic(significance=0.9, min_coverage=30)\n",
    "\n",
    "# Learn the rules from the training data\n",
    "cn2.learn(X_train, y_train)"
   ]
  },
  {
   "cell_type": "code",
   "execution_count": null,
   "id": "b66cb97f-8231-4964-8e35-414b04035d79",
   "metadata": {
    "tags": []
   },
   "outputs": [],
   "source": [
    "# Evaluate the learned rules on the test data\n",
    "predictions = []\n",
    "for example in X_test:\n",
    "    for rule in cn2.rules:\n",
    "        if rule.applies(example):\n",
    "            predictions.append(rule.class_label)\n",
    "            break\n",
    "    else:\n",
    "        predictions.append(cn2.default_class)\n",
    "\n",
    "# Compute the accuracy of the learned rules\n",
    "accuracy = accuracy_score(y_test, predictions)\n",
    "print(f\"Train Accuracy: {accuracy}\")\n",
    "\n",
    "# Evaluate the learned rules on the test data\n",
    "predictions = []\n",
    "for example in X_test:\n",
    "    for rule in cn2.rules:\n",
    "        if rule.applies(example):\n",
    "            predictions.append(rule.class_label)\n",
    "            break\n",
    "    else:\n",
    "        predictions.append(cn2.default_class)\n",
    "\n",
    "# Compute the accuracy of the learned rules\n",
    "accuracy = accuracy_score(y_test, predictions)\n",
    "print(f\"Test Accuracy: {accuracy}\")\n",
    "\n",
    "predictions = []\n",
    "for example in X_train:\n",
    "    for rule in cn2.rules:\n",
    "        if rule.applies(example):\n",
    "            predictions.append(rule.class_label)\n",
    "            break\n",
    "    else:\n",
    "        predictions.append(cn2.default_class)\n",
    "\n",
    "# Compute the accuracy of the learned rules\n",
    "accuracy = accuracy_score(y_train, predictions)\n",
    "print(f\"Train Accuracy: {accuracy}\")"
   ]
  },
  {
   "cell_type": "code",
   "execution_count": null,
   "id": "3eb04a0e-1a0f-4a4c-b945-aab59de5ebb2",
   "metadata": {
    "tags": []
   },
   "outputs": [],
   "source": [
    "for r in cn2.rules:\n",
    "    print(r.strength,r.class_counts,r.class_label,sum(r.class_counts))"
   ]
  },
  {
   "cell_type": "code",
   "execution_count": null,
   "id": "1311df16-f70d-4b7e-acd1-1f68fc8955b9",
   "metadata": {
    "tags": []
   },
   "outputs": [],
   "source": [
    "for r in cn2.rules: print(r)"
   ]
  },
  {
   "cell_type": "code",
   "execution_count": null,
   "id": "dcea5faf-ef2b-4531-ab6d-7e1e2d7d322c",
   "metadata": {
    "tags": []
   },
   "outputs": [],
   "source": [
    "len(cn2.examples)+sum([sum(r.class_counts) for r in cn2.rules])"
   ]
  },
  {
   "cell_type": "code",
   "execution_count": null,
   "id": "57dffa23-6167-4917-afea-76d96b4207d7",
   "metadata": {
    "tags": []
   },
   "outputs": [],
   "source": [
    "len(X_train)"
   ]
  },
  {
   "cell_type": "code",
   "execution_count": null,
   "id": "2b5afe55-8009-4abe-86df-3054b072aa40",
   "metadata": {
    "tags": []
   },
   "outputs": [],
   "source": [
    "cn2.rules[0].class_counts"
   ]
  },
  {
   "cell_type": "code",
   "execution_count": null,
   "id": "ebfca05e-4fc8-47d3-ac4f-81c308e408e3",
   "metadata": {
    "tags": []
   },
   "outputs": [],
   "source": [
    "for e,l in zip(X_test,y_test): \n",
    "    print(cn2.rules[0].applies(e),cn2.predict(e),l)"
   ]
  },
  {
   "cell_type": "markdown",
   "id": "3d2b8ff3-7b8f-4e97-aa69-53e47248b36a",
   "metadata": {},
   "source": [
    "### IREP & RIPPER"
   ]
  },
  {
   "cell_type": "code",
   "execution_count": null,
   "id": "facb9ad9-621e-4772-97d9-f8b75070f1a6",
   "metadata": {
    "tags": []
   },
   "outputs": [],
   "source": [
    "from sklearn.datasets import load_iris\n",
    "from sklearn.model_selection import train_test_split\n",
    "from sklearn.metrics import accuracy_score\n",
    "\n",
    "# Load the Iris dataset\n",
    "iris = load_iris()\n",
    "data = iris.data\n",
    "target = iris.target\n",
    "\n",
    "# Split the data into training and testing sets\n",
    "X_train, X_test, y_train, y_test = train_test_split(data, target, test_size=0.2, random_state=42)\n",
    "\n",
    "import wittgenstein as lw"
   ]
  },
  {
   "cell_type": "code",
   "execution_count": null,
   "id": "a2a063c0-8da3-4cf7-b0dd-345876624733",
   "metadata": {
    "tags": []
   },
   "outputs": [],
   "source": [
    "ripper_clf = lw.RIPPER(max_rules=4,\n",
    "        max_rule_conds=2,\n",
    "        max_total_conds=6)"
   ]
  },
  {
   "cell_type": "code",
   "execution_count": null,
   "id": "e7a4913e-5ee8-40f8-b4d6-1e76558b5b5b",
   "metadata": {
    "tags": []
   },
   "outputs": [],
   "source": [
    "ripper_clf = lw.IREP()"
   ]
  },
  {
   "cell_type": "code",
   "execution_count": null,
   "id": "b5747f8c-e6b7-49bb-b7c3-101510774918",
   "metadata": {
    "tags": []
   },
   "outputs": [],
   "source": [
    "ripper_clf.fit(X_train,y_train,pos_class=1)"
   ]
  },
  {
   "cell_type": "code",
   "execution_count": null,
   "id": "f20fbe58-56f8-4bbf-b05f-c4c158c3297f",
   "metadata": {
    "tags": []
   },
   "outputs": [],
   "source": [
    "ripper_clf.out_model()"
   ]
  },
  {
   "cell_type": "code",
   "execution_count": null,
   "id": "2ca4b9de-6a98-44fd-b449-9c4f82e0e36b",
   "metadata": {
    "tags": []
   },
   "outputs": [],
   "source": [
    "predictions=ripper_clf.predict(X_test)"
   ]
  },
  {
   "cell_type": "code",
   "execution_count": null,
   "id": "26b7ea1d-7d76-46a1-8efa-1621b48bf7a8",
   "metadata": {
    "tags": []
   },
   "outputs": [],
   "source": [
    "def class_accuracy(predictions,y,class_id):\n",
    "    eq=[(lambda x: 1 if x[0]==x[1] else 0)(x) for x in zip(predictions,y==class_id)]\n",
    "    return sum(eq)/len(eq)"
   ]
  },
  {
   "cell_type": "code",
   "execution_count": null,
   "id": "8708ffb3-fb52-4f9d-9066-694bab43641e",
   "metadata": {
    "tags": []
   },
   "outputs": [],
   "source": [
    "class_accuracy(ripper_clf.predict(X_test),y_test,1)"
   ]
  },
  {
   "cell_type": "code",
   "execution_count": null,
   "id": "7800a62a-9526-456f-a72f-6f6e823a364d",
   "metadata": {
    "tags": []
   },
   "outputs": [],
   "source": [
    "[(lambda x: 1 if x[0]==x[1] else 0)(x) for x in zip(predictions,y_test==1)]"
   ]
  },
  {
   "cell_type": "code",
   "execution_count": null,
   "id": "a1f1ca3d-a522-4d3b-b6fe-bfd6083a3303",
   "metadata": {
    "tags": []
   },
   "outputs": [],
   "source": [
    "y_train==0"
   ]
  },
  {
   "cell_type": "code",
   "execution_count": null,
   "id": "3a3d0d04-2bfa-423d-867d-917ac1801254",
   "metadata": {
    "tags": []
   },
   "outputs": [],
   "source": [
    "import numpy as np\n",
    "[False] & np.array([False])"
   ]
  },
  {
   "cell_type": "code",
   "execution_count": null,
   "id": "e17d25ce-f442-4604-b009-9e7190b0a511",
   "metadata": {},
   "outputs": [],
   "source": []
  }
 ],
 "metadata": {
  "kernelspec": {
   "display_name": "Python 3 (ipykernel)",
   "language": "python",
   "name": "python3"
  },
  "language_info": {
   "codemirror_mode": {
    "name": "ipython",
    "version": 3
   },
   "file_extension": ".py",
   "mimetype": "text/x-python",
   "name": "python",
   "nbconvert_exporter": "python",
   "pygments_lexer": "ipython3",
   "version": "3.8.12"
  }
 },
 "nbformat": 4,
 "nbformat_minor": 5
}
