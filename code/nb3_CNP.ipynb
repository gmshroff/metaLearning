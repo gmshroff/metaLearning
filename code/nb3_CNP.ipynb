{
 "cells": [
  {
   "cell_type": "markdown",
   "metadata": {
    "colab_type": "text",
    "id": "view-in-github"
   },
   "source": [
    "<a href=\"https://colab.research.google.com/github/gmshroff/metaLearning2022/blob/main/code/nb3_CNP.ipynb\" target=\"_parent\"><img src=\"https://colab.research.google.com/assets/colab-badge.svg\" alt=\"Open In Colab\"/></a>"
   ]
  },
  {
   "cell_type": "markdown",
   "metadata": {
    "id": "Ll1SI6URByZo"
   },
   "source": [
    "# MODEL-BASED META-LEARNING USING \n",
    "\n",
    "# Conditional Neural Processes"
   ]
  },
  {
   "cell_type": "code",
   "execution_count": null,
   "metadata": {},
   "outputs": [],
   "source": [
    "# !pip install import_ipynb --quiet\n",
    "# !pip install learn2learn --quiet!pip install import_ipynb --quiet\n",
    "# !git clone https://github.com/gmshroff/metaLearning.git\n",
    "# %cd metaLearning/code"
   ]
  },
  {
   "cell_type": "code",
   "execution_count": null,
   "metadata": {
    "id": "sj8JQJhkByZr"
   },
   "outputs": [],
   "source": [
    "import import_ipynb\n",
    "import utils,models\n",
    "import l2lutils"
   ]
  },
  {
   "cell_type": "code",
   "execution_count": null,
   "metadata": {
    "id": "jl7x70q9ByZr"
   },
   "outputs": [],
   "source": [
    "from IPython import display\n",
    "import torch\n",
    "from sklearn.manifold import TSNE\n",
    "from matplotlib import pyplot as plt\n",
    "from l2lutils import KShotLoader\n",
    "from IPython import display\n",
    "import torch.nn as nn"
   ]
  },
  {
   "cell_type": "markdown",
   "metadata": {},
   "source": [
    "This is the CNP class"
   ]
  },
  {
   "cell_type": "code",
   "execution_count": null,
   "metadata": {
    "id": "Uf8vhZwyByZs"
   },
   "outputs": [],
   "source": [
    "from CNP import CNP"
   ]
  },
  {
   "cell_type": "markdown",
   "metadata": {
    "id": "UVQQrbWhByZs"
   },
   "source": [
    "# Data Generation/Loading"
   ]
  },
  {
   "cell_type": "code",
   "execution_count": null,
   "metadata": {
    "id": "bvnF8dWGByZt"
   },
   "outputs": [],
   "source": [
    "#Generate data - euclidean\n",
    "meta_train_ds, meta_test_ds, full_loader = utils.euclideanDataset(n_samples=10000,n_features=20,n_classes=10,batch_size=32)"
   ]
  },
  {
   "cell_type": "code",
   "execution_count": null,
   "metadata": {
    "id": "G46qzX5AByZt"
   },
   "outputs": [],
   "source": [
    "# Define an MLP network. Note that input dimension has to be data dimension. For classification\n",
    "# final dimension has to be number of classes; for regression one.\n",
    "#torch.manual_seed(10)\n",
    "net = models.MLP(dims=[20,64,10])"
   ]
  },
  {
   "cell_type": "code",
   "execution_count": null,
   "metadata": {
    "id": "Fv7RW17AByZt"
   },
   "outputs": [],
   "source": [
    "# Train the network; note that network is trained in place so repeated calls further train it.\n",
    "net,losses,accs=models.Train(net,full_loader,lr=1e-2,epochs=20,verbose=True)"
   ]
  },
  {
   "cell_type": "code",
   "execution_count": null,
   "metadata": {
    "id": "oUnHS4CRByZt"
   },
   "outputs": [],
   "source": [
    "#Training accuracy.\n",
    "models.accuracy(net,meta_train_ds.samples,meta_train_ds.labels,verbose=True)"
   ]
  },
  {
   "cell_type": "code",
   "execution_count": null,
   "metadata": {
    "id": "NXpJYfTIByZu"
   },
   "outputs": [],
   "source": [
    "# Test accuracy.\n",
    "models.accuracy(net,meta_test_ds.samples,meta_test_ds.labels)"
   ]
  },
  {
   "cell_type": "markdown",
   "metadata": {
    "id": "-B9Ug1wnByZu"
   },
   "source": [
    "# Meta-Learning: Tasks"
   ]
  },
  {
   "cell_type": "markdown",
   "metadata": {
    "id": "HKkMkA5qByZu"
   },
   "source": [
    "Generate a k-shot n-way loader using the meta-training dataset"
   ]
  },
  {
   "cell_type": "code",
   "execution_count": null,
   "metadata": {
    "id": "H5lWAqjgByZu"
   },
   "outputs": [],
   "source": [
    "meta_train_kloader=KShotLoader(meta_train_ds,shots=5,ways=2)"
   ]
  },
  {
   "cell_type": "markdown",
   "metadata": {
    "id": "AjuDjduoByZu"
   },
   "source": [
    "Sample a task - each task has a k-shot n-way training set and a similar test set"
   ]
  },
  {
   "cell_type": "code",
   "execution_count": null,
   "metadata": {
    "id": "XJK8A_nDByZu"
   },
   "outputs": [],
   "source": [
    "d_train,d_test=meta_train_kloader.get_task()"
   ]
  },
  {
   "cell_type": "markdown",
   "metadata": {
    "id": "Zti07reDByZu"
   },
   "source": [
    "Let's try directly learning using the task training set albeit its small size: create a dataset and loader and train it with the earlier network and Train function."
   ]
  },
  {
   "cell_type": "code",
   "execution_count": null,
   "metadata": {
    "id": "X0kU4wF7ByZv"
   },
   "outputs": [],
   "source": [
    "taskds = utils.MyDS(d_train[0],d_train[1])"
   ]
  },
  {
   "cell_type": "code",
   "execution_count": null,
   "metadata": {
    "id": "_xnQmzuZByZv"
   },
   "outputs": [],
   "source": [
    "d_train_loader = torch.utils.data.DataLoader(dataset=taskds,batch_size=1,shuffle=True)"
   ]
  },
  {
   "cell_type": "code",
   "execution_count": null,
   "metadata": {
    "id": "SV-w0LneByZv"
   },
   "outputs": [],
   "source": [
    "net,losses,accs=models.Train(net,d_train_loader,lr=1e-1,epochs=10,verbose=True)"
   ]
  },
  {
   "cell_type": "markdown",
   "metadata": {
    "id": "3hR86ui6ByZv"
   },
   "source": [
    "How does it do on the test set of the sampled task?"
   ]
  },
  {
   "cell_type": "code",
   "execution_count": null,
   "metadata": {
    "id": "TtgfdPCgByZv"
   },
   "outputs": [],
   "source": [
    "models.accuracy(net,d_test[0],d_test[1])"
   ]
  },
  {
   "cell_type": "markdown",
   "metadata": {},
   "source": [
    "How does it do on the test set of from the meta-test set?"
   ]
  },
  {
   "cell_type": "code",
   "execution_count": null,
   "metadata": {
    "id": "5Zwm4g551dhV"
   },
   "outputs": [],
   "source": [
    "meta_test_kloader=KShotLoader(meta_test_ds,shots=5,ways=5)"
   ]
  },
  {
   "cell_type": "code",
   "execution_count": null,
   "metadata": {
    "id": "kcza3qHx1dhV"
   },
   "outputs": [],
   "source": [
    "d_train,d_test=meta_test_kloader.get_task()"
   ]
  },
  {
   "cell_type": "code",
   "execution_count": null,
   "metadata": {
    "id": "DYWNXNH71dhV"
   },
   "outputs": [],
   "source": [
    "models.accuracy(net,d_test[0],d_test[1])"
   ]
  },
  {
   "cell_type": "markdown",
   "metadata": {
    "id": "LXuebzBnByZv"
   },
   "source": [
    "# CNP-based  Meta-learning"
   ]
  },
  {
   "cell_type": "code",
   "execution_count": null,
   "metadata": {
    "id": "7wN67LLrByZv"
   },
   "outputs": [],
   "source": [
    "# optimisers from torch\n",
    "import torch.optim as optim\n",
    "import torch.nn.functional as F"
   ]
  },
  {
   "cell_type": "code",
   "execution_count": null,
   "metadata": {
    "id": "Ow-hS_ekByZv"
   },
   "outputs": [],
   "source": [
    "lossfn = torch.nn.NLLLoss()"
   ]
  },
  {
   "cell_type": "markdown",
   "metadata": {
    "id": "ybgupTGbByZv"
   },
   "source": [
    "Get a task dataset."
   ]
  },
  {
   "cell_type": "code",
   "execution_count": null,
   "metadata": {
    "id": "-RtPRjNjByZv"
   },
   "outputs": [],
   "source": [
    "meta_train_kloader=KShotLoader(meta_train_ds,shots=5,ways=2,num_tasks=1000)"
   ]
  },
  {
   "cell_type": "code",
   "execution_count": null,
   "metadata": {
    "id": "cAqebexhByZv"
   },
   "outputs": [],
   "source": [
    "d_train,d_test = meta_train_kloader.get_task()"
   ]
  },
  {
   "cell_type": "code",
   "execution_count": null,
   "metadata": {
    "id": "NQKkJCBxByZv"
   },
   "outputs": [],
   "source": [
    "net = CNP(n_features=20,dims=[32,64,32],n_ways=5,n_classes=2)"
   ]
  },
  {
   "cell_type": "code",
   "execution_count": null,
   "metadata": {
    "id": "GuA-U8adByZv"
   },
   "outputs": [],
   "source": [
    "print(net.mlp1,net.mlp2)"
   ]
  },
  {
   "cell_type": "code",
   "execution_count": null,
   "metadata": {
    "id": "YoesxgpEByZv"
   },
   "outputs": [],
   "source": [
    "torch.eye(2)[d_train[1]] "
   ]
  },
  {
   "cell_type": "code",
   "execution_count": null,
   "metadata": {
    "id": "p2T_k60hByZw"
   },
   "outputs": [],
   "source": [
    "r,m,R = net.adapt(d_train[0],d_train[1])\n",
    "r.shape,m.shape,R.shape"
   ]
  },
  {
   "cell_type": "code",
   "execution_count": null,
   "metadata": {
    "id": "CaxLSxa6ByZw"
   },
   "outputs": [],
   "source": [
    "m"
   ]
  },
  {
   "cell_type": "code",
   "execution_count": null,
   "metadata": {
    "id": "s2AB0EFWByZw"
   },
   "outputs": [],
   "source": [
    "net(d_test[0],r)"
   ]
  },
  {
   "cell_type": "markdown",
   "metadata": {
    "id": "GCTzq-_qByZw"
   },
   "source": [
    "# Putting it all together: CNP-based Meta-learning\n",
    "Now let's put it together in a loop - CNP model-based meta-learning algorithm:"
   ]
  },
  {
   "cell_type": "code",
   "execution_count": null,
   "metadata": {
    "id": "kBEzvjuDByZw"
   },
   "outputs": [],
   "source": [
    "# Redifning accuracy function so that it takes h - dataset context - as input since net requires it.\n",
    "def accuracy(Net,X_test,y_test,h,verbose=True):\n",
    "    #Net.eval()\n",
    "    m = X_test.shape[0]\n",
    "    y_pred = Net(X_test,h)\n",
    "    _, predicted = torch.max(y_pred, 1)\n",
    "    correct = (predicted == y_test).float().sum().item()\n",
    "    if verbose: print(correct,m)\n",
    "    accuracy = correct/m\n",
    "    #Net.train()\n",
    "    return accuracy"
   ]
  },
  {
   "cell_type": "code",
   "execution_count": null,
   "metadata": {
    "id": "3AcFSWcJByZw"
   },
   "outputs": [],
   "source": [
    "classes_train = [i for i in range(5)]\n",
    "classes_test = [i+5 for i in range(5)]\n",
    "classes_train, classes_test"
   ]
  },
  {
   "cell_type": "code",
   "execution_count": null,
   "metadata": {
    "id": "2n7zKylWByZw"
   },
   "outputs": [],
   "source": [
    "import learn2learn as l2l\n",
    "import torch.optim as optim\n",
    "shots,ways = 5,2\n",
    "net = CNP(n_features=20,n_classes=ways,dims=[32,64,32],lr=1e-4,n_ways=5)\n",
    "lossfn = torch.nn.NLLLoss()\n",
    "meta_train_kloader=KShotLoader(meta_train_ds,shots=shots,ways=ways,num_tasks=1000)#,classes=classes_train)"
   ]
  },
  {
   "cell_type": "code",
   "execution_count": null,
   "metadata": {
    "id": "BpDHjSkCByZw"
   },
   "outputs": [],
   "source": [
    "#Meta-testing task loader for later.\n",
    "meta_test_kloader=KShotLoader(meta_test_ds,shots=shots,ways=ways)#,classes=classes_test)"
   ]
  },
  {
   "cell_type": "code",
   "execution_count": null,
   "metadata": {
    "id": "UxwekpNiByZw"
   },
   "outputs": [],
   "source": [
    "epoch=0\n",
    "n_epochs=100\n",
    "task_count=50\n",
    "while epoch<n_epochs:\n",
    "    test_loss = 0.0\n",
    "    test_acc = 0.0\n",
    "    # Sample and train on a task\n",
    "    for task in range(task_count):\n",
    "        d_train,d_test=meta_train_kloader.get_task()\n",
    "        rp = torch.randperm(d_train[1].shape[0])\n",
    "        d_train0=d_train[0][rp]\n",
    "        d_train1=d_train[1][rp]\n",
    "        x_tr = d_train0\n",
    "        d_tr = x_tr \n",
    "        h,_,_ = net.adapt(d_tr,d_train1)\n",
    "        rp1 = torch.randperm(d_test[1].shape[0])\n",
    "        d_test0=d_test[0][rp1]\n",
    "        d_test1=d_test[1][rp1]\n",
    "        x_ts = d_test0\n",
    "        y_ts_sh = torch.zeros(x_ts.shape[0],ways)\n",
    "        d_ts = x_ts \n",
    "        test_preds = net(d_ts,h)\n",
    "        #train_preds = net(d_tr,h)\n",
    "        # Accumulate losses over tasks - note train and test loss both included\n",
    "        test_loss += lossfn(test_preds,d_test1)#+lossfn(train_preds,d_train1)\n",
    "        net.eval()\n",
    "        test_acc += accuracy(net,d_ts,d_test1,h,verbose=False)\n",
    "        net.train()\n",
    "    #Update the network weights\n",
    "    print('Epoch  % 2d Loss: %2.5e Avg Acc: %2.5f'%(epoch,test_loss/task_count,test_acc/task_count))\n",
    "    display.clear_output(wait=True)\n",
    "    net.optimizer.zero_grad()\n",
    "    test_loss.backward()\n",
    "    net.optimizer.step()\n",
    "    epoch+=1\n",
    "    "
   ]
  },
  {
   "cell_type": "markdown",
   "metadata": {
    "id": "eFJLYqasByZw"
   },
   "source": [
    "Now test the trained CNP network and to tasks sampled from the meta_test_ds dataset:"
   ]
  },
  {
   "cell_type": "code",
   "execution_count": null,
   "metadata": {
    "id": "2-8ny7G1ByZw"
   },
   "outputs": [],
   "source": [
    "meta_test_kloader=KShotLoader(meta_test_ds,shots=shots,ways=ways)\n",
    "test_acc = 0.0\n",
    "task_count = 50\n",
    "adapt_steps = 1\n",
    "# Sample and train on a task\n",
    "for task in range(task_count):\n",
    "    d_train,d_test=meta_test_kloader.get_task()\n",
    "    x_tr = d_train[0]\n",
    "    y_tr_sh = torch.cat((torch.zeros(1,ways),torch.eye(ways)[d_train[1][1:]]))\n",
    "    d_tr = x_tr #torch.cat((x_tr,y_tr_sh),1)\n",
    "    h,_,_=net.adapt(d_tr,d_train[1])\n",
    "    x_ts = d_test[0]\n",
    "    y_ts_sh = torch.zeros(x_ts.shape[0],ways)\n",
    "    d_ts = x_ts #torch.cat((x_ts,y_ts_sh),1)\n",
    "    test_preds = net(d_ts,h)\n",
    "    test_acc += accuracy(net,d_ts,d_test[1],h,verbose=False)\n",
    "    # Done with a task\n",
    "net.train()\n",
    "print('Avg Acc: %2.5f'%(test_acc/task_count))"
   ]
  },
  {
   "cell_type": "code",
   "execution_count": null,
   "metadata": {
    "id": "Yp1EvCWlByZx"
   },
   "outputs": [],
   "source": []
  }
 ],
 "metadata": {
  "accelerator": "GPU",
  "colab": {
   "collapsed_sections": [],
   "include_colab_link": true,
   "name": "nb3-CNP.ipynb",
   "provenance": []
  },
  "kernelspec": {
   "display_name": "Python 3 (ipykernel)",
   "language": "python",
   "name": "python3"
  },
  "language_info": {
   "codemirror_mode": {
    "name": "ipython",
    "version": 3
   },
   "file_extension": ".py",
   "mimetype": "text/x-python",
   "name": "python",
   "nbconvert_exporter": "python",
   "pygments_lexer": "ipython3",
   "version": "3.8.12"
  }
 },
 "nbformat": 4,
 "nbformat_minor": 4
}
