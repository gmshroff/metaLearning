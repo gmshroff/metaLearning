{
 "cells": [
  {
   "cell_type": "markdown",
   "metadata": {
    "colab_type": "text",
    "id": "view-in-github"
   },
   "source": [
    "<a href=\"https://colab.research.google.com/github/gmshroff/metaLearning2022/blob/main/code/nb0.ipynb\" target=\"_parent\"><img src=\"https://colab.research.google.com/assets/colab-badge.svg\" alt=\"Open In Colab\"/></a>"
   ]
  },
  {
   "cell_type": "markdown",
   "metadata": {
    "id": "0LGklTDZ6PvT"
   },
   "source": [
    "# TRAINING RECURRENT NEURAL NETWORKS"
   ]
  },
  {
   "cell_type": "code",
   "execution_count": null,
   "metadata": {
    "id": "uYh0sK_F6PvW"
   },
   "outputs": [],
   "source": [
    "# !pip install import_ipynb --quiet\n",
    "# !git clone https://github.com/gmshroff/metaLearning.git\n",
    "# %cd metaLearning/code"
   ]
  },
  {
   "cell_type": "code",
   "execution_count": 2,
   "metadata": {
    "id": "EnbJ9Mia6PvY"
   },
   "outputs": [
    {
     "name": "stdout",
     "output_type": "stream",
     "text": [
      "importing Jupyter notebook from utils.ipynb\n",
      "importing Jupyter notebook from models.ipynb\n"
     ]
    }
   ],
   "source": [
    "import import_ipynb\n",
    "import utils\n",
    "import models\n",
    "from IPython import display\n",
    "import torch\n",
    "from sklearn.manifold import TSNE\n",
    "from matplotlib import pyplot as plt\n",
    "import pickle\n",
    "import numpy as np"
   ]
  },
  {
   "cell_type": "code",
   "execution_count": null,
   "metadata": {
    "id": "i8eBciR16PvZ"
   },
   "outputs": [],
   "source": [
    "from course_data import MyDS, TsDS, FeedData"
   ]
  },
  {
   "cell_type": "markdown",
   "metadata": {
    "id": "nPFblsnqaSPh"
   },
   "source": [
    "Financial Time Series"
   ]
  },
  {
   "cell_type": "code",
   "execution_count": null,
   "metadata": {},
   "outputs": [],
   "source": [
    "%cd ../data"
   ]
  },
  {
   "cell_type": "code",
   "execution_count": null,
   "metadata": {},
   "outputs": [],
   "source": [
    "!unzip ../data/feedDataTrain.pickle.zip"
   ]
  },
  {
   "cell_type": "code",
   "execution_count": null,
   "metadata": {},
   "outputs": [],
   "source": [
    "%ls"
   ]
  },
  {
   "cell_type": "code",
   "execution_count": null,
   "metadata": {},
   "outputs": [],
   "source": [
    "with open('./feedDataTrain.pickle','rb') as f: feedDataTrain=pickle.load(f)"
   ]
  },
  {
   "cell_type": "code",
   "execution_count": null,
   "metadata": {
    "id": "mp0JxPoHe0CF"
   },
   "outputs": [],
   "source": [
    "!unzip feedDataTest.pickle.zip"
   ]
  },
  {
   "cell_type": "code",
   "execution_count": null,
   "metadata": {
    "id": "fmhPtazre5bZ"
   },
   "outputs": [],
   "source": [
    "with open('./feedDataTest.pickle','rb') as f: feedDataTest=pickle.load(f)"
   ]
  },
  {
   "cell_type": "markdown",
   "metadata": {},
   "source": [
    "Recurrent network: LSTM"
   ]
  },
  {
   "cell_type": "code",
   "execution_count": null,
   "metadata": {
    "id": "a214c4XwdIng"
   },
   "outputs": [],
   "source": [
    "net = models.SimpleLSTM(input_size=149,hidden_size=64,output_size=3,lr=1e-3)"
   ]
  },
  {
   "cell_type": "code",
   "execution_count": null,
   "metadata": {
    "id": "Wm8-IiS8dPIA",
    "tags": []
   },
   "outputs": [],
   "source": [
    "net,losses,accs=models.Train(net,feedDataTrain.train_ds,epochs=25,verbose=True)"
   ]
  },
  {
   "cell_type": "code",
   "execution_count": null,
   "metadata": {
    "id": "LuXRFxFzdXyN",
    "tags": []
   },
   "outputs": [],
   "source": [
    "models.accuracy_variable(net,feedDataTrain.train_ds)"
   ]
  },
  {
   "cell_type": "code",
   "execution_count": null,
   "metadata": {},
   "outputs": [],
   "source": [
    "models.accuracy_variable(net,feedDataTrain.test_ds)"
   ]
  },
  {
   "cell_type": "code",
   "execution_count": null,
   "metadata": {
    "id": "dsAoZQWg6Pvg"
   },
   "outputs": [],
   "source": [
    "models.accuracy_variable(net,feedDataTest.train_ds)"
   ]
  },
  {
   "cell_type": "code",
   "execution_count": null,
   "metadata": {},
   "outputs": [],
   "source": [
    "feedDataTrain.train_ds.samples[0].shape"
   ]
  },
  {
   "cell_type": "markdown",
   "metadata": {},
   "source": [
    "Siusoidal time series data"
   ]
  },
  {
   "cell_type": "code",
   "execution_count": null,
   "metadata": {
    "id": "FYB68wHC6Pvc"
   },
   "outputs": [],
   "source": [
    "#Generate data - sinusoidal mix\n",
    "train_ds, test_ds, dloader = utils.sinDataset(n_samples=100,length=20,n_classes=5,batch_size=1)"
   ]
  },
  {
   "cell_type": "markdown",
   "metadata": {},
   "source": [
    "Recurrent network: RNN"
   ]
  },
  {
   "cell_type": "code",
   "execution_count": null,
   "metadata": {
    "id": "rM9_Lk-Z6Pvg"
   },
   "outputs": [],
   "source": [
    "# Define an RNN to process a sequence; default is 1-D where input can be (batch,seq_vals) else input will need to be given\n",
    "# with an extra dimension and input will be (batch,seq,features)\n",
    "net = models.SimpleRNN(input_size=1,hidden_size=32,output_size=5,lr=1e-3)"
   ]
  },
  {
   "cell_type": "code",
   "execution_count": null,
   "metadata": {
    "id": "coHXk_Z26Pvg"
   },
   "outputs": [],
   "source": [
    "# Train the network; note that network is trained in place so repeated calls further train it.\n",
    "net,losses,accs=models.Train(net,dloader,epochs=50,verbose=True)"
   ]
  },
  {
   "cell_type": "markdown",
   "metadata": {},
   "source": [
    "Training/Test Accuracies"
   ]
  },
  {
   "cell_type": "code",
   "execution_count": null,
   "metadata": {},
   "outputs": [],
   "source": [
    "s_tr=torch.concat([s.unsqueeze(0).unsqueeze(0) for s in train_ds.samples])\n",
    "l_tr=torch.concat([l.unsqueeze(0).unsqueeze(0) for l in train_ds.labels])"
   ]
  },
  {
   "cell_type": "code",
   "execution_count": null,
   "metadata": {},
   "outputs": [],
   "source": [
    "newtr=MyDS(s_tr,l_tr)"
   ]
  },
  {
   "cell_type": "code",
   "execution_count": null,
   "metadata": {
    "id": "LuXRFxFzdXyN",
    "tags": []
   },
   "outputs": [],
   "source": [
    "models.accuracy_variable(net,newtr)"
   ]
  },
  {
   "cell_type": "code",
   "execution_count": null,
   "metadata": {},
   "outputs": [],
   "source": [
    "s_te=torch.concat([s.unsqueeze(0).unsqueeze(0) for s in test_ds.samples])\n",
    "l_te=torch.concat([l.unsqueeze(0).unsqueeze(0) for l in test_ds.labels])"
   ]
  },
  {
   "cell_type": "code",
   "execution_count": null,
   "metadata": {},
   "outputs": [],
   "source": [
    "newte=MyDS(s_te,l_te)"
   ]
  },
  {
   "cell_type": "code",
   "execution_count": null,
   "metadata": {},
   "outputs": [],
   "source": [
    "models.accuracy_variable(net,newte)"
   ]
  },
  {
   "cell_type": "markdown",
   "metadata": {},
   "source": [
    "Recurrent network: LSTM"
   ]
  },
  {
   "cell_type": "code",
   "execution_count": null,
   "metadata": {
    "id": "DEDi5NHw6Pvg"
   },
   "outputs": [],
   "source": [
    "net = models.SimpleLSTM(input_size=1,hidden_size=32,output_size=5,lr=1e-3)"
   ]
  },
  {
   "cell_type": "code",
   "execution_count": null,
   "metadata": {
    "id": "coHXk_Z26Pvg"
   },
   "outputs": [],
   "source": [
    "# Train the network; note that network is trained in place so repeated calls further train it.\n",
    "net,losses,accs=models.Train(net,dloader,epochs=50,verbose=True)"
   ]
  },
  {
   "cell_type": "code",
   "execution_count": null,
   "metadata": {
    "id": "LuXRFxFzdXyN",
    "tags": []
   },
   "outputs": [],
   "source": [
    "models.accuracy_variable(net,newtr)"
   ]
  },
  {
   "cell_type": "code",
   "execution_count": null,
   "metadata": {},
   "outputs": [],
   "source": [
    "models.accuracy_variable(net,newte)"
   ]
  },
  {
   "cell_type": "markdown",
   "metadata": {},
   "source": [
    "Transformer (Encoder) on Financial Time Series"
   ]
  },
  {
   "cell_type": "code",
   "execution_count": null,
   "metadata": {
    "id": "a214c4XwdIng"
   },
   "outputs": [],
   "source": [
    "net = models.Transformer(input_size=149,hidden_size=128,output_size=3,lr=1e-3,num_layers=3)"
   ]
  },
  {
   "cell_type": "code",
   "execution_count": null,
   "metadata": {
    "id": "Wm8-IiS8dPIA",
    "tags": []
   },
   "outputs": [],
   "source": [
    "net,losses,accs=models.Train(net,feedDataTrain.train_ds,epochs=10,verbose=True)"
   ]
  },
  {
   "cell_type": "code",
   "execution_count": null,
   "metadata": {
    "id": "LuXRFxFzdXyN",
    "tags": []
   },
   "outputs": [],
   "source": [
    "models.accuracy_variable(net,feedDataTrain.train_ds)"
   ]
  },
  {
   "cell_type": "code",
   "execution_count": null,
   "metadata": {
    "id": "dsAoZQWg6Pvg"
   },
   "outputs": [],
   "source": [
    "models.accuracy_variable(net,feedDataTrain.test_ds)"
   ]
  },
  {
   "cell_type": "code",
   "execution_count": null,
   "metadata": {},
   "outputs": [],
   "source": [
    "models.accuracy_variable(net,feedDataTest.test_ds)"
   ]
  },
  {
   "cell_type": "markdown",
   "metadata": {},
   "source": [
    "Transformer (Encoder) on Sinusoidal Time Series"
   ]
  },
  {
   "cell_type": "code",
   "execution_count": null,
   "metadata": {
    "id": "a214c4XwdIng"
   },
   "outputs": [],
   "source": [
    "net = models.Transformer(input_size=1,hidden_size=32,output_size=5,lr=1e-3,num_layers=3)"
   ]
  },
  {
   "cell_type": "code",
   "execution_count": null,
   "metadata": {},
   "outputs": [],
   "source": [
    "s_tr=torch.concat([s.unsqueeze(0).unsqueeze(0) for s in train_ds.samples])\n",
    "l_tr=torch.concat([l.unsqueeze(0).unsqueeze(0) for l in train_ds.labels])"
   ]
  },
  {
   "cell_type": "code",
   "execution_count": null,
   "metadata": {},
   "outputs": [],
   "source": [
    "newtr=MyDS(s_tr,l_tr)"
   ]
  },
  {
   "cell_type": "code",
   "execution_count": null,
   "metadata": {
    "id": "Wm8-IiS8dPIA",
    "tags": []
   },
   "outputs": [],
   "source": [
    "net,losses,accs=models.Train(net,newtr,epochs=20,verbose=True)"
   ]
  },
  {
   "cell_type": "code",
   "execution_count": null,
   "metadata": {
    "id": "LuXRFxFzdXyN",
    "tags": []
   },
   "outputs": [],
   "source": [
    "models.accuracy_variable(net,newtr)"
   ]
  },
  {
   "cell_type": "code",
   "execution_count": null,
   "metadata": {},
   "outputs": [],
   "source": [
    "s_te=torch.concat([s.unsqueeze(0).unsqueeze(0) for s in test_ds.samples])\n",
    "l_te=torch.concat([l.unsqueeze(0).unsqueeze(0) for l in test_ds.labels])"
   ]
  },
  {
   "cell_type": "code",
   "execution_count": null,
   "metadata": {},
   "outputs": [],
   "source": [
    "newte=MyDS(s_te,l_te)"
   ]
  },
  {
   "cell_type": "code",
   "execution_count": null,
   "metadata": {},
   "outputs": [],
   "source": [
    "models.accuracy_variable(net,newte)"
   ]
  },
  {
   "cell_type": "markdown",
   "metadata": {},
   "source": [
    "Sanity check"
   ]
  },
  {
   "cell_type": "code",
   "execution_count": null,
   "metadata": {
    "tags": []
   },
   "outputs": [],
   "source": [
    "correct=0\n",
    "for s in newte:\n",
    "    print(s[1].item(), torch.argmax(net(s[0])).numpy())\n",
    "    if s[1].item()==torch.argmax(net(s[0])): correct+=1"
   ]
  },
  {
   "cell_type": "code",
   "execution_count": null,
   "metadata": {},
   "outputs": [],
   "source": [
    "correct/len(newte)"
   ]
  },
  {
   "cell_type": "markdown",
   "metadata": {},
   "source": [
    "Plots"
   ]
  },
  {
   "cell_type": "code",
   "execution_count": null,
   "metadata": {},
   "outputs": [],
   "source": [
    "for s,l in zip(feedDataTrain.train_ds.samples,feedDataTrain.train_ds.labels):\n",
    "    if l==2: plt.plot(s[0,:,1])\n",
    "plt.show()"
   ]
  },
  {
   "cell_type": "code",
   "execution_count": null,
   "metadata": {},
   "outputs": [],
   "source": [
    "for s,l in zip(train_ds.samples,train_ds.labels):\n",
    "    if l==4: plt.plot(s)\n",
    "plt.show()"
   ]
  },
  {
   "cell_type": "markdown",
   "metadata": {},
   "source": [
    "ICL as GD"
   ]
  },
  {
   "cell_type": "code",
   "execution_count": 188,
   "metadata": {},
   "outputs": [],
   "source": [
    "m,n,r=3,4,1\n",
    "W=torch.randn(r,m,requires_grad=True)\n",
    "X=torch.randn(m,n,requires_grad=True)\n",
    "Y=torch.randn(r,n,requires_grad=True)"
   ]
  },
  {
   "cell_type": "code",
   "execution_count": 226,
   "metadata": {},
   "outputs": [],
   "source": [
    "L=(1/(2*n))*(W@X-Y)@(W@X-Y).T"
   ]
  },
  {
   "cell_type": "code",
   "execution_count": 227,
   "metadata": {},
   "outputs": [
    {
     "data": {
      "text/plain": [
       "tensor([[4.1142]], grad_fn=<MmBackward0>)"
      ]
     },
     "execution_count": 227,
     "metadata": {},
     "output_type": "execute_result"
    }
   ],
   "source": [
    "L"
   ]
  },
  {
   "cell_type": "code",
   "execution_count": 228,
   "metadata": {},
   "outputs": [],
   "source": [
    "DW=torch.autograd.grad(L,W)[0]"
   ]
  },
  {
   "cell_type": "code",
   "execution_count": 229,
   "metadata": {},
   "outputs": [
    {
     "data": {
      "text/plain": [
       "tensor([[-3.2649,  3.5639,  1.2275]])"
      ]
     },
     "execution_count": 229,
     "metadata": {},
     "output_type": "execute_result"
    }
   ],
   "source": [
    "DW"
   ]
  },
  {
   "cell_type": "code",
   "execution_count": 230,
   "metadata": {},
   "outputs": [],
   "source": [
    "Z=torch.concat((X,Y))"
   ]
  },
  {
   "cell_type": "code",
   "execution_count": 231,
   "metadata": {},
   "outputs": [],
   "source": [
    "def LSA(Z,WK,WQ,WV,P):\n",
    "    return Z+P@WV@Z@((WK@Z).T)@(WQ@Z)"
   ]
  },
  {
   "cell_type": "code",
   "execution_count": 232,
   "metadata": {},
   "outputs": [],
   "source": [
    "U=torch.concat((torch.concat((torch.eye(m,m),torch.zeros(m,r)),dim=1),torch.zeros(r,m+r)))"
   ]
  },
  {
   "cell_type": "code",
   "execution_count": 233,
   "metadata": {},
   "outputs": [],
   "source": [
    "WK,WQ=U,U"
   ]
  },
  {
   "cell_type": "code",
   "execution_count": 234,
   "metadata": {},
   "outputs": [],
   "source": [
    "WV=torch.concat((torch.zeros(m,m+r),torch.concat((W,-torch.eye(r,r)),dim=1)))"
   ]
  },
  {
   "cell_type": "code",
   "execution_count": 236,
   "metadata": {},
   "outputs": [],
   "source": [
    "P=(1/n)*torch.eye(m+r,m+r)"
   ]
  },
  {
   "cell_type": "code",
   "execution_count": 237,
   "metadata": {},
   "outputs": [],
   "source": [
    "Z_new=LSA(Z,WK,WQ,WV,P)"
   ]
  },
  {
   "cell_type": "code",
   "execution_count": 238,
   "metadata": {},
   "outputs": [
    {
     "data": {
      "text/plain": [
       "tensor([[ 7.5657e-01, -1.1331e+00,  7.6973e-04,  2.4923e+00],\n",
       "        [-1.2428e+00,  2.2424e+00, -7.2748e-01, -4.2421e-01],\n",
       "        [ 9.8772e-01,  2.0951e+00, -3.7867e-01,  1.4858e+00],\n",
       "        [-5.5284e+00,  1.4484e+01, -2.4025e+00, -7.4237e+00]],\n",
       "       grad_fn=<AddBackward0>)"
      ]
     },
     "execution_count": 238,
     "metadata": {},
     "output_type": "execute_result"
    }
   ],
   "source": [
    "Z_new"
   ]
  },
  {
   "cell_type": "code",
   "execution_count": 239,
   "metadata": {},
   "outputs": [
    {
     "data": {
      "text/plain": [
       "tensor([[-5.5284, 14.4836, -2.4025, -7.4237]], grad_fn=<AddBackward0>)"
      ]
     },
     "execution_count": 239,
     "metadata": {},
     "output_type": "execute_result"
    }
   ],
   "source": [
    "Y+DW@X"
   ]
  },
  {
   "cell_type": "code",
   "execution_count": 240,
   "metadata": {},
   "outputs": [],
   "source": [
    "W_new=W-DW"
   ]
  },
  {
   "cell_type": "code",
   "execution_count": 241,
   "metadata": {},
   "outputs": [
    {
     "data": {
      "text/plain": [
       "tensor([[ 1.9820, -2.7947, -0.4314]], grad_fn=<SubBackward0>)"
      ]
     },
     "execution_count": 241,
     "metadata": {},
     "output_type": "execute_result"
    }
   ],
   "source": [
    "W_new"
   ]
  },
  {
   "cell_type": "code",
   "execution_count": 242,
   "metadata": {},
   "outputs": [
    {
     "data": {
      "text/plain": [
       "tensor([[-1.2829,  0.7693,  0.7961]], requires_grad=True)"
      ]
     },
     "execution_count": 242,
     "metadata": {},
     "output_type": "execute_result"
    }
   ],
   "source": [
    "W"
   ]
  },
  {
   "cell_type": "code",
   "execution_count": 243,
   "metadata": {},
   "outputs": [],
   "source": [
    "L_new=L=(1/2*n)*(W_new@X-Y)@(W_new@X-Y).T"
   ]
  },
  {
   "cell_type": "code",
   "execution_count": 244,
   "metadata": {},
   "outputs": [
    {
     "data": {
      "text/plain": [
       "tensor([[280.6778]], grad_fn=<MmBackward0>)"
      ]
     },
     "execution_count": 244,
     "metadata": {},
     "output_type": "execute_result"
    }
   ],
   "source": [
    "L_new"
   ]
  },
  {
   "cell_type": "code",
   "execution_count": 246,
   "metadata": {},
   "outputs": [],
   "source": [
    "Y_new=Z_new[-1,:]"
   ]
  },
  {
   "cell_type": "code",
   "execution_count": 247,
   "metadata": {},
   "outputs": [],
   "source": [
    "L_new_hat=(1/2*n)*(W@X-Y_new)@(W@X-Y_new).T"
   ]
  },
  {
   "cell_type": "code",
   "execution_count": 248,
   "metadata": {},
   "outputs": [
    {
     "data": {
      "text/plain": [
       "tensor([[280.6778]], grad_fn=<MmBackward0>)"
      ]
     },
     "execution_count": 248,
     "metadata": {},
     "output_type": "execute_result"
    }
   ],
   "source": [
    "L_new_hat"
   ]
  },
  {
   "cell_type": "code",
   "execution_count": null,
   "metadata": {},
   "outputs": [],
   "source": []
  }
 ],
 "metadata": {
  "accelerator": "GPU",
  "colab": {
   "include_colab_link": true,
   "name": "nb0.ipynb",
   "provenance": []
  },
  "kernelspec": {
   "display_name": "Python 3 (ipykernel)",
   "language": "python",
   "name": "python3"
  },
  "language_info": {
   "codemirror_mode": {
    "name": "ipython",
    "version": 3
   },
   "file_extension": ".py",
   "mimetype": "text/x-python",
   "name": "python",
   "nbconvert_exporter": "python",
   "pygments_lexer": "ipython3",
   "version": "3.8.12"
  }
 },
 "nbformat": 4,
 "nbformat_minor": 4
}
