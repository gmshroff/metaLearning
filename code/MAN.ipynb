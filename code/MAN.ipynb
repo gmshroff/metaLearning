{
 "cells": [
  {
   "cell_type": "code",
   "execution_count": null,
   "id": "a4edff03-a4a3-4d38-8d34-aeac5686015c",
   "metadata": {},
   "outputs": [],
   "source": [
    "import import_ipynb\n",
    "import utils\n",
    "import models"
   ]
  },
  {
   "cell_type": "code",
   "execution_count": null,
   "id": "9d1ad9e2-2b30-4a1c-b1f4-9a1c5d33b5b3",
   "metadata": {},
   "outputs": [],
   "source": [
    "from IPython import display\n",
    "import torch\n",
    "from sklearn.manifold import TSNE\n",
    "from matplotlib import pyplot as plt\n",
    "from l2lutils import KShotLoader\n",
    "from IPython import display"
   ]
  },
  {
   "cell_type": "code",
   "execution_count": null,
   "id": "ca1f7a4e-6c56-481d-bf13-253f8cb10c9e",
   "metadata": {},
   "outputs": [],
   "source": [
    "import learn2learn as l2l\n",
    "import torch.optim as optim\n",
    "import torch.nn as nn\n",
    "import torch.nn.functional as F"
   ]
  },
  {
   "cell_type": "code",
   "execution_count": null,
   "id": "cd2c1e4e-e7c6-4c4b-8fde-93c1d42875d6",
   "metadata": {},
   "outputs": [],
   "source": [
    "class MAN(nn.Module):\n",
    "    def __init__(self,dims=[20,32,32],n_classes=2,lr=1e-3):\n",
    "        super(MAN,self).__init__()\n",
    "        self.n_classes = n_classes\n",
    "        self.mlp = models.MLP(dims=dims,task='embedding')\n",
    "        self.attn = nn.Softmax(dim=1)\n",
    "        self.optimizer = optim.Adam(self.parameters(),lr=lr)\n",
    "    def forward(self,X,d_train):\n",
    "        # X = (batch,n_features)\n",
    "        (x_tr,y_tr) = d_train\n",
    "        # x_tr = (ss_size,n_features), y_tr = (ss_size)\n",
    "        ss_e = self.mlp(x_tr)\n",
    "        X_e = self.mlp(X)\n",
    "        sims = self.cos(X_e,ss_e)\n",
    "        # size (batch,ss_size)\n",
    "        attn_wts = self.attn(sims)\n",
    "        y_h = torch.eye(self.n_classes)[y_tr]\n",
    "        # y_h = one-hot version of y_tr = (ss_size,n_classes)\n",
    "        preds = attn_wts@y_h\n",
    "        return preds\n",
    "    def cos(self,target,ss):\n",
    "        # compute cosine distances between \n",
    "        # target (batch,embedding_dim) and support set ss (ss_size,embedding_dim)\n",
    "        # return (batch,ss_size)\n",
    "        target_normed = F.normalize(target,p=2,dim=1)\n",
    "        # shape of target_normed will be (batch,1,embedding_dim)\n",
    "        ss_normed = F.normalize(ss,p=2,dim=1).permute(1,0)\n",
    "        similarities = torch.mm(target_normed,ss_normed)\n",
    "        # result will be (batch,ss_size)\n",
    "        return similarities"
   ]
  }
 ],
 "metadata": {
  "kernelspec": {
   "display_name": "Python 3 (ipykernel)",
   "language": "python",
   "name": "python3"
  },
  "language_info": {
   "codemirror_mode": {
    "name": "ipython",
    "version": 3
   },
   "file_extension": ".py",
   "mimetype": "text/x-python",
   "name": "python",
   "nbconvert_exporter": "python",
   "pygments_lexer": "ipython3",
   "version": "3.8.12"
  }
 },
 "nbformat": 4,
 "nbformat_minor": 5
}
