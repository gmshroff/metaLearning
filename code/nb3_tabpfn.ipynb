{
 "cells": [
  {
   "cell_type": "code",
   "execution_count": null,
   "id": "beb436b6-abe4-4543-a684-78e400b1d97a",
   "metadata": {
    "tags": []
   },
   "outputs": [],
   "source": [
    "from sklearn.metrics import accuracy_score\n",
    "from tabpfn.scripts.decision_boundary import DecisionBoundaryDisplay\n",
    "from tabpfn import TabPFNClassifier\n",
    "import pandas as pd\n",
    "import time\n",
    "from tabpfn.scripts.decision_boundary import DecisionBoundaryDisplay"
   ]
  },
  {
   "cell_type": "code",
   "execution_count": null,
   "id": "84d41d57",
   "metadata": {},
   "outputs": [],
   "source": [
    "import warnings\n",
    "from ucimlrepo import fetch_ucirepo\n",
    "warnings.filterwarnings('ignore')"
   ]
  },
  {
   "cell_type": "code",
   "execution_count": null,
   "id": "10ba42c0",
   "metadata": {},
   "outputs": [],
   "source": [
    "import import_ipynb\n",
    "import numpy as np\n",
    "import torch"
   ]
  },
  {
   "cell_type": "code",
   "execution_count": null,
   "id": "e42df46a",
   "metadata": {},
   "outputs": [],
   "source": [
    "# fetch dataset \n",
    "iris = fetch_ucirepo(id=53) \n",
    "  \n",
    "# data (as pandas dataframes) \n",
    "Xf = iris.data.features \n",
    "yf = iris.data.targets \n",
    "classes=yf['class'].unique().tolist()\n",
    "perm = np.random.permutation(150).tolist()\n",
    "Xf,yf=Xf.iloc[perm],yf.iloc[perm]"
   ]
  },
  {
   "cell_type": "code",
   "execution_count": null,
   "id": "c55d7f85",
   "metadata": {},
   "outputs": [],
   "source": [
    "yf.columns"
   ]
  },
  {
   "cell_type": "code",
   "execution_count": null,
   "id": "21b303c6",
   "metadata": {},
   "outputs": [],
   "source": [
    "def encode_target(t,classes=classes):\n",
    "    return classes.index(t)\n",
    "yf['label']=yf['class'].apply(encode_target)"
   ]
  },
  {
   "cell_type": "code",
   "execution_count": null,
   "id": "1f7b5530",
   "metadata": {},
   "outputs": [],
   "source": [
    "train_n=100\n",
    "X=torch.tensor(Xf.iloc[0:train_n].values, dtype=torch.float32)\n",
    "y=torch.tensor(yf.iloc[0:train_n]['label'].values,dtype=torch.float32)\n",
    "Xtest=torch.tensor(Xf.iloc[train_n:].values,dtype=torch.float32)\n",
    "ytest=torch.tensor(yf[train_n:]['label'].values,dtype=torch.float32)"
   ]
  },
  {
   "cell_type": "code",
   "execution_count": null,
   "id": "910a9ca5-39be-4755-8c92-0e326557f990",
   "metadata": {
    "tags": []
   },
   "outputs": [],
   "source": [
    "classifier = TabPFNClassifier(device='cpu', N_ensemble_configurations=4)"
   ]
  },
  {
   "cell_type": "code",
   "execution_count": null,
   "id": "763de09a",
   "metadata": {},
   "outputs": [],
   "source": [
    "classifier.model"
   ]
  },
  {
   "cell_type": "code",
   "execution_count": null,
   "id": "f1e7da28",
   "metadata": {},
   "outputs": [],
   "source": [
    "X.shape"
   ]
  },
  {
   "cell_type": "code",
   "execution_count": null,
   "id": "e13c06cf-c8df-4694-8c6b-2dd90c09811e",
   "metadata": {
    "tags": []
   },
   "outputs": [],
   "source": [
    "start = time.time()\n",
    "classifier.fit(X, y,overwrite_warning=True)\n",
    "y_eval, p_eval = classifier.predict(Xtest, return_winning_probability=True)\n",
    "prediction_time = time.time() - start"
   ]
  },
  {
   "cell_type": "code",
   "execution_count": null,
   "id": "8a2f1b7e",
   "metadata": {},
   "outputs": [],
   "source": [
    "print('Prediction time: ',prediction_time , 'Accuracy', accuracy_score(ytest, y_eval))"
   ]
  },
  {
   "cell_type": "code",
   "execution_count": null,
   "id": "e7fb1fc9",
   "metadata": {},
   "outputs": [],
   "source": [
    "p_eval"
   ]
  },
  {
   "cell_type": "code",
   "execution_count": null,
   "id": "d2ae6809",
   "metadata": {},
   "outputs": [],
   "source": [
    "y_eval_train, p_eval_train = classifier.predict(X, return_winning_probability=True)"
   ]
  },
  {
   "cell_type": "code",
   "execution_count": null,
   "id": "ace96ef3",
   "metadata": {},
   "outputs": [],
   "source": [
    "print('Prediction time: ',prediction_time , 'Accuracy', accuracy_score(y, y_eval_train))"
   ]
  },
  {
   "cell_type": "code",
   "execution_count": null,
   "id": "408e7f0f-1f7d-491c-a0c9-cec29b7e5aaa",
   "metadata": {
    "tags": []
   },
   "outputs": [],
   "source": [
    "probs=classifier.predict_proba(Xtest)"
   ]
  },
  {
   "cell_type": "code",
   "execution_count": null,
   "id": "a6a5b145-9fd9-4081-a8bf-8164a9f6a343",
   "metadata": {
    "tags": []
   },
   "outputs": [],
   "source": [
    "probs"
   ]
  },
  {
   "cell_type": "code",
   "execution_count": null,
   "id": "22723d66-58af-4325-b2da-8a2ffe2c697e",
   "metadata": {
    "tags": []
   },
   "outputs": [],
   "source": [
    "from sklearn.metrics import confusion_matrix"
   ]
  },
  {
   "cell_type": "code",
   "execution_count": null,
   "id": "75b8fa94-e0ba-4a66-901d-74c611977858",
   "metadata": {
    "tags": []
   },
   "outputs": [],
   "source": [
    "confusion_matrix(ytest, y_eval)"
   ]
  },
  {
   "cell_type": "code",
   "execution_count": null,
   "id": "960d13bd-f7b4-4de3-952e-6c1dde817f42",
   "metadata": {},
   "outputs": [],
   "source": [
    "def gini(probs):\n",
    "    # return [1-sum([p**p for p in pv]) for pv in probs]\n",
    "    return [1-sum([p**2 for p in pv]) for pv in probs]\n"
   ]
  },
  {
   "cell_type": "code",
   "execution_count": null,
   "id": "93694395",
   "metadata": {},
   "outputs": [],
   "source": [
    "gini(probs)"
   ]
  },
  {
   "cell_type": "code",
   "execution_count": null,
   "id": "f683ec1c",
   "metadata": {},
   "outputs": [],
   "source": [
    "# fetch dataset \n",
    "beans = fetch_ucirepo(id=850) \n",
    "# data (as pandas dataframes) \n",
    "Xf = beans.data.features \n",
    "yf = beans.data.targets "
   ]
  },
  {
   "cell_type": "code",
   "execution_count": null,
   "id": "b76dc029",
   "metadata": {},
   "outputs": [],
   "source": [
    "yf"
   ]
  },
  {
   "cell_type": "code",
   "execution_count": null,
   "id": "d501f16d",
   "metadata": {},
   "outputs": [],
   "source": [
    "target='Class'\n",
    "classes=yf[target].unique().tolist()\n",
    "perm = np.random.permutation(Xf.shape[0]).tolist()\n",
    "Xf,yf=Xf.iloc[perm],yf.iloc[perm]"
   ]
  },
  {
   "cell_type": "code",
   "execution_count": null,
   "id": "a8b28870",
   "metadata": {},
   "outputs": [],
   "source": [
    "def encode_target(t,classes=classes):\n",
    "    return classes.index(t)"
   ]
  },
  {
   "cell_type": "code",
   "execution_count": null,
   "id": "ec6fa2c5",
   "metadata": {},
   "outputs": [],
   "source": [
    "yf['label']=yf['Class'].apply(encode_target)"
   ]
  },
  {
   "cell_type": "code",
   "execution_count": null,
   "id": "7e322beb",
   "metadata": {},
   "outputs": [],
   "source": [
    "Xf.shape"
   ]
  },
  {
   "cell_type": "code",
   "execution_count": null,
   "id": "96b4a935",
   "metadata": {},
   "outputs": [],
   "source": [
    "train_n=700\n",
    "X=torch.tensor(Xf.iloc[0:train_n].values, dtype=torch.float32)\n",
    "y=torch.tensor(yf.iloc[0:train_n]['label'].values,dtype=torch.float32)\n",
    "Xtest=torch.tensor(Xf.iloc[train_n:].values,dtype=torch.float32)\n",
    "ytest=torch.tensor(yf[train_n:]['label'].values,dtype=torch.float32)"
   ]
  },
  {
   "cell_type": "code",
   "execution_count": null,
   "id": "9e6f10e1",
   "metadata": {},
   "outputs": [],
   "source": [
    "classifier = TabPFNClassifier(device='cpu', N_ensemble_configurations=4)"
   ]
  },
  {
   "cell_type": "code",
   "execution_count": null,
   "id": "c4d5ad3a",
   "metadata": {},
   "outputs": [],
   "source": [
    "start = time.time()\n",
    "classifier.fit(X, y,overwrite_warning=True)\n",
    "y_eval, p_eval = classifier.predict(Xtest, return_winning_probability=True)\n",
    "prediction_time = time.time() - start"
   ]
  },
  {
   "cell_type": "code",
   "execution_count": null,
   "id": "dfe31abe",
   "metadata": {},
   "outputs": [],
   "source": [
    "print('Prediction time: ',prediction_time , 'Accuracy', accuracy_score(ytest, y_eval))"
   ]
  },
  {
   "cell_type": "code",
   "execution_count": null,
   "id": "dc09294a",
   "metadata": {},
   "outputs": [],
   "source": [
    "confusion_matrix(ytest, y_eval)"
   ]
  },
  {
   "cell_type": "markdown",
   "id": "546994ff",
   "metadata": {},
   "source": [
    "## Calibration"
   ]
  },
  {
   "cell_type": "code",
   "execution_count": null,
   "id": "b2477a62",
   "metadata": {},
   "outputs": [],
   "source": [
    "from torchmetrics.functional import calibration_error"
   ]
  },
  {
   "cell_type": "code",
   "execution_count": null,
   "id": "40d93615",
   "metadata": {},
   "outputs": [],
   "source": [
    "from sklearn.calibration import CalibrationDisplay"
   ]
  },
  {
   "cell_type": "code",
   "execution_count": null,
   "id": "482d86f6",
   "metadata": {},
   "outputs": [],
   "source": [
    "probs=torch.tensor(classifier.predict_proba(Xtest))"
   ]
  },
  {
   "cell_type": "code",
   "execution_count": null,
   "id": "f822f7c8",
   "metadata": {},
   "outputs": [],
   "source": [
    "probs"
   ]
  },
  {
   "cell_type": "code",
   "execution_count": null,
   "id": "d438903c",
   "metadata": {},
   "outputs": [],
   "source": [
    "def binarize(target,c):\n",
    "    return np.array([1 if t==c else 0 for t in target])"
   ]
  },
  {
   "cell_type": "code",
   "execution_count": null,
   "id": "738ff6e4",
   "metadata": {},
   "outputs": [],
   "source": [
    "binarize(ytest,1)"
   ]
  },
  {
   "cell_type": "code",
   "execution_count": null,
   "id": "3f683cd0",
   "metadata": {},
   "outputs": [],
   "source": [
    "probs[:,1]"
   ]
  },
  {
   "cell_type": "code",
   "execution_count": null,
   "id": "60560719",
   "metadata": {},
   "outputs": [],
   "source": [
    "CalibrationDisplay.from_predictions(y_true=binarize(ytest,1),y_prob=probs[:,1])"
   ]
  },
  {
   "cell_type": "code",
   "execution_count": null,
   "id": "ecfb3d91",
   "metadata": {},
   "outputs": [],
   "source": [
    "probs_train=torch.tensor(classifier.predict_proba(X)).softmax(dim=1)"
   ]
  },
  {
   "cell_type": "code",
   "execution_count": null,
   "id": "ed013a78",
   "metadata": {},
   "outputs": [],
   "source": [
    "CalibrationDisplay.from_predictions(y_true=binarize(y,1),y_prob=probs_train.softmax(dim=1)[:,1])"
   ]
  },
  {
   "cell_type": "markdown",
   "id": "5cfac66a",
   "metadata": {},
   "source": []
  },
  {
   "cell_type": "code",
   "execution_count": null,
   "id": "8a5fb45a",
   "metadata": {},
   "outputs": [],
   "source": [
    "from temperature_scaling import ModelWithTemperature"
   ]
  },
  {
   "cell_type": "code",
   "execution_count": null,
   "id": "43867498",
   "metadata": {},
   "outputs": [],
   "source": [
    "from functools import partial"
   ]
  },
  {
   "cell_type": "code",
   "execution_count": null,
   "id": "4db9ac2b",
   "metadata": {},
   "outputs": [],
   "source": [
    "import torch.nn as nn"
   ]
  },
  {
   "cell_type": "code",
   "execution_count": null,
   "id": "04dbae93",
   "metadata": {},
   "outputs": [],
   "source": [
    "class WrappedModel(nn.Module):\n",
    "    def __init__(self,tabpfnmodel,label_index=None):\n",
    "        super().__init__()\n",
    "        self.classifier=tabpfnmodel\n",
    "        self.label_index=label_index\n",
    "    def __call__(self,X):\n",
    "        probs=self.classifier.predict_proba(X)\n",
    "        if self.label_index is None: return torch.tensor(probs)\n",
    "        else: return torch.tensor(probs[:,self.label_index])"
   ]
  },
  {
   "cell_type": "code",
   "execution_count": null,
   "id": "3a959137",
   "metadata": {},
   "outputs": [],
   "source": [
    "tabmodel=WrappedModel(classifier,label_index=1)"
   ]
  },
  {
   "cell_type": "code",
   "execution_count": null,
   "id": "8a371651",
   "metadata": {},
   "outputs": [],
   "source": [
    "tabmodel(Xtest)"
   ]
  },
  {
   "cell_type": "code",
   "execution_count": null,
   "id": "cfa79135",
   "metadata": {},
   "outputs": [],
   "source": [
    "model=ModelWithTemperature(tabmodel)"
   ]
  },
  {
   "cell_type": "code",
   "execution_count": null,
   "id": "c27cb3a6",
   "metadata": {},
   "outputs": [],
   "source": [
    "from utils import MyDS"
   ]
  },
  {
   "cell_type": "code",
   "execution_count": null,
   "id": "bd598118",
   "metadata": {},
   "outputs": [],
   "source": [
    "loader=torch.utils.data.DataLoader(MyDS(Xf.iloc[train_n:].values,yf[train_n:]['label'].values))"
   ]
  },
  {
   "cell_type": "markdown",
   "id": "c1e1096d",
   "metadata": {},
   "source": []
  },
  {
   "cell_type": "code",
   "execution_count": null,
   "id": "3a076856",
   "metadata": {},
   "outputs": [],
   "source": [
    "model=model.set_temperature(loader)"
   ]
  },
  {
   "cell_type": "code",
   "execution_count": null,
   "id": "344f0ec9",
   "metadata": {},
   "outputs": [],
   "source": [
    "probs_cal=model(Xtest).detach()"
   ]
  },
  {
   "cell_type": "code",
   "execution_count": null,
   "id": "357f68d6",
   "metadata": {},
   "outputs": [],
   "source": [
    "CalibrationDisplay.from_predictions(y_true=binarize(ytest,1),y_prob=probs_cal.softmax(dim=1)[:,1])"
   ]
  },
  {
   "cell_type": "code",
   "execution_count": null,
   "id": "e849b28a",
   "metadata": {},
   "outputs": [],
   "source": [
    "CalibrationDisplay.from_predictions(y_true=binarize(ytest,0),y_prob=probs_cal.softmax(dim=1)[:,0],n_bins=20)"
   ]
  },
  {
   "cell_type": "code",
   "execution_count": null,
   "id": "735c92b6",
   "metadata": {},
   "outputs": [],
   "source": [
    "calibration_error(preds=probs_cal,target=torch.tensor(ytest),task='multiclass',num_classes=3)"
   ]
  },
  {
   "cell_type": "code",
   "execution_count": null,
   "id": "9581f155",
   "metadata": {},
   "outputs": [],
   "source": [
    "calibration_error(preds=torch.tensor(probs),target=torch.tensor(ytest),task='multiclass',num_classes=3)"
   ]
  },
  {
   "cell_type": "code",
   "execution_count": null,
   "id": "4531cafa",
   "metadata": {},
   "outputs": [],
   "source": [
    "from temperature_scaling import _ECELoss"
   ]
  },
  {
   "cell_type": "code",
   "execution_count": null,
   "id": "f103dc1f",
   "metadata": {},
   "outputs": [],
   "source": [
    "ece=_ECELoss(n_bins=10)"
   ]
  },
  {
   "cell_type": "code",
   "execution_count": null,
   "id": "a093bf71",
   "metadata": {},
   "outputs": [],
   "source": [
    "ece.forward(probs_cal,ytest)"
   ]
  },
  {
   "cell_type": "code",
   "execution_count": null,
   "id": "36b20b00",
   "metadata": {},
   "outputs": [],
   "source": [
    "ece.forward(probs,ytest)"
   ]
  },
  {
   "cell_type": "code",
   "execution_count": null,
   "metadata": {},
   "outputs": [],
   "source": []
  }
 ],
 "metadata": {
  "kernelspec": {
   "display_name": "Python 3 (ipykernel)",
   "language": "python",
   "name": "python3"
  },
  "language_info": {
   "codemirror_mode": {
    "name": "ipython",
    "version": 3
   },
   "file_extension": ".py",
   "mimetype": "text/x-python",
   "name": "python",
   "nbconvert_exporter": "python",
   "pygments_lexer": "ipython3",
   "version": "3.10.14"
  }
 },
 "nbformat": 4,
 "nbformat_minor": 5
}
