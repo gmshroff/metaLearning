{
 "cells": [
  {
   "cell_type": "code",
   "execution_count": null,
   "id": "99b140b2-71c2-4c3b-b4e9-f38be3ffb868",
   "metadata": {},
   "outputs": [],
   "source": [
    "import import_ipynb\n",
    "import pickle\n",
    "import numpy as np\n",
    "from matplotlib import pyplot as plt\n",
    "import arc_data\n",
    "from copy import deepcopy as dc"
   ]
  },
  {
   "cell_type": "code",
   "execution_count": null,
   "id": "e7a6da32-1b68-408d-be00-a7a5e002d674",
   "metadata": {},
   "outputs": [],
   "source": [
    "import machine"
   ]
  },
  {
   "cell_type": "code",
   "execution_count": null,
   "id": "105f8cc8-abd4-44bb-9be5-d544d3555b10",
   "metadata": {},
   "outputs": [],
   "source": [
    "class Functions():\n",
    "    def __init__(self):\n",
    "        self.functionD={}\n",
    "    def add(self,f,name,kind):\n",
    "        self.functionD[name]={}\n",
    "        self.functionD[name]['func']=f\n",
    "        self.functionD[name]['kind']=kind\n",
    "    def get(self,name):\n",
    "        if name in list(self.functionD.keys()):\n",
    "            return self.functionD[name]['func']\n",
    "        else: return name\n",
    "        return \n",
    "    def ismem(self,name):\n",
    "        if self.functionD[name]['kind']=='mem': return True\n",
    "        else: return False"
   ]
  },
  {
   "cell_type": "code",
   "execution_count": null,
   "id": "34d10720-a028-4f65-b901-4d11d620c960",
   "metadata": {},
   "outputs": [],
   "source": [
    "libF=Functions()"
   ]
  },
  {
   "cell_type": "code",
   "execution_count": null,
   "id": "dde9e9b6-f55e-449a-a6ab-4d99bb641f74",
   "metadata": {},
   "outputs": [],
   "source": [
    "def log(func,args,stage):\n",
    "    global m,logL,counter,attempt\n",
    "    logD={'func':func,\n",
    "          'args':args,\n",
    "          'stage':stage,\n",
    "          'memory':dc(m.memory),\n",
    "          'output':dc(m.output),\n",
    "          'counter':counter,\n",
    "          'attempt':attempt}\n",
    "    counter+=1\n",
    "    logL+=[logD]\n",
    "    return"
   ]
  },
  {
   "cell_type": "code",
   "execution_count": null,
   "id": "1afed047-27c2-46ca-bea5-0386dcef2144",
   "metadata": {},
   "outputs": [],
   "source": [
    "def get_objects(embed):\n",
    "    global m,logL\n",
    "    memsave=m.memory\n",
    "    auxsave=m.aux\n",
    "    outsave=m.output\n",
    "    log('get_objects',(embed),'before')\n",
    "    try:\n",
    "        embed=str(embed)\n",
    "        objectsL,offsetsL=machine.objects(m.memory[0],machine.member,oarg='all',embed=embed)\n",
    "        m.memory=objectsL\n",
    "        m.aux=offsetsL\n",
    "        log('get_objects',(embed),'success')\n",
    "        return True\n",
    "    except:\n",
    "        m.memory=memsave\n",
    "        m.aux=auxsave\n",
    "        m.output=outsave\n",
    "        log('get_objects',(embed),'fail')\n",
    "        return False\n",
    "get_objects.arity=1\n",
    "libF.add(get_objects,'get_objects','util')"
   ]
  },
  {
   "cell_type": "code",
   "execution_count": null,
   "id": "cd45d146-bd3a-44a4-9528-3eaa752c4a60",
   "metadata": {
    "tags": []
   },
   "outputs": [],
   "source": [
    "def assemble_output(embed):\n",
    "    global m,logL\n",
    "    memsave=m.memory\n",
    "    auxsave=m.aux\n",
    "    outsave=m.output\n",
    "    log('assemble_output',(embed),'before')\n",
    "    try:\n",
    "        embed=str(embed)\n",
    "        objectsL=m.output\n",
    "        offsetsL=m.aux\n",
    "        Nr,Nc=len(m.input[0]),len(m.input[0][0])\n",
    "        m.output=machine.assemble_grid(objectsL,offsetsL,Nr,Nc,embed=embed,scale=1)\n",
    "        #m.memory=m.input\n",
    "        log('assemble_output',(embed),'success')\n",
    "        return True\n",
    "    except:\n",
    "        m.memory=memsave\n",
    "        m.aux=auxsave\n",
    "        m.output=outsave\n",
    "        log('assemble_output',(embed),'fail')\n",
    "        return False\n",
    "assemble_output.arity=1\n",
    "libF.add(assemble_output,'assemble_output','util')"
   ]
  },
  {
   "cell_type": "code",
   "execution_count": null,
   "id": "c1da5576-0d19-452d-9e4b-347d74392951",
   "metadata": {},
   "outputs": [],
   "source": [
    "def applyfn(fname,arg):\n",
    "    global m,logL,libF\n",
    "    memsave=m.memory\n",
    "    auxsave=m.aux\n",
    "    outsave=m.output\n",
    "    fname=str(fname)\n",
    "    arg=str(arg)\n",
    "    log('apply '+fname,arg,'before')\n",
    "    try:\n",
    "        func=libF.get(fname)\n",
    "        argf=libF.get(arg)\n",
    "        kind=libF.functionD[fname]['kind']\n",
    "        if kind=='mem':m.apply(func,argf,fname=fname)\n",
    "        elif kind=='util': func(argf)\n",
    "        log('apply '+fname,arg,'success')\n",
    "        return True\n",
    "    except: \n",
    "        m.memory=memsave\n",
    "        m.aux=auxsave\n",
    "        m.output=outsave\n",
    "        log('apply '+fname,arg,'fail')\n",
    "        return False\n",
    "applyfn.arity=2"
   ]
  },
  {
   "cell_type": "code",
   "execution_count": null,
   "id": "0bbc7a93-e343-476b-bc37-6df0e1635d12",
   "metadata": {},
   "outputs": [],
   "source": [
    "def applyfn_debug(fname,arg):\n",
    "    global m,logL,libF\n",
    "    memsave=m.memory\n",
    "    auxsave=m.aux\n",
    "    outsave=m.output\n",
    "    fname=str(fname)\n",
    "    arg=str(arg)\n",
    "    log('apply',arg,'before')\n",
    "    func=libF.get(fname)\n",
    "    argf=libF.get(arg)\n",
    "    kind=libF.functionD[fname]['kind']\n",
    "    if kind=='mem':m.apply(func,argf,fname=fname)\n",
    "    elif kind=='util': func(argf)\n",
    "    log('apply',arg,'success')\n",
    "    return True\n",
    "applyfn.arity=2"
   ]
  },
  {
   "cell_type": "code",
   "execution_count": null,
   "id": "1c7dc82b-cca6-446f-905a-dcd147d903b1",
   "metadata": {},
   "outputs": [],
   "source": [
    "def out():\n",
    "    global m,logL\n",
    "    log('out',(),'before')\n",
    "    m.out()\n",
    "    log('out',(),'success')\n",
    "    return True\n",
    "out.arity=0"
   ]
  },
  {
   "cell_type": "code",
   "execution_count": null,
   "id": "a676eec0-386d-4572-9b3f-0b178736d1c7",
   "metadata": {},
   "outputs": [],
   "source": [
    "def copy():\n",
    "    log('copy',(),'before')\n",
    "    global m,logL\n",
    "    m.copy()\n",
    "    log('copy',(),'success')\n",
    "    return True\n",
    "copy.arity=0"
   ]
  },
  {
   "cell_type": "code",
   "execution_count": null,
   "id": "b62b855b-ec44-4fff-9b73-e9120b462c8c",
   "metadata": {},
   "outputs": [],
   "source": [
    "def equals_target():\n",
    "    global m,attempt\n",
    "    log('equals_target',(),'before')\n",
    "    attempt+=1\n",
    "    if m.output==m.target: \n",
    "        log('equals_target',(),'success')\n",
    "        return True\n",
    "    else: \n",
    "        m.memory=[]\n",
    "        m.aux=[]\n",
    "        m.output=[]\n",
    "        copy()\n",
    "        applyfn('get_objects','bbox')\n",
    "        log('equals_target',(),'fail')\n",
    "        return False\n",
    "equals_target.arity=0"
   ]
  },
  {
   "cell_type": "code",
   "execution_count": null,
   "id": "9f6b7d02-0b53-4c48-b76c-1b4c8217c2a3",
   "metadata": {},
   "outputs": [],
   "source": [
    "def noop(arg):\n",
    "    return True\n",
    "noop.arity=1\n",
    "libF.add(noop,'noop','util')"
   ]
  },
  {
   "cell_type": "markdown",
   "id": "c3746b96-78fd-425d-a47b-1688c5004f97",
   "metadata": {},
   "source": [
    "Library functions"
   ]
  },
  {
   "cell_type": "code",
   "execution_count": null,
   "id": "3c677fe1-ad9d-4217-b6cb-587f08a4cb42",
   "metadata": {
    "tags": []
   },
   "outputs": [],
   "source": [
    "size=lambda g: sum([len([1 for i in l if i!=0]) for l in g])\n",
    "libF.add(size,'size','aux')"
   ]
  },
  {
   "cell_type": "code",
   "execution_count": null,
   "id": "dbf6b0c2-b3b4-460a-b8a3-30d032126456",
   "metadata": {},
   "outputs": [],
   "source": [
    "area=lambda g: len(g)*len(g[0])\n",
    "libF.add(area,'area','aux')"
   ]
  },
  {
   "cell_type": "code",
   "execution_count": null,
   "id": "ec85ad1d-06c3-466c-8bec-d0bcbc0a1eae",
   "metadata": {},
   "outputs": [],
   "source": [
    "select=lambda gL,f: [el for el in gL if f(el)==(lambda l,f: max([f(e) for e in l]))(gL,f)][-1]\n",
    "libF.add(select,'select','mem')"
   ]
  },
  {
   "cell_type": "code",
   "execution_count": null,
   "id": "d68b68d8-fb14-4945-9774-f4f2d5587d51",
   "metadata": {},
   "outputs": [],
   "source": [
    "from arc_data import ARC, FewShotARC"
   ]
  },
  {
   "cell_type": "code",
   "execution_count": null,
   "id": "62fe7374-6766-4edd-bad7-e3b2d4cccb84",
   "metadata": {},
   "outputs": [],
   "source": [
    "a=ARC()"
   ]
  },
  {
   "cell_type": "code",
   "execution_count": null,
   "id": "c5947cd1-830c-4709-8eb2-977b8940790c",
   "metadata": {},
   "outputs": [],
   "source": [
    "a=FewShotARC()"
   ]
  },
  {
   "cell_type": "code",
   "execution_count": null,
   "id": "bf1adde7-aa78-4964-87ba-cf0523dc8f3e",
   "metadata": {},
   "outputs": [],
   "source": [
    "a.create_tasks(kind='meta_train')"
   ]
  },
  {
   "cell_type": "code",
   "execution_count": null,
   "id": "e2b09e0a-8a97-4bd5-93a8-33e568d378a9",
   "metadata": {},
   "outputs": [],
   "source": [
    "a.create_tasks(kind='meta_test')"
   ]
  },
  {
   "cell_type": "code",
   "execution_count": null,
   "id": "cee072b3-12ff-4436-bdc9-4425c13797f3",
   "metadata": {},
   "outputs": [],
   "source": [
    "#task=a.get_task(4)\n",
    "task=a.get_task(173)\n",
    "# task=a.get_task(262,kind='meta_train')"
   ]
  },
  {
   "cell_type": "code",
   "execution_count": null,
   "id": "9dd7462b-97a3-4208-85c8-ce44f701ff5c",
   "metadata": {
    "tags": []
   },
   "outputs": [],
   "source": [
    "a.plot_task(task,kind='orig')"
   ]
  },
  {
   "cell_type": "code",
   "execution_count": null,
   "id": "99846366-4baf-4847-9753-431be614a7f4",
   "metadata": {},
   "outputs": [],
   "source": [
    "a.plot_task(a.get_fs_task(173))"
   ]
  },
  {
   "cell_type": "code",
   "execution_count": null,
   "id": "4ea0bcca-760a-44bf-a06a-600731ff4b45",
   "metadata": {},
   "outputs": [],
   "source": [
    "grid=a.get_task(262)['train'][0]['input']"
   ]
  },
  {
   "cell_type": "code",
   "execution_count": null,
   "id": "773d79a2-9528-4656-9507-52100c676a41",
   "metadata": {},
   "outputs": [],
   "source": [
    "target=a.get_task(262)['train'][0]['output']"
   ]
  },
  {
   "cell_type": "code",
   "execution_count": null,
   "id": "1ad99311-0384-4e88-960f-7ad420d6fdf5",
   "metadata": {},
   "outputs": [],
   "source": [
    "testgrid=a.get_task(262)['test'][0]['input']"
   ]
  },
  {
   "cell_type": "code",
   "execution_count": null,
   "id": "2fb70ad6-ec73-4aaf-b773-2353a156b661",
   "metadata": {},
   "outputs": [],
   "source": [
    "testtarget=a.get_task(262)['test'][0]['output']"
   ]
  },
  {
   "cell_type": "code",
   "execution_count": null,
   "id": "a0a06d67-f57c-4453-b0b1-f9b0f409660f",
   "metadata": {},
   "outputs": [],
   "source": [
    "#a.plot_task(a.get_task(9))"
   ]
  },
  {
   "cell_type": "code",
   "execution_count": null,
   "id": "9ce1536d-392c-40fb-9079-5d31a5e4292b",
   "metadata": {},
   "outputs": [],
   "source": [
    "#testgrid=a.get_task(173)['test'][0]['input']"
   ]
  },
  {
   "cell_type": "code",
   "execution_count": null,
   "id": "49bad833-bedb-4a3c-b64d-bab207b4cb0f",
   "metadata": {},
   "outputs": [],
   "source": [
    "#testtarget=a.get_task(173)['test'][0]['output']"
   ]
  },
  {
   "cell_type": "code",
   "execution_count": null,
   "id": "90d398e4-b82b-4776-ba27-1acd2df65622",
   "metadata": {},
   "outputs": [],
   "source": [
    "#testgrid"
   ]
  },
  {
   "cell_type": "code",
   "execution_count": null,
   "id": "2fe02f30-6dd3-4bbf-8704-68f9987b7eb7",
   "metadata": {},
   "outputs": [],
   "source": [
    "#a.example2img(grid)"
   ]
  },
  {
   "cell_type": "code",
   "execution_count": null,
   "id": "cc252ca5-961e-404e-9f35-4088f739db22",
   "metadata": {},
   "outputs": [],
   "source": [
    "logL=[]\n",
    "counter,attempt=0,0\n",
    "m=machine.Machine()\n",
    "m.debug=True\n",
    "#m.load(grid,target)\n",
    "m.load(testgrid,testtarget)"
   ]
  },
  {
   "cell_type": "code",
   "execution_count": null,
   "id": "3a4099be-f123-44cc-8b97-a968fe201867",
   "metadata": {},
   "outputs": [],
   "source": [
    "copy()\n",
    "applyfn('get_objects','bbox')\n",
    "applyfn('select','size')\n",
    "out()\n",
    "# applyfn('assemble_output','bbox')\n",
    "# equals_target()"
   ]
  },
  {
   "cell_type": "code",
   "execution_count": null,
   "id": "a40a228a-6aee-4342-a828-bde57db4345a",
   "metadata": {},
   "outputs": [],
   "source": [
    "m.log"
   ]
  },
  {
   "cell_type": "code",
   "execution_count": null,
   "id": "47d19aea-f015-461c-a1ed-3d23017906a7",
   "metadata": {},
   "outputs": [],
   "source": [
    "m.input"
   ]
  },
  {
   "cell_type": "code",
   "execution_count": null,
   "id": "8587828b-efe8-459a-ac13-06b9dc31f839",
   "metadata": {},
   "outputs": [],
   "source": [
    "m.memory"
   ]
  },
  {
   "cell_type": "code",
   "execution_count": null,
   "id": "68df75d1-a9a1-434d-a282-065b650b7907",
   "metadata": {},
   "outputs": [],
   "source": [
    "m.aux"
   ]
  },
  {
   "cell_type": "code",
   "execution_count": null,
   "id": "3cbef6cb-96f3-45ce-b34a-f87e4df81c14",
   "metadata": {},
   "outputs": [],
   "source": [
    "m.output"
   ]
  },
  {
   "cell_type": "code",
   "execution_count": null,
   "id": "2670cffb-028f-4083-a63d-cc31b207e038",
   "metadata": {},
   "outputs": [],
   "source": [
    "equals_target()"
   ]
  },
  {
   "cell_type": "code",
   "execution_count": null,
   "id": "dadc2507-8d58-44f5-9044-08b6be2a4320",
   "metadata": {},
   "outputs": [],
   "source": [
    "target"
   ]
  },
  {
   "cell_type": "code",
   "execution_count": null,
   "id": "3d418e0e-16e6-4b1d-8596-8ffd790fbb9c",
   "metadata": {},
   "outputs": [],
   "source": [
    "logL"
   ]
  },
  {
   "cell_type": "markdown",
   "id": "75e4d0b8-0c79-4139-b8ef-a33576de4b01",
   "metadata": {},
   "source": [
    "Prolog interface to machine m"
   ]
  },
  {
   "cell_type": "code",
   "execution_count": null,
   "id": "df476995-cd99-4d38-902d-c4c0634ab64f",
   "metadata": {},
   "outputs": [],
   "source": [
    "from pyswip import Prolog, registerForeign"
   ]
  },
  {
   "cell_type": "code",
   "execution_count": null,
   "id": "640790f6-8a10-43b6-8975-ea0f9effccd6",
   "metadata": {},
   "outputs": [],
   "source": [
    "p=Prolog()"
   ]
  },
  {
   "cell_type": "code",
   "execution_count": null,
   "id": "f95e3907-cc25-4157-82f7-3a1de7605985",
   "metadata": {},
   "outputs": [],
   "source": [
    "for f in p.query(\"retract(option(X)),fail\"): pass"
   ]
  },
  {
   "cell_type": "code",
   "execution_count": null,
   "id": "6892dd7c-1aa0-4e07-ac8c-982f7bfc6e43",
   "metadata": {},
   "outputs": [],
   "source": [
    "for f in p.query(\"retract(function(X)),fail\"): pass"
   ]
  },
  {
   "cell_type": "code",
   "execution_count": null,
   "id": "ca64ea04-cf4d-4b22-8530-678343b27ca5",
   "metadata": {},
   "outputs": [],
   "source": [
    "for f in p.query(\"retract(argument(X,Y)),fail\"): pass"
   ]
  },
  {
   "cell_type": "code",
   "execution_count": null,
   "id": "983029eb-5b2c-4f83-99aa-5db665187a27",
   "metadata": {},
   "outputs": [],
   "source": [
    "registerForeign(get_objects)\n",
    "registerForeign(assemble_output)\n",
    "registerForeign(out)\n",
    "registerForeign(copy)\n",
    "registerForeign(applyfn)\n",
    "registerForeign(equals_target)\n",
    "registerForeign(noop)"
   ]
  },
  {
   "cell_type": "code",
   "execution_count": null,
   "id": "4d464a5a-4fc1-42d5-8e9a-c1d9641befe6",
   "metadata": {},
   "outputs": [],
   "source": [
    "p.assertz('option(bbox)')"
   ]
  },
  {
   "cell_type": "code",
   "execution_count": null,
   "id": "a7bce786-6b21-4373-b920-d5ff13c7fd6b",
   "metadata": {},
   "outputs": [],
   "source": [
    "p.assertz('option(full)')"
   ]
  },
  {
   "cell_type": "code",
   "execution_count": null,
   "id": "c87659d7-9aeb-437b-8083-02f6c5369964",
   "metadata": {},
   "outputs": [],
   "source": [
    "p.assertz('function(select)')"
   ]
  },
  {
   "cell_type": "code",
   "execution_count": null,
   "id": "df4a48c9-fd16-46c2-8971-5e2b1baf964e",
   "metadata": {},
   "outputs": [],
   "source": [
    "p.assertz('argument(select,size)')"
   ]
  },
  {
   "cell_type": "code",
   "execution_count": null,
   "id": "59f94431-28cc-4562-977d-5f0e29f11f27",
   "metadata": {},
   "outputs": [],
   "source": [
    "p.assertz('argument(select,area)')"
   ]
  },
  {
   "cell_type": "code",
   "execution_count": null,
   "id": "3711ebc9-e84f-4c13-9e6c-808214d529ae",
   "metadata": {},
   "outputs": [],
   "source": [
    "#p.assertz('function(get_objects)')"
   ]
  },
  {
   "cell_type": "code",
   "execution_count": null,
   "id": "3fea88f7-282e-445f-85c1-281e2a5ee395",
   "metadata": {},
   "outputs": [],
   "source": [
    "#p.assertz('argument(get_object,bbox)')"
   ]
  },
  {
   "cell_type": "code",
   "execution_count": null,
   "id": "322817e8-0bc9-479c-a2d7-44291ac7499d",
   "metadata": {},
   "outputs": [],
   "source": [
    "p.assertz('function(noop)')"
   ]
  },
  {
   "cell_type": "code",
   "execution_count": null,
   "id": "d9194c90-0a1e-42fc-9ca2-741ba3328bb5",
   "metadata": {},
   "outputs": [],
   "source": [
    "p.assertz('argument(noop,null)')"
   ]
  },
  {
   "cell_type": "code",
   "execution_count": null,
   "id": "c9a737fc-8fa9-4cf3-9fe4-6a2e416ce43d",
   "metadata": {},
   "outputs": [],
   "source": [
    "p.assertz('function(assemble_output)')"
   ]
  },
  {
   "cell_type": "code",
   "execution_count": null,
   "id": "923d04ac-1a32-49e2-a3a9-5dd09ef31421",
   "metadata": {},
   "outputs": [],
   "source": [
    "p.assertz('argument(assemble_output,bbox)')"
   ]
  },
  {
   "cell_type": "code",
   "execution_count": null,
   "id": "49d3f2ea-aa84-42aa-8a74-6b604f0255cd",
   "metadata": {},
   "outputs": [],
   "source": [
    "logL=[]\n",
    "counter,attempt=0,0\n",
    "m=machine.Machine()\n",
    "m.load(grid,target)"
   ]
  },
  {
   "cell_type": "code",
   "execution_count": null,
   "id": "2ffea05f-8ead-4eca-b76d-4aa965a5571e",
   "metadata": {},
   "outputs": [],
   "source": [
    "qstr=\"copy(),get_objects(bbox),function(F),argument(F,A),applyfn(F,A),out(),applyfn(assemble_output,bbox),equals_target(),!\""
   ]
  },
  {
   "cell_type": "code",
   "execution_count": null,
   "id": "d3989014-41de-4ca8-ae80-3e4669633c75",
   "metadata": {},
   "outputs": [],
   "source": [
    "qstr=\"copy(),get_objects(bbox),function(F),argument(F,A),applyfn(F,A),function(G),argument(G,GA),applyfn(G,GA),out(),function(P),argument(P,PA),applyfn(P,PA),equals_target(),!\""
   ]
  },
  {
   "cell_type": "code",
   "execution_count": null,
   "id": "1b24df94-7d91-439e-8a79-bddf91104d5b",
   "metadata": {},
   "outputs": [],
   "source": [
    "l=list(p.query(qstr))"
   ]
  },
  {
   "cell_type": "code",
   "execution_count": null,
   "id": "51189619-9053-4552-8a44-588622202010",
   "metadata": {},
   "outputs": [],
   "source": [
    "qstr"
   ]
  },
  {
   "cell_type": "code",
   "execution_count": null,
   "id": "e765543f-d1fa-417c-ae93-b49e66e10ec4",
   "metadata": {},
   "outputs": [],
   "source": [
    "l"
   ]
  },
  {
   "cell_type": "code",
   "execution_count": null,
   "id": "c9e9d581-a825-4b98-8691-cb81787562dc",
   "metadata": {},
   "outputs": [],
   "source": [
    "equals_target()"
   ]
  },
  {
   "cell_type": "code",
   "execution_count": null,
   "id": "73db3a46-6786-4b42-b8da-a741654600d3",
   "metadata": {},
   "outputs": [],
   "source": [
    "theory=qstr\n",
    "for k in l[0].keys():\n",
    "    print(k,l[0][k])\n",
    "    theory=theory.replace(k,l[0][k])"
   ]
  },
  {
   "cell_type": "code",
   "execution_count": null,
   "id": "50e0105b-4836-44b5-9e9e-cc46119e8dd5",
   "metadata": {},
   "outputs": [],
   "source": [
    "theory1='copy(),get_objects(bbox),function(select),argument(select,size),applyfn(select,size),out(),equals_target(),!'"
   ]
  },
  {
   "cell_type": "code",
   "execution_count": null,
   "id": "47341838-faa7-44b8-b359-9a613c1c8275",
   "metadata": {},
   "outputs": [],
   "source": [
    "logL=[]\n",
    "counter,attempt=0,0\n",
    "m=machine.Machine()\n",
    "m.load(grid,target)\n",
    "# m.load(testgrid,testtarget)"
   ]
  },
  {
   "cell_type": "code",
   "execution_count": null,
   "id": "314e5e84-bbb2-4805-b653-18363579d33a",
   "metadata": {},
   "outputs": [],
   "source": [
    "l=list(p.query(theory1))"
   ]
  },
  {
   "cell_type": "code",
   "execution_count": null,
   "id": "bf9fd8d4-4d49-47c1-9e74-6f49ce861141",
   "metadata": {},
   "outputs": [],
   "source": [
    "l"
   ]
  },
  {
   "cell_type": "code",
   "execution_count": null,
   "id": "7e061326-b157-4489-a8be-030ac7abb135",
   "metadata": {},
   "outputs": [],
   "source": [
    "equals_target()"
   ]
  },
  {
   "cell_type": "code",
   "execution_count": null,
   "id": "b7d4172d-d5a7-487a-9db8-c99b17dd0123",
   "metadata": {},
   "outputs": [],
   "source": [
    "m.output"
   ]
  },
  {
   "cell_type": "code",
   "execution_count": null,
   "id": "b42bedb9-d4aa-4a2c-95d7-4a0fcd112f40",
   "metadata": {},
   "outputs": [],
   "source": [
    "logL"
   ]
  },
  {
   "cell_type": "markdown",
   "id": "4d56dca6-ab09-4c72-a21b-27676b137e76",
   "metadata": {},
   "source": [
    "Abduction"
   ]
  },
  {
   "cell_type": "code",
   "execution_count": null,
   "id": "a91a1dca-a778-40e9-b539-f4eacf512d64",
   "metadata": {},
   "outputs": [],
   "source": [
    "# selectA=lambda gL,i: gL[int(i)]\n",
    "# libF.add(selectA,'selectA','mem')"
   ]
  },
  {
   "cell_type": "code",
   "execution_count": null,
   "id": "0ae52c72-5b85-4003-bce0-3dd4f169d0eb",
   "metadata": {},
   "outputs": [],
   "source": [
    "selectA=lambda gL,f: gL[f()]\n",
    "libF.add(selectA,'selectA','mem')"
   ]
  },
  {
   "cell_type": "code",
   "execution_count": null,
   "id": "0ed2ebe3-9427-44de-ad8a-bca0231c72c0",
   "metadata": {},
   "outputs": [],
   "source": [
    "logL=[]\n",
    "counter,attempt=0,0\n",
    "m=machine.Machine()\n",
    "m.load(grid,target)\n",
    "#m.load(testgrid,testtarget)"
   ]
  },
  {
   "cell_type": "code",
   "execution_count": null,
   "id": "e52ca937-373b-448a-ad6e-42eef2f62b09",
   "metadata": {},
   "outputs": [],
   "source": [
    "m.target"
   ]
  },
  {
   "cell_type": "code",
   "execution_count": null,
   "id": "e4026266-5a89-4635-a026-b936a8046d1f",
   "metadata": {},
   "outputs": [],
   "source": [
    "copy()\n",
    "applyfn('get_objects','bbox')\n",
    "#applyfn('selectA','e3')\n",
    "#out()\n",
    "#applyfn('assemble_output','bbox')\n",
    "#equals_target()"
   ]
  },
  {
   "cell_type": "code",
   "execution_count": null,
   "id": "853f2867-381c-44f5-bab2-0c3a1ddd912a",
   "metadata": {},
   "outputs": [],
   "source": [
    "m.memory"
   ]
  },
  {
   "cell_type": "code",
   "execution_count": null,
   "id": "1c095049-1fcd-436e-93c5-3d35e8a6667f",
   "metadata": {},
   "outputs": [],
   "source": [
    "equals_target()"
   ]
  },
  {
   "cell_type": "code",
   "execution_count": null,
   "id": "94e36c10-1f34-4893-99b2-ce6edd166519",
   "metadata": {},
   "outputs": [],
   "source": [
    "logL"
   ]
  },
  {
   "cell_type": "code",
   "execution_count": null,
   "id": "6175b2b9-a1b1-47b7-8cff-b6e1983499f6",
   "metadata": {},
   "outputs": [],
   "source": [
    "echo=lambda x: int(x)"
   ]
  },
  {
   "cell_type": "code",
   "execution_count": null,
   "id": "50c91839-aa27-4f94-9676-50e66281bc99",
   "metadata": {},
   "outputs": [],
   "source": [
    "p.assertz('function(selectA)')"
   ]
  },
  {
   "cell_type": "code",
   "execution_count": null,
   "id": "1674e398-d4b6-4137-8947-1b122e2ad68f",
   "metadata": {},
   "outputs": [],
   "source": [
    "from functools import partial"
   ]
  },
  {
   "cell_type": "code",
   "execution_count": null,
   "id": "399bd7be-e957-4c83-a096-29c9ad910c37",
   "metadata": {},
   "outputs": [],
   "source": [
    "e3=partial(echo,3)\n",
    "libF.add(e3,'e3','mem')"
   ]
  },
  {
   "cell_type": "code",
   "execution_count": null,
   "id": "d1362069-5149-4c44-9e85-d31faa0c826b",
   "metadata": {},
   "outputs": [],
   "source": [
    "e2=partial(echo,2)\n",
    "libF.add(e2,'e2','mem')"
   ]
  },
  {
   "cell_type": "code",
   "execution_count": null,
   "id": "8c16b9f9-7757-4a3b-9b27-bee49f8f6ae9",
   "metadata": {},
   "outputs": [],
   "source": [
    "e1=partial(echo,1)\n",
    "libF.add(e1,'e1','mem')"
   ]
  },
  {
   "cell_type": "code",
   "execution_count": null,
   "id": "db6137ac-b3ff-4ffd-96f0-5638d9dd1054",
   "metadata": {},
   "outputs": [],
   "source": [
    "e0=partial(echo,0)\n",
    "libF.add(e0,'e0','mem')"
   ]
  },
  {
   "cell_type": "code",
   "execution_count": null,
   "id": "ee636e26-0a7a-45cc-9cfb-ae97c253ba43",
   "metadata": {},
   "outputs": [],
   "source": [
    "for f in p.query(\"retract(argument(X,Y)),fail\"): pass"
   ]
  },
  {
   "cell_type": "code",
   "execution_count": null,
   "id": "f1284735-c37a-4a51-8c7b-debcb4a59dcf",
   "metadata": {},
   "outputs": [],
   "source": [
    "p.assertz('argument(selectA,e3)')"
   ]
  },
  {
   "cell_type": "code",
   "execution_count": null,
   "id": "33c33312-bb49-4dba-8ac2-54c0def7c9e0",
   "metadata": {},
   "outputs": [],
   "source": [
    "p.assertz('argument(selectA,e2)')"
   ]
  },
  {
   "cell_type": "code",
   "execution_count": null,
   "id": "b7f533aa-368b-496f-b1a9-9c20c3840d7b",
   "metadata": {},
   "outputs": [],
   "source": [
    "p.assertz('argument(selectA,e1)')"
   ]
  },
  {
   "cell_type": "code",
   "execution_count": null,
   "id": "ba18a291-0fd5-4dad-864d-8dee0b035cf4",
   "metadata": {},
   "outputs": [],
   "source": [
    "p.assertz('argument(selectA,e0)')"
   ]
  },
  {
   "cell_type": "code",
   "execution_count": null,
   "id": "86113341-7eba-4e11-870d-98f1ae26759b",
   "metadata": {},
   "outputs": [],
   "source": [
    "logL=[]\n",
    "counter,attempt=0,0\n",
    "m=machine.Machine()\n",
    "m.load(grid,target)\n",
    "#m.load(testgrid,testtarget)"
   ]
  },
  {
   "cell_type": "code",
   "execution_count": null,
   "id": "44898df4-7d4b-4711-bcb8-32c19c89ada7",
   "metadata": {},
   "outputs": [],
   "source": [
    "m.debug=True"
   ]
  },
  {
   "cell_type": "code",
   "execution_count": null,
   "id": "275261d0-aaa8-4ebf-9f53-e447da235df7",
   "metadata": {},
   "outputs": [],
   "source": [
    "qstr=\"copy(),get_objects(bbox),argument(selectA,A),applyfn(selectA,A),out(),applyfn(assemble_output,bbox),equals_target(),!\""
   ]
  },
  {
   "cell_type": "code",
   "execution_count": null,
   "id": "28d276e5-092a-4921-bf68-a03c18c3a17b",
   "metadata": {},
   "outputs": [],
   "source": [
    "qstr=\"copy(),get_objects(bbox),argument(selectA,A),applyfn(selectA,A),out(),equals_target(),!\""
   ]
  },
  {
   "cell_type": "code",
   "execution_count": null,
   "id": "81bf3b3a-7844-45c4-88d3-41e933782b9a",
   "metadata": {},
   "outputs": [],
   "source": [
    "qstr=\"copy(),get_objects(bbox),function(F),argument(F,A),applyfn(F,A),out(),applyfn(assemble_output,bbox),equals_target(),!\""
   ]
  },
  {
   "cell_type": "code",
   "execution_count": null,
   "id": "8bfef153-fd7b-4af7-af9e-21a8a9b556c6",
   "metadata": {},
   "outputs": [],
   "source": [
    "list(p.query(qstr))"
   ]
  },
  {
   "cell_type": "code",
   "execution_count": null,
   "id": "52f7ecec-0c94-459d-9dbd-40e1db84df86",
   "metadata": {
    "tags": []
   },
   "outputs": [],
   "source": [
    "logL"
   ]
  },
  {
   "cell_type": "code",
   "execution_count": null,
   "id": "739b8a34-9387-4fd9-9985-60a32bbf1238",
   "metadata": {},
   "outputs": [],
   "source": [
    "m.output"
   ]
  },
  {
   "cell_type": "code",
   "execution_count": null,
   "id": "57715e93-3b8f-4fcc-902e-2d9df128c2b8",
   "metadata": {},
   "outputs": [],
   "source": [
    "selectAL=[lD for lD in logL if lD['func']=='apply selectA']"
   ]
  },
  {
   "cell_type": "code",
   "execution_count": null,
   "id": "6b6518b7-5cb4-4d23-907c-44dd36db617a",
   "metadata": {},
   "outputs": [],
   "source": [
    "attemptL=[(lD['attempt'],lD['stage']) for lD in logL if lD['func']=='equals_target' and lD['stage']!='before']"
   ]
  },
  {
   "cell_type": "code",
   "execution_count": null,
   "id": "96b35f01-6bf1-4ae9-99f6-804200c66bbe",
   "metadata": {},
   "outputs": [],
   "source": [
    "attemptL"
   ]
  },
  {
   "cell_type": "code",
   "execution_count": null,
   "id": "75289e79-87e3-4e57-bb78-5bd7e2e86eab",
   "metadata": {},
   "outputs": [],
   "source": [
    "[(lD['attempt'],lD['memory'],[a[1] for a in attemptL if a[0]-1==lD['attempt']]) for lD in selectAL if lD['stage']=='before']"
   ]
  },
  {
   "cell_type": "code",
   "execution_count": null,
   "id": "bb3a7a68-b63f-47af-82de-d1e2bc77dc56",
   "metadata": {},
   "outputs": [],
   "source": [
    "[(lD['attempt'],lD['memory'],[a[1] for a in attemptL if a[0]-1==lD['attempt']]) for lD in selectAL if lD['stage']!='before']"
   ]
  },
  {
   "cell_type": "markdown",
   "id": "b0b7b81d-bdf6-46eb-b65a-ded7addb1160",
   "metadata": {},
   "source": [
    "Exeriments"
   ]
  },
  {
   "cell_type": "code",
   "execution_count": null,
   "id": "d7edd80a-2f5a-494a-938d-4c0de93559cb",
   "metadata": {},
   "outputs": [],
   "source": [
    "l=list(p.query(\"copy(),get_objects(bbox),applyfn(select,size),out()\"))"
   ]
  },
  {
   "cell_type": "code",
   "execution_count": null,
   "id": "092b704a-d9bc-4e37-9cda-cdbccf347388",
   "metadata": {},
   "outputs": [],
   "source": [
    "l=list(p.query(\"copy(),get_objects(bbox),applyfn(select,size),applyfn(noop,null),out(),applyfn(assemble_output,bbox)\"))"
   ]
  },
  {
   "cell_type": "code",
   "execution_count": null,
   "id": "c2eca66e-44ad-4942-9cbc-5d4216701b67",
   "metadata": {},
   "outputs": [],
   "source": [
    "l=list(p.query(\"copy(),get_objects(bbox),applyfn(noop,null),out(),applyfn(assemble_output,bbox)\"))"
   ]
  },
  {
   "cell_type": "code",
   "execution_count": null,
   "id": "ccd4ae9c-d077-4a9b-9dbc-bf4abef00477",
   "metadata": {},
   "outputs": [],
   "source": [
    "l=list(p.query(\"copy(),get_objects(bbox),function(F),argument(F,A),applyfn(F,A),out(),applyfn(assemble_output,bbox),equals_target(),!\"))"
   ]
  },
  {
   "cell_type": "code",
   "execution_count": null,
   "id": "25708756-7cec-4d91-8b63-ee5c6bb127f4",
   "metadata": {},
   "outputs": [],
   "source": [
    "l=list(p.query(\"copy(),get_objects(bbox),function(F),argument(F,A),applyfn(F,A),out(),applyfn(assemble_output,bbox),equals_target(),!\"))\n"
   ]
  },
  {
   "cell_type": "code",
   "execution_count": null,
   "id": "29273ec1-364c-45cf-9a53-56224fdb83f6",
   "metadata": {},
   "outputs": [],
   "source": [
    "l=list(p.query(\"copy(),get_objects(bbox),function(F),argument(F,A),applyfn(F,A),function(G),argument(G,GA),applyfn(G,GA),out(),equals_target(),!\"))\n"
   ]
  },
  {
   "cell_type": "code",
   "execution_count": null,
   "id": "73330e42-e33c-443a-bf1c-4d017edacb66",
   "metadata": {},
   "outputs": [],
   "source": [
    "qstr=\"copy(),get_objects(bbox),function(F),argument(F,A),applyfn(F,A),function(G),applyfn(G,bbox),out(),equals_target(),!\""
   ]
  },
  {
   "cell_type": "code",
   "execution_count": null,
   "id": "230f1858-e8e4-484d-9aea-0b25579bf86c",
   "metadata": {},
   "outputs": [],
   "source": [
    "qstr=\"copy(),get_objects(bbox),function(F),argument(F,A),applyfn(F,A),function(G),applyfn(G,bbox),out(),applyfn(assemble_output,bbox),equals_target(),!\""
   ]
  },
  {
   "cell_type": "code",
   "execution_count": null,
   "id": "955cc229-0120-4204-8b58-35b9c7b71b08",
   "metadata": {
    "tags": []
   },
   "outputs": [],
   "source": [
    "l=list(p.query(qstr))"
   ]
  },
  {
   "cell_type": "code",
   "execution_count": null,
   "id": "4832a337-975f-4e3a-b077-297fa41ddb89",
   "metadata": {},
   "outputs": [],
   "source": [
    "l"
   ]
  },
  {
   "cell_type": "code",
   "execution_count": null,
   "id": "9df1c6e5-e35f-43e1-9624-6f0cb14014ab",
   "metadata": {},
   "outputs": [],
   "source": [
    "theory=qstr\n",
    "for k in l[0].keys():\n",
    "    print(k,l[0][k])\n",
    "    theory=theory.replace(k,l[0][k])"
   ]
  },
  {
   "cell_type": "code",
   "execution_count": null,
   "id": "a29c07b6-a7a4-4e5b-9c73-298973cf1649",
   "metadata": {},
   "outputs": [],
   "source": [
    "theory"
   ]
  },
  {
   "cell_type": "code",
   "execution_count": null,
   "id": "b48bc5d5-edd2-468e-a631-0e8f04754296",
   "metadata": {},
   "outputs": [],
   "source": [
    "l"
   ]
  },
  {
   "cell_type": "code",
   "execution_count": null,
   "id": "b72c569e-55fe-4d61-99ea-1599bcb7cdf2",
   "metadata": {},
   "outputs": [],
   "source": [
    "grid"
   ]
  },
  {
   "cell_type": "code",
   "execution_count": null,
   "id": "83b41c29-efa1-4dc5-a317-65e9f8c63c1d",
   "metadata": {},
   "outputs": [],
   "source": [
    "m.memory"
   ]
  },
  {
   "cell_type": "code",
   "execution_count": null,
   "id": "39165276-f896-4425-b3f5-05ff4b7df8f6",
   "metadata": {},
   "outputs": [],
   "source": [
    "m.output"
   ]
  },
  {
   "cell_type": "code",
   "execution_count": null,
   "id": "6003ddd3-7399-49b0-b247-c1fe41bcd077",
   "metadata": {},
   "outputs": [],
   "source": [
    "equals_target()"
   ]
  },
  {
   "cell_type": "code",
   "execution_count": null,
   "id": "0f410ebc-54d1-4887-b377-4be42e6f11e7",
   "metadata": {},
   "outputs": [],
   "source": [
    "list(p.query(\"function(F),argument(F,A)\"))"
   ]
  },
  {
   "cell_type": "code",
   "execution_count": null,
   "id": "da5da716-4ac0-434b-81d5-feb814709f37",
   "metadata": {},
   "outputs": [],
   "source": [
    "logL"
   ]
  },
  {
   "cell_type": "markdown",
   "id": "ae3f664f-01a5-4ed1-ac08-014aaaef3d0b",
   "metadata": {},
   "source": [
    "Lambda operations on grids"
   ]
  },
  {
   "cell_type": "code",
   "execution_count": null,
   "id": "7c45164f-4e40-423d-9081-2da5575655b0",
   "metadata": {
    "tags": []
   },
   "outputs": [],
   "source": [
    "size=lambda g: sum([len([1 for i in l if i!=0]) for l in g])"
   ]
  },
  {
   "cell_type": "code",
   "execution_count": null,
   "id": "5fae76e0-2f8f-4e84-be1d-1148ced6036f",
   "metadata": {},
   "outputs": [],
   "source": [
    "area=lambda g: len(g)*len(g[0])"
   ]
  },
  {
   "cell_type": "code",
   "execution_count": null,
   "id": "c08199f6-43a9-4e45-8c86-548d79f9918e",
   "metadata": {},
   "outputs": [],
   "source": [
    "#maxcomp=lambda l,f: max([f(e) for e in l])"
   ]
  },
  {
   "cell_type": "code",
   "execution_count": null,
   "id": "748a58e9-d775-454f-84dd-bd49e5e11f33",
   "metadata": {},
   "outputs": [],
   "source": [
    "#maxel=lambda gL,f: [el for el in gL if f(el)==maxcomp(gL,f)][0]"
   ]
  },
  {
   "cell_type": "code",
   "execution_count": null,
   "id": "471c1d06-3750-47f5-b7a4-73e96567b0f4",
   "metadata": {},
   "outputs": [],
   "source": [
    "select=(lambda gL,f: [el for el in gL if f(el)==(lambda l,f: max([f(e) for e in l]))(gL,f)][-1])"
   ]
  },
  {
   "cell_type": "code",
   "execution_count": null,
   "id": "91220356-391f-4be1-ad4c-1f76bb29f15a",
   "metadata": {},
   "outputs": [],
   "source": [
    "select(m.memory,size)"
   ]
  },
  {
   "cell_type": "code",
   "execution_count": null,
   "id": "72127977-2596-4a6e-ad6b-9851a6536a67",
   "metadata": {},
   "outputs": [],
   "source": [
    "[1 for i in grid[0] if i!=0]"
   ]
  },
  {
   "cell_type": "code",
   "execution_count": null,
   "id": "1cf891b9-31ff-4d2e-88df-2acb12ffa1b2",
   "metadata": {},
   "outputs": [],
   "source": [
    "len = λl.if (empty l) 0 (plus 1 (len (tail l)))"
   ]
  },
  {
   "cell_type": "code",
   "execution_count": null,
   "id": "9277544d-7d62-4e11-97fc-152e06b190ad",
   "metadata": {},
   "outputs": [],
   "source": [
    "mylen=lambda l: h,*t=l, 1 if t==[] else 10"
   ]
  },
  {
   "cell_type": "code",
   "execution_count": null,
   "id": "150045ee-61e2-495b-8586-2f3c73d41f45",
   "metadata": {},
   "outputs": [],
   "source": [
    "h,*t=[1]"
   ]
  },
  {
   "cell_type": "code",
   "execution_count": null,
   "id": "b4535d21-7203-4096-aae1-6aa6c5908708",
   "metadata": {},
   "outputs": [],
   "source": [
    "t"
   ]
  },
  {
   "cell_type": "code",
   "execution_count": null,
   "id": "c62e75b2-d988-4480-ba4b-832730d9ba5f",
   "metadata": {},
   "outputs": [],
   "source": [
    "mylen([1])"
   ]
  },
  {
   "cell_type": "code",
   "execution_count": null,
   "id": "c6c39ad3-953e-4247-964e-9e26776b4549",
   "metadata": {},
   "outputs": [],
   "source": [
    "Nr,Nc=len(m.input[0]),len(m.input[0][0])"
   ]
  },
  {
   "cell_type": "code",
   "execution_count": null,
   "id": "fbf6fda2-441a-4966-a94f-65098cbe6f63",
   "metadata": {},
   "outputs": [],
   "source": [
    "Nr"
   ]
  },
  {
   "cell_type": "code",
   "execution_count": null,
   "id": "5af3fbda-aabc-4df2-b8b0-3cc94de4cb43",
   "metadata": {},
   "outputs": [],
   "source": [
    "machine.assemble_grid(m.memory,m.aux,Nr,Nc,embed='bbox',scale=1)"
   ]
  },
  {
   "cell_type": "code",
   "execution_count": null,
   "id": "b003958a-1f18-4c6c-a499-d85461cc9d57",
   "metadata": {},
   "outputs": [],
   "source": [
    "libF.functionD"
   ]
  },
  {
   "cell_type": "code",
   "execution_count": null,
   "id": "6bfb79a4-d231-4f22-acb4-6cae12096bad",
   "metadata": {},
   "outputs": [],
   "source": [
    "generated=[\"lambda g: len ([ 1 for i in l if i! =0] ) for l in g] ) for l in g] )\",\n",
    " \"lambda g: len ([ 1 for i in l if i! =0] ) for l in g] )\",\n",
    " \"lambda g: len ([ 1 for i in l if i! =0] ) for l in g] )) (gL, f )\",\n",
    " \"lambda g: len ([ 1 for i in l if i! =0] ) for l in g] )) (gL, f) ] [-1 ]\",\n",
    " \"lambda g: len ([ 1 for i in l if i! =0] ) for l in g] )) (gL, f) for l in g] )\",\n",
    " \"lambda g: len ([ 1 for i in l if i! =0] ) for l in g] )] [-1 ]\",\n",
    " \"lambda g: len (g) *len (g [0] ) for l in g] )\",\n",
    " \"lambda g: len (g) *len (g [0] )\",\n",
    " \"lambda g: len (g) *len (g [0] )) (gL, f )\",\n",
    " \"lambda g: len (g) *len (g [0] )) (gL, f) ] [-1 ]\",\n",
    " \"lambda g: len (g) *len (g [0] )) (gL, f) for l in g] )\",\n",
    " \"lambda g: len (g) *len (g [0] )] [-1 ]\",\n",
    " \"lambda g: sum ([ len ([ 1 for i in l if i! =0] ) for l in g] ) for l in g] )\",\n",
    " \"lambda g: sum ([ len ([ 1 for i in l if i! =0] ) for l in g] )\",\n",
    " \"lambda g: sum ([ len ([ 1 for i in l if i! =0] ) for l in g] )) (gL, f )\",\n",
    " \"lambda g: sum ([ len ([ 1 for i in l if i! =0] ) for l in g] )) (gL, f) ] [-1 ]\",\n",
    " \"lambda g: sum ([ len ([ 1 for i in l if i! =0] ) for l in g] )) (gL, f) for l in g] )\",\n",
    " \"lambda g: sum ([ len ([ 1 for i in l if i! =0] ) for l in g] )] [-1 ]\",\n",
    " \"lambda g: sum ([ len ([ 1 for i in l if i! =0] )\",\n",
    " \"lambda g: sum ([ len ([ 1 for i in l if i! =0] )) (gL, f )\",\n",
    " \"lambda g: sum ([ len ([ 1 for i in l if i! =0] )) (gL, f) ] [-1 ]\",\n",
    " \"lambda g: sum ([ len ([ 1 for i in l if i! =0] )) (gL, f) for l in g] )\",\n",
    " \"lambda g: sum ([ len ([ 1 for i in l if i! =0] )] [-1 ]\",\n",
    " \"lambda g: sum ([ len (g) *len (g [0] ) for l in g] )\",\n",
    " \"lambda g: sum ([ len (g) *len (g [0] )\",\n",
    " \"lambda g: sum ([ len (g) *len (g [0] )) (gL, f )\",\n",
    " \"lambda g: sum ([ len (g) *len (g [0] )) (gL, f) ] [-1 ]\",\n",
    " \"lambda g: sum ([ len (g) *len (g [0] )) (gL, f) for l in g] )\",\n",
    " \"lambda g: sum ([ len (g) *len (g [0] )] [-1 ]\",\n",
    " \"lambda gL, f: [el for el in gL if f (el) == (lambda l, f: max ([ f (e) for e in l] ) for l in g] )\",\n",
    " \"lambda gL, f: [el for el in gL if f (el) == (lambda l, f: max ([ f (e) for e in l] )\",\n",
    " \"lambda gL, f: [el for el in gL if f (el) == (lambda l, f: max ([ f (e) for e in l] )) (gL, f )\",\n",
    " \"lambda gL, f: [el for el in gL if f (el) == (lambda l, f: max ([ f (e) for e in l] )) (gL, f) ] [-1 ]\",\n",
    " \"lambda gL, f: [el for el in gL if f (el) == (lambda l, f: max ([ f (e) for e in l] )) (gL, f) for l in g] )\",\n",
    " \"lambda gL, f: [el for el in gL if f (el) == (lambda l, f: max ([ f (e) for e in l] )] [-1 ]\"]"
   ]
  },
  {
   "cell_type": "code",
   "execution_count": null,
   "id": "3086cc97-37f1-4bf9-ab22-22b0780752e3",
   "metadata": {},
   "outputs": [],
   "source": [
    "exec('('+generated[30]+')(grid)')"
   ]
  },
  {
   "cell_type": "code",
   "execution_count": null,
   "id": "7d205d46-6d9a-4c5f-8194-26dad7f1366c",
   "metadata": {},
   "outputs": [],
   "source": [
    "(lambda g: sum([len([1 for i in l if i!=0]) for l in g]))(grid)"
   ]
  },
  {
   "cell_type": "code",
   "execution_count": null,
   "id": "52703b0d-4490-44ef-b123-2e85f172804b",
   "metadata": {},
   "outputs": [],
   "source": [
    "generated[0]"
   ]
  },
  {
   "cell_type": "code",
   "execution_count": null,
   "id": "65231734-f129-4438-a504-771702529d67",
   "metadata": {},
   "outputs": [],
   "source": [
    "(lambda g: len ([ 1 for i in l if i! =0] ) for l in g] ) for l in g] ))(grid)"
   ]
  },
  {
   "cell_type": "code",
   "execution_count": null,
   "id": "b67d56fb-e378-44f2-adb8-f7834c8d47a4",
   "metadata": {},
   "outputs": [],
   "source": [
    "g=grid"
   ]
  },
  {
   "cell_type": "code",
   "execution_count": null,
   "id": "5e454bcd-9ed8-40d8-a1e9-e94a95bbb896",
   "metadata": {},
   "outputs": [],
   "source": [
    "[len ([ 1 for i in l if i! =0] ) for l in g] ] for l in g]"
   ]
  },
  {
   "cell_type": "code",
   "execution_count": null,
   "id": "7f1777b0-4a40-4264-8044-d88b1b7d5918",
   "metadata": {},
   "outputs": [],
   "source": []
  }
 ],
 "metadata": {
  "kernelspec": {
   "display_name": "Python 3 (ipykernel)",
   "language": "python",
   "name": "python3"
  },
  "language_info": {
   "codemirror_mode": {
    "name": "ipython",
    "version": 3
   },
   "file_extension": ".py",
   "mimetype": "text/x-python",
   "name": "python",
   "nbconvert_exporter": "python",
   "pygments_lexer": "ipython3",
   "version": "3.10.14"
  }
 },
 "nbformat": 4,
 "nbformat_minor": 5
}
