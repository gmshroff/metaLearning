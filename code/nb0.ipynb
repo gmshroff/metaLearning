{
 "cells": [
  {
   "cell_type": "markdown",
   "metadata": {
    "colab_type": "text",
    "id": "view-in-github"
   },
   "source": [
    "<a href=\"https://colab.research.google.com/github/gmshroff/metaLearning2022/blob/main/code/nb0.ipynb\" target=\"_parent\"><img src=\"https://colab.research.google.com/assets/colab-badge.svg\" alt=\"Open In Colab\"/></a>"
   ]
  },
  {
   "cell_type": "markdown",
   "metadata": {
    "id": "0LGklTDZ6PvT"
   },
   "source": [
    "# TRAINING DEEP NEURAL NETWORKS"
   ]
  },
  {
   "cell_type": "code",
   "execution_count": null,
   "metadata": {
    "id": "uYh0sK_F6PvW"
   },
   "outputs": [],
   "source": [
    "# !pip install import_ipynb --quiet\n",
    "# !git clone https://github.com/gmshroff/metaLearning.git\n",
    "# %cd metaLearning/code"
   ]
  },
  {
   "cell_type": "code",
   "execution_count": null,
   "metadata": {
    "id": "EnbJ9Mia6PvY"
   },
   "outputs": [],
   "source": [
    "import import_ipynb\n",
    "import utils\n",
    "import models\n",
    "from IPython import display\n",
    "import torch\n",
    "from sklearn.manifold import TSNE\n",
    "from matplotlib import pyplot as plt\n",
    "import pickle"
   ]
  },
  {
   "cell_type": "code",
   "execution_count": null,
   "metadata": {
    "id": "i8eBciR16PvZ"
   },
   "outputs": [],
   "source": [
    "from course_data import MyDS"
   ]
  },
  {
   "cell_type": "markdown",
   "metadata": {
    "id": "JrwubFFF6PvZ"
   },
   "source": [
    "Random data in $\\mathcal{R}^N$ in $C$ clusters/classes."
   ]
  },
  {
   "cell_type": "code",
   "execution_count": null,
   "metadata": {
    "id": "J1GD2fjl6PvZ"
   },
   "outputs": [],
   "source": [
    "#Generate data - euclidean\n",
    "train_ds, test_ds, dloader = utils.euclideanDataset(n_samples=10000,n_features=20,n_classes=10,batch_size=32)"
   ]
  },
  {
   "cell_type": "markdown",
   "metadata": {
    "id": "mE91cU1C6Pva"
   },
   "source": [
    "Using random data in $\\mathcal{R}^4$ as above to generate sin wave mixures; each class has different mean frequencies and amplitues."
   ]
  },
  {
   "cell_type": "markdown",
   "metadata": {
    "id": "FJyMrEF46Pvb"
   },
   "source": [
    "Project data down to a 2-D space for visualiation."
   ]
  },
  {
   "cell_type": "code",
   "execution_count": null,
   "metadata": {
    "id": "2b8gu6896Pvc"
   },
   "outputs": [],
   "source": [
    "tsne = TSNE()\n",
    "X_2d = tsne.fit_transform(train_ds.samples[0:100])\n",
    "colors=[\"red\",\"green\",\"blue\",\"yellow\",\"pink\",\"black\",\"orange\",\"purple\",\"beige\",\"brown\"]\n",
    "plt.scatter(X_2d[:,0],X_2d[:,1],c=[colors[l] for l in train_ds.labels[0:100]])\n",
    "plt.show()"
   ]
  },
  {
   "cell_type": "markdown",
   "metadata": {
    "id": "oBzwyp3k6Pvf"
   },
   "source": [
    "Simple MLP on Eucledian Data"
   ]
  },
  {
   "cell_type": "code",
   "execution_count": null,
   "metadata": {
    "id": "oDroeLoE6Pvf"
   },
   "outputs": [],
   "source": [
    "# Define an MLP network. Note that input dimension has to be data dimension. For classification\n",
    "# final dimension has to be number of classes; for regression one.\n",
    "# torch.manual_seed(10)\n",
    "net = models.MLP(dims=[20,128,64,10])"
   ]
  },
  {
   "cell_type": "code",
   "execution_count": null,
   "metadata": {
    "id": "coHXk_Z26Pvg"
   },
   "outputs": [],
   "source": [
    "# Train the network; note that network is trained in place so repeated calls further train it.\n",
    "net,losses,accs=models.Train(net,dloader,epochs=10,verbose=True)"
   ]
  },
  {
   "cell_type": "markdown",
   "metadata": {
    "id": "optX8iQb6Pvg"
   },
   "source": [
    "Accuracy on training set."
   ]
  },
  {
   "cell_type": "code",
   "execution_count": null,
   "metadata": {
    "id": "-VYXRR5a6Pvg"
   },
   "outputs": [],
   "source": [
    "#Training accuracy.\n",
    "models.accuracy(net,train_ds.samples,train_ds.labels,verbose=True)"
   ]
  },
  {
   "cell_type": "markdown",
   "metadata": {
    "id": "f2wzSqyh6Pvg"
   },
   "source": [
    "Accuracy on test set."
   ]
  },
  {
   "cell_type": "code",
   "execution_count": null,
   "metadata": {
    "id": "AUed-ugX6Pvg"
   },
   "outputs": [],
   "source": [
    "# Test accuracy.\n",
    "models.accuracy(net,test_ds.samples,test_ds.labels)"
   ]
  },
  {
   "cell_type": "markdown",
   "metadata": {
    "id": "tqG72B426Pvf"
   },
   "source": [
    "The well-known MNIST data of handwritten characters."
   ]
  },
  {
   "cell_type": "code",
   "execution_count": null,
   "metadata": {
    "id": "ch6mh_sJ6Pvf"
   },
   "outputs": [],
   "source": [
    "train_ds, test_ds, dloader = utils.mnist_data(frac=0.25,download=True)"
   ]
  },
  {
   "cell_type": "code",
   "execution_count": null,
   "metadata": {
    "id": "ejJqZJL_6Pvf"
   },
   "outputs": [],
   "source": [
    "plt.imshow(train_ds.samples.reshape(15000,28,28)[10])\n",
    "plt.show()"
   ]
  },
  {
   "cell_type": "code",
   "execution_count": null,
   "metadata": {
    "id": "7-fLS3hGAvI2"
   },
   "outputs": [],
   "source": [
    "train_ds.samples[0].shape"
   ]
  },
  {
   "cell_type": "code",
   "execution_count": null,
   "metadata": {
    "id": "oDroeLoE6Pvf"
   },
   "outputs": [],
   "source": [
    "# Define an MLP network. Note that input dimension has to be data dimension. For classification\n",
    "# final dimension has to be number of classes; for regression one.\n",
    "#torch.manual_seed(10)\n",
    "net = models.MLP(dims=[784,128,64,10])"
   ]
  },
  {
   "cell_type": "code",
   "execution_count": null,
   "metadata": {
    "id": "rbY6ua2x6Pvf"
   },
   "outputs": [],
   "source": [
    "net(train_ds.samples[10].unsqueeze(0))"
   ]
  },
  {
   "cell_type": "code",
   "execution_count": null,
   "metadata": {
    "id": "coHXk_Z26Pvg"
   },
   "outputs": [],
   "source": [
    "# Train the network; note that network is trained in place so repeated calls further train it.\n",
    "net,losses,accs=models.Train(net,dloader,epochs=10,verbose=True)"
   ]
  },
  {
   "cell_type": "markdown",
   "metadata": {
    "id": "Wl-WmWya6Pvg"
   },
   "source": [
    "Train the network"
   ]
  },
  {
   "cell_type": "code",
   "execution_count": null,
   "metadata": {
    "id": "-VYXRR5a6Pvg"
   },
   "outputs": [],
   "source": [
    "#Training accuracy.\n",
    "models.accuracy(net,train_ds.samples,train_ds.labels,verbose=True)"
   ]
  },
  {
   "cell_type": "code",
   "execution_count": null,
   "metadata": {
    "id": "AUed-ugX6Pvg"
   },
   "outputs": [],
   "source": [
    "# Test accuracy.\n",
    "models.accuracy(net,test_ds.samples,test_ds.labels)"
   ]
  },
  {
   "cell_type": "code",
   "execution_count": null,
   "metadata": {},
   "outputs": [],
   "source": []
  }
 ],
 "metadata": {
  "accelerator": "GPU",
  "colab": {
   "include_colab_link": true,
   "name": "nb0.ipynb",
   "provenance": []
  },
  "kernelspec": {
   "display_name": "Python 3 (ipykernel)",
   "language": "python",
   "name": "python3"
  },
  "language_info": {
   "codemirror_mode": {
    "name": "ipython",
    "version": 3
   },
   "file_extension": ".py",
   "mimetype": "text/x-python",
   "name": "python",
   "nbconvert_exporter": "python",
   "pygments_lexer": "ipython3",
   "version": "3.10.14"
  }
 },
 "nbformat": 4,
 "nbformat_minor": 4
}
