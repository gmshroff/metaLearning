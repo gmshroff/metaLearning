{
 "cells": [
  {
   "cell_type": "code",
   "execution_count": null,
   "id": "1715bb52-6b9d-47b7-ae9f-d3db0975673f",
   "metadata": {},
   "outputs": [],
   "source": [
    "# !pip install openai"
   ]
  },
  {
   "cell_type": "code",
   "execution_count": null,
   "id": "44a5bf69-14da-4f69-a5ca-e967e09170d0",
   "metadata": {},
   "outputs": [],
   "source": [
    "import openai"
   ]
  },
  {
   "cell_type": "code",
   "execution_count": null,
   "id": "540a93d1-0a81-4d88-a0ed-0b31aa395bfb",
   "metadata": {},
   "outputs": [],
   "source": [
    "OPENAIKEY=''\n",
    "openai.api_key = OPENAIKEY"
   ]
  },
  {
   "cell_type": "code",
   "execution_count": null,
   "id": "882cc47c-e0d7-44b2-8710-f0635022e024",
   "metadata": {},
   "outputs": [],
   "source": [
    "# !wget https://raw.githubusercontent.com/karpathy/char-rnn/master/data/tinyshakespeare/input.txt"
   ]
  },
  {
   "cell_type": "code",
   "execution_count": null,
   "id": "27d8d422-7ec5-4688-a733-34c3d1ac6bbd",
   "metadata": {},
   "outputs": [],
   "source": [
    "with open('input.txt', 'r', encoding='utf-8') as f:\n",
    "    text = f.read()"
   ]
  },
  {
   "cell_type": "code",
   "execution_count": null,
   "id": "f85bb2b2-1ab0-4dca-9e3d-7f36f446ebb5",
   "metadata": {},
   "outputs": [],
   "source": [
    "prompt=text[:100]\n",
    "print(prompt)"
   ]
  },
  {
   "cell_type": "code",
   "execution_count": null,
   "id": "854df9ac-c9df-412a-8a5e-df6d3c23a6c8",
   "metadata": {},
   "outputs": [],
   "source": [
    "response = openai.Completion.create(model=\"text-davinci-003\", \n",
    "                                    prompt=prompt, \n",
    "                                    temperature=0, max_tokens=500)\n",
    "print(response['choices'][0].text,end='\\n')"
   ]
  },
  {
   "cell_type": "code",
   "execution_count": null,
   "id": "3fb8fcc0-2fc4-48c8-ad20-5357c4bca7f2",
   "metadata": {},
   "outputs": [],
   "source": [
    "print(prompt)\n",
    "print('=======')\n",
    "print(prompt+response['choices'][0].text,end='\\n')"
   ]
  },
  {
   "cell_type": "code",
   "execution_count": null,
   "id": "22796389-bed6-4c19-b024-36b3e81807bf",
   "metadata": {},
   "outputs": [],
   "source": [
    "def call_chatGPT(prompt):\n",
    "    messages=[{\"role\": \"system\", \"content\": \"You are a helpful assistant.\"}]\n",
    "    messages+=[{\"role\": \"user\", \"content\": prompt}]\n",
    "    completions=openai.ChatCompletion.create(   \n",
    "    model=\"gpt-3.5-turbo\",   \n",
    "    messages=messages)\n",
    "    return completions['choices'][0]['message']['content']"
   ]
  },
  {
   "cell_type": "code",
   "execution_count": null,
   "id": "4ac842d9-6ad2-4664-ac9c-2e74fc4e43c5",
   "metadata": {},
   "outputs": [],
   "source": [
    "call_chatGPT(prompt)"
   ]
  },
  {
   "cell_type": "code",
   "execution_count": null,
   "id": "94bf288b-1dab-4513-9a8e-2797d8eb60bf",
   "metadata": {},
   "outputs": [],
   "source": []
  }
 ],
 "metadata": {
  "kernelspec": {
   "display_name": "Python 3 (ipykernel)",
   "language": "python",
   "name": "python3"
  },
  "language_info": {
   "codemirror_mode": {
    "name": "ipython",
    "version": 3
   },
   "file_extension": ".py",
   "mimetype": "text/x-python",
   "name": "python",
   "nbconvert_exporter": "python",
   "pygments_lexer": "ipython3",
   "version": "3.9.9"
  }
 },
 "nbformat": 4,
 "nbformat_minor": 5
}
