{
 "cells": [
  {
   "cell_type": "code",
   "execution_count": null,
   "id": "bdfa6fc6-1765-485f-ae73-5986ad3e7fc9",
   "metadata": {
    "tags": []
   },
   "outputs": [],
   "source": [
    "import torch\n",
    "import torch.nn as nn\n",
    "import torch.nn.functional as F\n",
    "import torch.optim as optim"
   ]
  },
  {
   "cell_type": "code",
   "execution_count": null,
   "id": "03046588-6629-4769-a2a1-014bc90a0fbd",
   "metadata": {
    "tags": []
   },
   "outputs": [],
   "source": [
    "class DiffRule(nn.Module):\n",
    "    def __init__(self, input_size,output_size,num_layers,default_class,lr=1e-3):\n",
    "        super(DiffRule, self).__init__()\n",
    "        self.input_size = input_size\n",
    "        self.output_size = output_size\n",
    "        self.num_layers = num_layers\n",
    "        self.logsoftmax = nn.LogSoftmax()\n",
    "        self.y_default = F.one_hot(torch.tensor(default_class),num_classes=output_size)\n",
    "        self.beta=nn.ParameterList([nn.Parameter(torch.randn(input_size,1,dtype=torch.float)) for i in range(num_layers)])\n",
    "        self.phi=nn.ParameterList([nn.Parameter(torch.randn(1,1,dtype=torch.float)) for i in range(num_layers)])\n",
    "        self.final_layer = nn.Embedding(1, output_size)\n",
    "        nn.init.uniform_(self.final_layer.weight, -1, 1)\n",
    "        # self.final_layer=nn.Parameter(torch.tensor([[.1,.2,.3,1.0]]))\n",
    "        self.optimizer = optim.Adam(self.parameters(),lr=lr)\n",
    "    def forward(self, x):\n",
    "        y_default=self.y_default.repeat(x.size(0),1)\n",
    "        out = self.final_layer.weight.repeat(x.size(0), 1)  # Start from the final layer\n",
    "\n",
    "        for i in range(self.num_layers - 1, -1, -1):\n",
    "            phi=self.phi[i].repeat(x.size(0),1)\n",
    "            beta=self.beta[i]\n",
    "            out = F.sigmoid(1 / (1 + torch.exp(x@beta - phi))) * out\n",
    "            if i == self.num_layers - 1:\n",
    "                out += (1 - F.sigmoid(1 / (1 + torch.exp(x@beta - phi)))) * y_default  # Add default output for final layer\n",
    "        return self.logsoftmax(out)\n"
   ]
  },
  {
   "cell_type": "code",
   "execution_count": null,
   "id": "c705f3fc-5f42-48eb-a451-64212b044a9d",
   "metadata": {
    "tags": []
   },
   "outputs": [],
   "source": [
    "def cust_loss(logprobs,labels,default_class=3):\n",
    "    loss=0\n",
    "    for lp,l in zip(logprobs,labels):\n",
    "        # print(torch.argmax(lp))\n",
    "        p=torch.argmax(lp)\n",
    "        if p!=default_class: loss+=lp[l]\n",
    "        else: loss+=lp[l]*0.0\n",
    "    return -loss"
   ]
  },
  {
   "cell_type": "raw",
   "id": "8d39afe7-45a3-4a39-91f2-b84e119ab46f",
   "metadata": {
    "tags": []
   },
   "source": [
    "from sklearn.datasets import load_iris\n",
    "from sklearn.model_selection import train_test_split\n",
    "from sklearn.metrics import accuracy_score\n",
    "\n",
    "# Load the Iris dataset\n",
    "iris = load_iris()\n",
    "data = iris.data\n",
    "target = iris.target\n",
    "\n",
    "# Split the data into training and testing sets\n",
    "X_train, X_test, y_train, y_test = train_test_split(data, target, test_size=0.2, random_state=42)\n"
   ]
  },
  {
   "cell_type": "raw",
   "id": "50cf6148-4b28-4f8f-bf96-8cb5bf178e4e",
   "metadata": {
    "tags": []
   },
   "source": [
    "dr=DiffRule(4,4,3,3)"
   ]
  },
  {
   "cell_type": "raw",
   "id": "9b9ea8e5-ef34-4ae4-973b-edb6721da085",
   "metadata": {
    "tags": []
   },
   "source": [
    "cust_loss(dr(MyDS(X_train,y_train).samples),MyDS(X_train,y_train).labels)"
   ]
  },
  {
   "cell_type": "raw",
   "id": "c2ff4151-e5e7-455e-8d6f-c7b7984e45a9",
   "metadata": {
    "tags": []
   },
   "source": [
    "dsloader = torch.utils.data.DataLoader(dataset=MyDS(X_train,y_train),batch_size=4,shuffle=True)"
   ]
  },
  {
   "cell_type": "raw",
   "id": "09bebad1-6d5a-4a32-9d2c-6d308f93748e",
   "metadata": {
    "tags": []
   },
   "source": [
    "dr=Train(dr,dsloader,verbose=True,epochs=100,Loss=cust_loss)[0]"
   ]
  },
  {
   "cell_type": "raw",
   "id": "905413e4-67cf-47a6-8f88-effde9d7e68b",
   "metadata": {
    "tags": []
   },
   "source": [
    "dr.final_layer"
   ]
  },
  {
   "cell_type": "raw",
   "id": "ad3dcc3e-1eed-44e1-832b-9cc64b6d510c",
   "metadata": {
    "tags": []
   },
   "source": [
    "dr(MyDS(X_train,y_train).samples)"
   ]
  },
  {
   "cell_type": "code",
   "execution_count": null,
   "id": "7b9ba9f7-69fd-463f-a2e4-ba50ddfb010f",
   "metadata": {},
   "outputs": [],
   "source": []
  }
 ],
 "metadata": {
  "kernelspec": {
   "display_name": "Python 3 (ipykernel)",
   "language": "python",
   "name": "python3"
  },
  "language_info": {
   "codemirror_mode": {
    "name": "ipython",
    "version": 3
   },
   "file_extension": ".py",
   "mimetype": "text/x-python",
   "name": "python",
   "nbconvert_exporter": "python",
   "pygments_lexer": "ipython3",
   "version": "3.8.12"
  }
 },
 "nbformat": 4,
 "nbformat_minor": 5
}
