{
 "cells": [
  {
   "cell_type": "code",
   "execution_count": 15,
   "id": "b1c454fe-9b80-42ee-814d-38883148fc9c",
   "metadata": {},
   "outputs": [],
   "source": [
    "OHLCV_COLS=['Open_n','High_n','Low_n','Close_n','Volume_n']\n",
    "TA_COLS=['SMA_10', 'SMA_20','VOL_SMA_20','RSI_14','BBL_5_2.0','BBM_5_2.0','BBU_5_2.0',\n",
    "       'BBB_5_2.0', 'BBP_5_2.0','MACD_12_26_9','MACDh_12_26_9','MACDs_12_26_9','VWAP_D',\n",
    "        'MOM_30','CMO_14']\n",
    "TA_COLS_MIN=['SMA_10', 'SMA_20','CMO_14']\n",
    "LOGICAL_FEATURES=['High_n-Low_n',\n",
    " 'Open_n-Close_n',\n",
    " 'SMA_20-SMA_10',\n",
    " 'Close_n_slope_3',\n",
    " 'Close_n_slope_5',\n",
    " 'Close_n_slope_10',\n",
    " 'Open_n_changelen',\n",
    " 'High_n_changelen',\n",
    " 'Low_n_changelen',\n",
    " 'Close_n_changelen',\n",
    " 'High_n-Low_n_changelen',\n",
    " 'Open_n-Close_n_changelen',\n",
    " 'SMA_20-SMA_10_changelen',\n",
    " 'Close_n_slope_3_changelen',\n",
    " 'Close_n_slope_5_changelen',\n",
    " 'Close_n_slope_10_changelen']\n",
    "GDIM=3\n",
    "MINCOLS=['row_num']+OHLCV_COLS+TA_COLS_MIN\n",
    "ALLCOLS=['row_num']+OHLCV_COLS+TA_COLS\n",
    "MINLOG=['row_num']+OHLCV_COLS+TA_COLS_MIN+LOGICAL_FEATURES\n",
    "ALLLOG=['row_num']+OHLCV_COLS+TA_COLS+LOGICAL_FEATURES\n",
    "LOGCOLS=['row_num']+OHLCV_COLS+LOGICAL_FEATURES\n",
    "USE_COLS_DICT={'allcols':ALLCOLS,'mincols':MINCOLS,'minlog':MINLOG,\n",
    "           'alllog':ALLLOG,'logcols':LOGCOLS}"
   ]
  },
  {
   "cell_type": "code",
   "execution_count": null,
   "id": "79f32830-f7f5-4214-b150-4b2639008280",
   "metadata": {},
   "outputs": [],
   "source": [
    "# Proxy classes for Algofin feed classes\n",
    "class DataFeed():\n",
    "    def __init__(self):\n",
    "        pass\n",
    "class BackFeed():\n",
    "    def __init__(self):\n",
    "        pass"
   ]
  }
 ],
 "metadata": {
  "kernelspec": {
   "display_name": "Python 3 (ipykernel)",
   "language": "python",
   "name": "python3"
  },
  "language_info": {
   "codemirror_mode": {
    "name": "ipython",
    "version": 3
   },
   "file_extension": ".py",
   "mimetype": "text/x-python",
   "name": "python",
   "nbconvert_exporter": "python",
   "pygments_lexer": "ipython3",
   "version": "3.8.12"
  }
 },
 "nbformat": 4,
 "nbformat_minor": 5
}
